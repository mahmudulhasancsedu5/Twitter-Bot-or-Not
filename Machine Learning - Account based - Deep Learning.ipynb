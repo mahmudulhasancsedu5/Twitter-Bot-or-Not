{
 "cells": [
  {
   "cell_type": "code",
   "execution_count": 1,
   "metadata": {},
   "outputs": [],
   "source": [
    "import pandas as pd\n",
    "import numpy as np\n",
    "import math\n",
    "\n",
    "from tensorflow.keras.layers import Embedding, Dense, LSTM, Dense, Input, concatenate\n",
    "from tensorflow.keras.models import Model\n",
    "from tensorflow.keras.utils import plot_model\n",
    "\n",
    "from tensorflow.keras.preprocessing.text import Tokenizer\n",
    "from tensorflow.keras.preprocessing.sequence import pad_sequences"
   ]
  },
  {
   "cell_type": "code",
   "execution_count": 2,
   "metadata": {
    "scrolled": true
   },
   "outputs": [],
   "source": [
    "bot_accounts = pd.concat([pd.read_csv('data/social_spambots_1.csv'), pd.read_csv('data/social_spambots_2.csv'), pd.read_csv('data/social_spambots_3.csv')]).reset_index(drop=True)\n",
    "clean_accounts = pd.read_csv('data/geniune_accounts.csv')\n",
    "\n",
    "requiredColumns = ['screen_name', 'created_at', 'updated', 'location', 'verified', 'statuses_count', 'friends_count','followers_count', 'favourites_count', 'default_profile_image', 'profile_use_background_image', 'protected', 'default_profile']\n",
    "bot_accounts = bot_accounts[requiredColumns]\n",
    "clean_accounts = clean_accounts[requiredColumns]"
   ]
  },
  {
   "cell_type": "code",
   "execution_count": 3,
   "metadata": {
    "scrolled": false
   },
   "outputs": [
    {
     "name": "stdout",
     "output_type": "stream",
     "text": [
      "clear_accounts num: 45162, bot_account_num: 63856\n"
     ]
    },
    {
     "data": {
      "text/plain": [
       "screen_name                      object\n",
       "created_at                       object\n",
       "updated                          object\n",
       "location                         object\n",
       "verified                        float64\n",
       "statuses_count                    int64\n",
       "friends_count                     int64\n",
       "followers_count                   int64\n",
       "favourites_count                  int64\n",
       "default_profile_image           float64\n",
       "profile_use_background_image    float64\n",
       "protected                       float64\n",
       "default_profile                 float64\n",
       "dtype: object"
      ]
     },
     "execution_count": 3,
     "metadata": {},
     "output_type": "execute_result"
    }
   ],
   "source": [
    "print(\"clear_accounts num: {}, bot_account_num: {}\".format(clean_accounts.size, bot_accounts.size))\n",
    "bot_accounts.dtypes"
   ]
  },
  {
   "cell_type": "code",
   "execution_count": 4,
   "metadata": {},
   "outputs": [],
   "source": [
    "def clean_df(df):\n",
    "    type(df)\n",
    "    df['created_at'] = pd.to_datetime(df['created_at']).dt.tz_localize(None)\n",
    "    df['updated'] = pd.to_datetime(df['updated']).dt.tz_localize(None)\n",
    "    df['age'] = (df['updated'] - df['created_at']).astype('timedelta64[D]').astype(int)\n",
    "    df['has_location'] = df['location'].apply(lambda x: 0 if x==x else 1)\n",
    "    df['has_avatar'] = df['default_profile_image'].apply(lambda x: 1 if x==x else 0)\n",
    "    df['has_background'] = df['profile_use_background_image'].apply(lambda x: 1 if x==x else 0)\n",
    "    df['is_verified']=df['verified'].apply(lambda x: 1 if x==x else 0)\n",
    "    df['is_protected']=df['protected'].apply(lambda x: 1 if x==x else 0)\n",
    "    df['profile_modified'] = df['default_profile'].apply(lambda x: 0 if x==x else 1)\n",
    "    df = df.rename(index=str, columns={\"screen_name\": \"username\", \"statuses_count\": \"total_tweets\", \"friends_count\": \"total_following\", \"followers_count\": \"total_followers\", \"favourites_count\": \"total_likes\"})\n",
    "    return df[['username', 'age', 'has_location', 'is_verified', 'total_tweets', 'total_following', 'total_followers', 'total_likes', 'has_avatar', 'has_background', 'is_protected', 'profile_modified']]\n",
    "\n",
    "bot_accounts = clean_df(bot_accounts)\n",
    "clean_accounts = clean_df(clean_accounts)"
   ]
  },
  {
   "cell_type": "code",
   "execution_count": 5,
   "metadata": {},
   "outputs": [
    {
     "data": {
      "text/plain": [
       "username            object\n",
       "age                  int32\n",
       "has_location         int64\n",
       "is_verified          int64\n",
       "total_tweets         int64\n",
       "total_following      int64\n",
       "total_followers      int64\n",
       "total_likes          int64\n",
       "has_avatar           int64\n",
       "has_background       int64\n",
       "is_protected         int64\n",
       "profile_modified     int64\n",
       "dtype: object"
      ]
     },
     "execution_count": 5,
     "metadata": {},
     "output_type": "execute_result"
    }
   ],
   "source": [
    "bot_accounts.dtypes"
   ]
  },
  {
   "cell_type": "code",
   "execution_count": 6,
   "metadata": {},
   "outputs": [
    {
     "data": {
      "text/html": [
       "<div>\n",
       "<style scoped>\n",
       "    .dataframe tbody tr th:only-of-type {\n",
       "        vertical-align: middle;\n",
       "    }\n",
       "\n",
       "    .dataframe tbody tr th {\n",
       "        vertical-align: top;\n",
       "    }\n",
       "\n",
       "    .dataframe thead th {\n",
       "        text-align: right;\n",
       "    }\n",
       "</style>\n",
       "<table border=\"1\" class=\"dataframe\">\n",
       "  <thead>\n",
       "    <tr style=\"text-align: right;\">\n",
       "      <th></th>\n",
       "      <th>username</th>\n",
       "      <th>age</th>\n",
       "      <th>has_location</th>\n",
       "      <th>is_verified</th>\n",
       "      <th>total_tweets</th>\n",
       "      <th>total_following</th>\n",
       "      <th>total_followers</th>\n",
       "      <th>total_likes</th>\n",
       "      <th>has_avatar</th>\n",
       "      <th>has_background</th>\n",
       "      <th>is_protected</th>\n",
       "      <th>profile_modified</th>\n",
       "    </tr>\n",
       "  </thead>\n",
       "  <tbody>\n",
       "    <tr>\n",
       "      <th>0</th>\n",
       "      <td>davideb66</td>\n",
       "      <td>2555</td>\n",
       "      <td>1</td>\n",
       "      <td>0</td>\n",
       "      <td>1299</td>\n",
       "      <td>40</td>\n",
       "      <td>22</td>\n",
       "      <td>1</td>\n",
       "      <td>1</td>\n",
       "      <td>1</td>\n",
       "      <td>0</td>\n",
       "      <td>0</td>\n",
       "    </tr>\n",
       "    <tr>\n",
       "      <th>1</th>\n",
       "      <td>ElisaDospina</td>\n",
       "      <td>2521</td>\n",
       "      <td>0</td>\n",
       "      <td>0</td>\n",
       "      <td>18665</td>\n",
       "      <td>3442</td>\n",
       "      <td>12561</td>\n",
       "      <td>16358</td>\n",
       "      <td>0</td>\n",
       "      <td>1</td>\n",
       "      <td>0</td>\n",
       "      <td>1</td>\n",
       "    </tr>\n",
       "    <tr>\n",
       "      <th>2</th>\n",
       "      <td>Vladimir65</td>\n",
       "      <td>2497</td>\n",
       "      <td>0</td>\n",
       "      <td>0</td>\n",
       "      <td>22987</td>\n",
       "      <td>755</td>\n",
       "      <td>600</td>\n",
       "      <td>14</td>\n",
       "      <td>0</td>\n",
       "      <td>1</td>\n",
       "      <td>0</td>\n",
       "      <td>1</td>\n",
       "    </tr>\n",
       "    <tr>\n",
       "      <th>3</th>\n",
       "      <td>RafielaMorales</td>\n",
       "      <td>2435</td>\n",
       "      <td>0</td>\n",
       "      <td>0</td>\n",
       "      <td>7975</td>\n",
       "      <td>350</td>\n",
       "      <td>398</td>\n",
       "      <td>11</td>\n",
       "      <td>0</td>\n",
       "      <td>1</td>\n",
       "      <td>0</td>\n",
       "      <td>1</td>\n",
       "    </tr>\n",
       "    <tr>\n",
       "      <th>4</th>\n",
       "      <td>FabrizioC_c</td>\n",
       "      <td>2413</td>\n",
       "      <td>0</td>\n",
       "      <td>0</td>\n",
       "      <td>20218</td>\n",
       "      <td>405</td>\n",
       "      <td>413</td>\n",
       "      <td>162</td>\n",
       "      <td>0</td>\n",
       "      <td>1</td>\n",
       "      <td>0</td>\n",
       "      <td>1</td>\n",
       "    </tr>\n",
       "  </tbody>\n",
       "</table>\n",
       "</div>"
      ],
      "text/plain": [
       "         username   age  has_location  is_verified  total_tweets  \\\n",
       "0       davideb66  2555             1            0          1299   \n",
       "1    ElisaDospina  2521             0            0         18665   \n",
       "2      Vladimir65  2497             0            0         22987   \n",
       "3  RafielaMorales  2435             0            0          7975   \n",
       "4     FabrizioC_c  2413             0            0         20218   \n",
       "\n",
       "   total_following  total_followers  total_likes  has_avatar  has_background  \\\n",
       "0               40               22            1           1               1   \n",
       "1             3442            12561        16358           0               1   \n",
       "2              755              600           14           0               1   \n",
       "3              350              398           11           0               1   \n",
       "4              405              413          162           0               1   \n",
       "\n",
       "   is_protected  profile_modified  \n",
       "0             0                 0  \n",
       "1             0                 1  \n",
       "2             0                 1  \n",
       "3             0                 1  \n",
       "4             0                 1  "
      ]
     },
     "execution_count": 6,
     "metadata": {},
     "output_type": "execute_result"
    }
   ],
   "source": [
    "bot_accounts.head()"
   ]
  },
  {
   "cell_type": "code",
   "execution_count": 7,
   "metadata": {},
   "outputs": [
    {
     "data": {
      "text/plain": [
       "username            object\n",
       "age                  int32\n",
       "has_location         int64\n",
       "is_verified          int64\n",
       "total_tweets         int64\n",
       "total_following      int64\n",
       "total_followers      int64\n",
       "total_likes          int64\n",
       "has_avatar           int64\n",
       "has_background       int64\n",
       "is_protected         int64\n",
       "profile_modified     int64\n",
       "dtype: object"
      ]
     },
     "execution_count": 7,
     "metadata": {},
     "output_type": "execute_result"
    }
   ],
   "source": [
    "clean_accounts.dtypes"
   ]
  },
  {
   "cell_type": "code",
   "execution_count": 8,
   "metadata": {},
   "outputs": [
    {
     "data": {
      "text/html": [
       "<div>\n",
       "<style scoped>\n",
       "    .dataframe tbody tr th:only-of-type {\n",
       "        vertical-align: middle;\n",
       "    }\n",
       "\n",
       "    .dataframe tbody tr th {\n",
       "        vertical-align: top;\n",
       "    }\n",
       "\n",
       "    .dataframe thead th {\n",
       "        text-align: right;\n",
       "    }\n",
       "</style>\n",
       "<table border=\"1\" class=\"dataframe\">\n",
       "  <thead>\n",
       "    <tr style=\"text-align: right;\">\n",
       "      <th></th>\n",
       "      <th>username</th>\n",
       "      <th>age</th>\n",
       "      <th>has_location</th>\n",
       "      <th>is_verified</th>\n",
       "      <th>total_tweets</th>\n",
       "      <th>total_following</th>\n",
       "      <th>total_followers</th>\n",
       "      <th>total_likes</th>\n",
       "      <th>has_avatar</th>\n",
       "      <th>has_background</th>\n",
       "      <th>is_protected</th>\n",
       "      <th>profile_modified</th>\n",
       "    </tr>\n",
       "  </thead>\n",
       "  <tbody>\n",
       "    <tr>\n",
       "      <th>0</th>\n",
       "      <td>0918Bask</td>\n",
       "      <td>1008</td>\n",
       "      <td>0</td>\n",
       "      <td>0</td>\n",
       "      <td>2177</td>\n",
       "      <td>332</td>\n",
       "      <td>208</td>\n",
       "      <td>265</td>\n",
       "      <td>0</td>\n",
       "      <td>0</td>\n",
       "      <td>0</td>\n",
       "      <td>1</td>\n",
       "    </tr>\n",
       "    <tr>\n",
       "      <th>1</th>\n",
       "      <td>1120Roll</td>\n",
       "      <td>672</td>\n",
       "      <td>0</td>\n",
       "      <td>0</td>\n",
       "      <td>2660</td>\n",
       "      <td>485</td>\n",
       "      <td>330</td>\n",
       "      <td>3972</td>\n",
       "      <td>0</td>\n",
       "      <td>1</td>\n",
       "      <td>0</td>\n",
       "      <td>0</td>\n",
       "    </tr>\n",
       "    <tr>\n",
       "      <th>2</th>\n",
       "      <td>14KBBrown</td>\n",
       "      <td>1776</td>\n",
       "      <td>1</td>\n",
       "      <td>0</td>\n",
       "      <td>1254</td>\n",
       "      <td>177</td>\n",
       "      <td>166</td>\n",
       "      <td>1185</td>\n",
       "      <td>0</td>\n",
       "      <td>1</td>\n",
       "      <td>0</td>\n",
       "      <td>1</td>\n",
       "    </tr>\n",
       "    <tr>\n",
       "      <th>3</th>\n",
       "      <td>wadespeters</td>\n",
       "      <td>2006</td>\n",
       "      <td>0</td>\n",
       "      <td>0</td>\n",
       "      <td>202968</td>\n",
       "      <td>981</td>\n",
       "      <td>2248</td>\n",
       "      <td>60304</td>\n",
       "      <td>0</td>\n",
       "      <td>1</td>\n",
       "      <td>0</td>\n",
       "      <td>1</td>\n",
       "    </tr>\n",
       "    <tr>\n",
       "      <th>4</th>\n",
       "      <td>191a5bd05da04dc</td>\n",
       "      <td>403</td>\n",
       "      <td>0</td>\n",
       "      <td>0</td>\n",
       "      <td>82</td>\n",
       "      <td>79</td>\n",
       "      <td>21</td>\n",
       "      <td>5</td>\n",
       "      <td>0</td>\n",
       "      <td>1</td>\n",
       "      <td>0</td>\n",
       "      <td>0</td>\n",
       "    </tr>\n",
       "  </tbody>\n",
       "</table>\n",
       "</div>"
      ],
      "text/plain": [
       "          username   age  has_location  is_verified  total_tweets  \\\n",
       "0         0918Bask  1008             0            0          2177   \n",
       "1         1120Roll   672             0            0          2660   \n",
       "2        14KBBrown  1776             1            0          1254   \n",
       "3      wadespeters  2006             0            0        202968   \n",
       "4  191a5bd05da04dc   403             0            0            82   \n",
       "\n",
       "   total_following  total_followers  total_likes  has_avatar  has_background  \\\n",
       "0              332              208          265           0               0   \n",
       "1              485              330         3972           0               1   \n",
       "2              177              166         1185           0               1   \n",
       "3              981             2248        60304           0               1   \n",
       "4               79               21            5           0               1   \n",
       "\n",
       "   is_protected  profile_modified  \n",
       "0             0                 1  \n",
       "1             0                 0  \n",
       "2             0                 1  \n",
       "3             0                 1  \n",
       "4             0                 0  "
      ]
     },
     "execution_count": 8,
     "metadata": {},
     "output_type": "execute_result"
    }
   ],
   "source": [
    "clean_accounts.head()"
   ]
  },
  {
   "cell_type": "code",
   "execution_count": 9,
   "metadata": {},
   "outputs": [],
   "source": [
    "bot_accounts['BotOrNot'] = 1\n",
    "clean_accounts['BotOrNot'] = 0\n",
    "\n",
    "combined_df = pd.concat([bot_accounts, clean_accounts])\n",
    "\n",
    "new_df = combined_df.sample(frac=1).reset_index(drop=True)"
   ]
  },
  {
   "cell_type": "code",
   "execution_count": 10,
   "metadata": {},
   "outputs": [],
   "source": [
    "training_df = new_df.drop('username', axis=1)[:int(combined_df.shape[0] * 0.8)]\n",
    "test_df = new_df.drop('username', axis=1)[int(combined_df.shape[0] * 0.8):]\n",
    "\n",
    "columns_to_standardize = ['age', 'total_tweets', 'total_following', 'total_followers', 'total_likes']\n",
    "\n",
    "training_df_mean = training_df[columns_to_standardize].mean()\n",
    "training_df_std = training_df[columns_to_standardize].std()\n",
    "\n",
    "training_df[columns_to_standardize] = (training_df[columns_to_standardize] - training_df_mean)/training_df_std\n",
    "test_df[columns_to_standardize] = (test_df[columns_to_standardize] - training_df_mean)/training_df_std\n",
    "\n",
    "# training_df_mean = training_df.mean()\n",
    "# training_df_std = training_df.std()\n",
    "\n",
    "# training_df = (training_df - training_df_mean)/training_df_std\n",
    "# test_df = (test_df - training_df_mean)/training_df_std\n",
    "\n",
    "# max_vals = training_df.max()\n",
    "\n",
    "# training_df = training_df/max_vals\n",
    "# test_df = test_df/max_vals"
   ]
  },
  {
   "cell_type": "code",
   "execution_count": 11,
   "metadata": {},
   "outputs": [],
   "source": [
    "X_train = training_df.drop(['BotOrNot', 'is_protected'], axis=1).values\n",
    "y_train = training_df['BotOrNot'].values.reshape(-1,1)\n",
    "\n",
    "X_test = test_df.drop(['BotOrNot', 'is_protected'], axis=1).values\n",
    "y_test = test_df['BotOrNot'].values.reshape(-1,1)"
   ]
  },
  {
   "cell_type": "code",
   "execution_count": 12,
   "metadata": {},
   "outputs": [],
   "source": [
    "inp = Input(shape=[10])\n",
    "\n",
    "another = Dense(500, activation='relu')(inp)\n",
    "another = Dense(200, activation='relu')(another)\n",
    "another = Dense(1, activation='sigmoid')(another)\n",
    "\n",
    "mod = Model(inp, another)\n",
    "mod.compile(optimizer='adam', loss='binary_crossentropy', metrics=['accuracy'])"
   ]
  },
  {
   "cell_type": "code",
   "execution_count": 13,
   "metadata": {},
   "outputs": [
    {
     "name": "stdout",
     "output_type": "stream",
     "text": [
      "Epoch 1/20\n",
      "105/105 [==============================] - 1s 6ms/step - loss: 0.2597 - accuracy: 0.9070 - val_loss: 0.1563 - val_accuracy: 0.9571\n",
      "Epoch 2/20\n",
      "105/105 [==============================] - 0s 4ms/step - loss: 0.1328 - accuracy: 0.9603 - val_loss: 0.1205 - val_accuracy: 0.9648\n",
      "Epoch 3/20\n",
      "105/105 [==============================] - 1s 6ms/step - loss: 0.1062 - accuracy: 0.9656 - val_loss: 0.1072 - val_accuracy: 0.9678\n",
      "Epoch 4/20\n",
      "105/105 [==============================] - 0s 5ms/step - loss: 0.0947 - accuracy: 0.9697 - val_loss: 0.0942 - val_accuracy: 0.9708\n",
      "Epoch 5/20\n",
      "105/105 [==============================] - 0s 4ms/step - loss: 0.0887 - accuracy: 0.9724 - val_loss: 0.0949 - val_accuracy: 0.9744\n",
      "Epoch 6/20\n",
      "105/105 [==============================] - 0s 4ms/step - loss: 0.0795 - accuracy: 0.9748 - val_loss: 0.0814 - val_accuracy: 0.9726\n",
      "Epoch 7/20\n",
      "105/105 [==============================] - 0s 5ms/step - loss: 0.0787 - accuracy: 0.9741 - val_loss: 0.1049 - val_accuracy: 0.9654\n",
      "Epoch 8/20\n",
      "105/105 [==============================] - 0s 5ms/step - loss: 0.0848 - accuracy: 0.9748 - val_loss: 0.1120 - val_accuracy: 0.9720\n",
      "Epoch 9/20\n",
      "105/105 [==============================] - 0s 4ms/step - loss: 0.0796 - accuracy: 0.9733 - val_loss: 0.1167 - val_accuracy: 0.9744\n",
      "Epoch 10/20\n",
      "105/105 [==============================] - 0s 4ms/step - loss: 0.0728 - accuracy: 0.9753 - val_loss: 0.0800 - val_accuracy: 0.9768\n",
      "Epoch 11/20\n",
      "105/105 [==============================] - 0s 4ms/step - loss: 0.0687 - accuracy: 0.9784 - val_loss: 0.0991 - val_accuracy: 0.9726\n",
      "Epoch 12/20\n",
      "105/105 [==============================] - 0s 4ms/step - loss: 0.0666 - accuracy: 0.9799 - val_loss: 0.0737 - val_accuracy: 0.9762\n",
      "Epoch 13/20\n",
      "105/105 [==============================] - 0s 4ms/step - loss: 0.0644 - accuracy: 0.9782 - val_loss: 0.0803 - val_accuracy: 0.9750\n",
      "Epoch 14/20\n",
      "105/105 [==============================] - 0s 5ms/step - loss: 0.0662 - accuracy: 0.9778 - val_loss: 0.0770 - val_accuracy: 0.9779\n",
      "Epoch 15/20\n",
      "105/105 [==============================] - 0s 4ms/step - loss: 0.0638 - accuracy: 0.9782 - val_loss: 0.0868 - val_accuracy: 0.9762\n",
      "Epoch 16/20\n",
      "105/105 [==============================] - 0s 4ms/step - loss: 0.0605 - accuracy: 0.9797 - val_loss: 0.0783 - val_accuracy: 0.9756\n",
      "Epoch 17/20\n",
      "105/105 [==============================] - 0s 4ms/step - loss: 0.0591 - accuracy: 0.9814 - val_loss: 0.0796 - val_accuracy: 0.9720\n",
      "Epoch 18/20\n",
      "105/105 [==============================] - 0s 4ms/step - loss: 0.0541 - accuracy: 0.9815 - val_loss: 0.0744 - val_accuracy: 0.9768\n",
      "Epoch 19/20\n",
      "105/105 [==============================] - 0s 4ms/step - loss: 0.0594 - accuracy: 0.9800 - val_loss: 0.0826 - val_accuracy: 0.9779\n",
      "Epoch 20/20\n",
      "105/105 [==============================] - 0s 4ms/step - loss: 0.0583 - accuracy: 0.9811 - val_loss: 0.0822 - val_accuracy: 0.9768\n"
     ]
    }
   ],
   "source": [
    "training = mod.fit(x=X_train, y=y_train, batch_size=64, epochs=20, validation_data=(X_test, y_test))"
   ]
  },
  {
   "cell_type": "code",
   "execution_count": 14,
   "metadata": {},
   "outputs": [],
   "source": [
    "mod.save('my_model.h5')"
   ]
  },
  {
   "cell_type": "code",
   "execution_count": 15,
   "metadata": {},
   "outputs": [
    {
     "name": "stdout",
     "output_type": "stream",
     "text": [
      "53/53 [==============================] - 0s 2ms/step\n",
      "accuracy: 0.9678188319427891, abs_error: 0.03218116805721097, squared error: 0.03218116805721097\n"
     ]
    }
   ],
   "source": [
    "# evaluate model\n",
    "from sklearn.metrics import mean_absolute_error\n",
    "from sklearn.metrics import mean_squared_error\n",
    "from sklearn.metrics import accuracy_score\n",
    "\n",
    "pred_result = mod.predict(X_test)\n",
    "for val in pred_result:\n",
    "    val[0] = val[0] / 0.5\n",
    "    val[0] = int(val[0])\n",
    "    \n",
    "\n",
    "acu = accuracy_score(y_test, pred_result)\n",
    "abs_error = mean_absolute_error(y_test, pred_result)\n",
    "squared_error = mean_squared_error(y_test, pred_result)\n",
    "\n",
    "print(\"accuracy: {}, abs_error: {}, squared error: {}\".format(acu, abs_error, squared_error))"
   ]
  },
  {
   "cell_type": "code",
   "execution_count": null,
   "metadata": {},
   "outputs": [],
   "source": []
  }
 ],
 "metadata": {
  "anaconda-cloud": {},
  "kernelspec": {
   "display_name": "Python 3 (ipykernel)",
   "language": "python",
   "name": "python3"
  },
  "language_info": {
   "codemirror_mode": {
    "name": "ipython",
    "version": 3
   },
   "file_extension": ".py",
   "mimetype": "text/x-python",
   "name": "python",
   "nbconvert_exporter": "python",
   "pygments_lexer": "ipython3",
   "version": "3.10.6"
  }
 },
 "nbformat": 4,
 "nbformat_minor": 2
}
