{
 "cells": [
  {
   "cell_type": "code",
   "execution_count": 13,
   "id": "535a8c7e",
   "metadata": {},
   "outputs": [
    {
     "data": {
      "text/plain": [
       "'C:\\\\Users\\\\USER\\\\AppData\\\\Local\\\\Programs\\\\Python\\\\Python310\\\\Lib\\\\site-packages\\\\pyspark'"
      ]
     },
     "execution_count": 13,
     "metadata": {},
     "output_type": "execute_result"
    }
   ],
   "source": [
    "#libraries / dependencies\n",
    "import glob\n",
    "from preprocessor import api as tweet_preprocessor\n",
    "\n",
    "import numpy as np\n",
    "import math\n",
    "import random\n",
    "\n",
    "from pyspark.sql import SparkSession\n",
    "from pyspark.conf import SparkConf\n",
    "from pyspark.context import SparkContext\n",
    "\n",
    "from pyspark.sql.functions import col, udf, to_timestamp, lit, to_timestamp, when, rand\n",
    "from pyspark.sql.types import IntegerType, LongType, DoubleType, StringType, ArrayType\n",
    "from pyspark.ml.feature import Normalizer, StandardScaler, MinMaxScaler, VectorAssembler\n",
    "\n",
    "import tensorflow as tf\n",
    "from tensorflow.keras import Input\n",
    "from tensorflow.keras.layers import Embedding, Dense, LSTM, Dense, Input, concatenate, Dropout, Activation, BatchNormalization\n",
    "from tensorflow.keras.models import Model, Sequential\n",
    "from tensorflow.keras.utils import plot_model\n",
    "from tensorflow.keras.optimizers import SGD, Adam\n",
    "\n",
    "from tensorflow.keras.preprocessing.text import Tokenizer\n",
    "from tensorflow.keras.preprocessing.sequence import pad_sequences\n",
    "from tensorflow.keras.losses import MeanSquaredError, CategoricalCrossentropy\n",
    "\n",
    "import findspark\n",
    "\n",
    "findspark.init()\n",
    "findspark.find()\n"
   ]
  },
  {
   "cell_type": "code",
   "execution_count": 14,
   "id": "c719a4b0",
   "metadata": {},
   "outputs": [],
   "source": [
    "#Dataset location\n",
    "\n",
    "#Local\n",
    "bot_tweets_dataset_path = 'F://TwitterBotDataset//tweet_dataset_full//bot_tweets//'\n",
    "genuine_tweets_dataset_path = 'F://TwitterBotDataset//tweet_dataset_full//genuine_tweets//'\n",
    "\n",
    "#S3\n",
    "# bot_tweets_dataset_path = 's3://tweet-dataset-small/bot_tweets' #'F://TwitterBotDataset//tweet_dataset_small//bot_tweets//'\n",
    "# genuine_tweets_dataset_path = 's3://tweet-dataset-small/genuine_tweets' #'F://TwitterBotDataset//tweet_dataset_small//genuine_tweets//'\n",
    "\n",
    "#turn a line of text into d dimentional vector \n",
    "GLOVE_DIR = \"\"\n",
    "\n",
    "#all columns\n",
    "BOT_COLUMNS = ['id','text','source','user_id','truncated','in_reply_to_status_id', \n",
    "               'in_reply_to_user_id','in_reply_to_screen_name', 'retweeted_status_id',\n",
    "               'geo','place','contributors','retweet_count', 'reply_count','favorite_count',\n",
    "               'favorited', 'retweeted','possibly_sensitive','num_hashtags','num_urls',\n",
    "               'num_mentions','created_at','timestamp','crawled_at', 'updated']\n",
    "\n",
    "GENUINE_COLUMNS = ['id','text','source','user_id','truncated','in_reply_to_status_id', \n",
    "                   'in_reply_to_user_id','in_reply_to_screen_name', 'retweeted_status_id',\n",
    "                   'geo','place','contributors','retweet_count', 'reply_count','favorite_count',\n",
    "                   'favorited', 'retweeted','possibly_sensitive','num_hashtags','num_urls',\n",
    "                   'num_mentions','REMOVE_IT', 'created_at','timestamp','crawled_at', 'updated',]\n",
    "\n",
    "#feature used for bot detection\n",
    "COLUMN_NAMES = ['text', 'retweet_count', 'reply_count', 'favorite_count',\n",
    "                'num_hashtags', 'num_urls', 'num_mentions']\n"
   ]
  },
  {
   "cell_type": "code",
   "execution_count": 15,
   "id": "2c642b53",
   "metadata": {},
   "outputs": [
    {
     "data": {
      "text/html": [
       "\n",
       "            <div>\n",
       "                <p><b>SparkSession - in-memory</b></p>\n",
       "                \n",
       "        <div>\n",
       "            <p><b>SparkContext</b></p>\n",
       "\n",
       "            <p><a href=\"http://DESKTOP-SRLISO7:4041\">Spark UI</a></p>\n",
       "\n",
       "            <dl>\n",
       "              <dt>Version</dt>\n",
       "                <dd><code>v3.3.0</code></dd>\n",
       "              <dt>Master</dt>\n",
       "                <dd><code>local[*]</code></dd>\n",
       "              <dt>AppName</dt>\n",
       "                <dd><code>ml_account_ base_session</code></dd>\n",
       "            </dl>\n",
       "        </div>\n",
       "        \n",
       "            </div>\n",
       "        "
      ],
      "text/plain": [
       "<pyspark.sql.session.SparkSession at 0x178796d0550>"
      ]
     },
     "execution_count": 15,
     "metadata": {},
     "output_type": "execute_result"
    }
   ],
   "source": [
    "# #configure spark\n",
    "# conf = SparkConf()\n",
    "# conf.setMaster(\"local[8]\").setAppName(\"ml_account_ base_session\")\n",
    "# conf.set(\"spark.executor.instances\", 4)\n",
    "# conf.set(\"spark.executor.cores\", 4)\n",
    "# conf.set(\"spark.driver.memory\", 4)\n",
    "# sc = SparkContext(conf=conf)\n",
    "\n",
    "# # init spark, configure spark\n",
    "# spark = SparkSession.builder.getOrCreate()\n",
    "# spark\n",
    "\n",
    "spark = SparkSession.builder.appName('preprocessing_dataset_session').getOrCreate()\n",
    "spark"
   ]
  },
  {
   "cell_type": "code",
   "execution_count": 16,
   "id": "659c7f67",
   "metadata": {},
   "outputs": [],
   "source": [
    "\n",
    "# read dataset from csv\n",
    "bot_tweets = spark.read.csv(bot_tweets_dataset_path, header = True, inferSchema = True)\n",
    "genuine_tweets = spark.read.csv(genuine_tweets_dataset_path, header = True, inferSchema = True)\n"
   ]
  },
  {
   "cell_type": "code",
   "execution_count": 17,
   "id": "fec118be",
   "metadata": {},
   "outputs": [
    {
     "data": {
      "text/plain": [
       "Row(id=532627591686275072, text='I Pooh - In silenzio 1968 http://t.co/ahvQxUqTws', source='\"<a href=\"\"http://www.facebook.com/twitter\"\" rel=\"\"nofollow\"\">Facebook</a>\"', user_id='24858289', truncated=None, in_reply_to_status_id='0', in_reply_to_user_id='0', in_reply_to_screen_name=None, retweeted_status_id='0', geo=None, place=None, contributors=None, retweet_count='0', reply_count='0', favorite_count=0, favorited=None, retweeted=None, possibly_sensitive=None, num_hashtags='0', num_urls='1', num_mentions='0', created_at='Wed Nov 12 20:14:48 +0000 2014', timestamp='2014-11-12 21:14:48', crawled_at='2014-11-12 21:44:09', updated='2014-11-12 21:44:09')"
      ]
     },
     "execution_count": 17,
     "metadata": {},
     "output_type": "execute_result"
    }
   ],
   "source": [
    "bot_tweets.head()"
   ]
  },
  {
   "cell_type": "code",
   "execution_count": 18,
   "id": "d0cd8c2c",
   "metadata": {},
   "outputs": [
    {
     "data": {
      "text/plain": [
       "Row(593932392663912449='593895316719423488', RT @morningJewshow: Speaking about Jews and comedy tonight at Temple Emanu-El in San Francisco. In other words, my High Holidays.=\"This age/face recognition thing..no reason platforms can't have changing avatars of our actual faces to increase affect/better communication\", <a href=\"http://tapbots.com/tweetbot\" rel=\"nofollow\">Tweetbot for iΟS</a>='<a href=\"http://twitter.com\" rel=\"nofollow\">Twitter Web Client</a>', 678033='678033', _c4=None, 05='0', 06='0', _c7=None, 593932168524533760='0', \\N9='\\\\N', \\N10='\\\\N', _c11=None, _c12=None, 113='0', 014='0', 015='0', _c16=None, _c17=None, \\N18='\\\\N', 019='0', 020='0', 121='0', Fri May 01 00:18:11 +0000 2015='Thu Apr 30 21:50:52 +0000 2015', 2015-05-01 02:18:11='2015-04-30 23:50:52', 2015-05-01 12:57:1924='2015-05-01 12:57:19', 2015-05-01 12:57:1925='2015-05-01 12:57:19')"
      ]
     },
     "execution_count": 18,
     "metadata": {},
     "output_type": "execute_result"
    }
   ],
   "source": [
    "genuine_tweets.head()"
   ]
  },
  {
   "cell_type": "code",
   "execution_count": 19,
   "id": "4b183de2",
   "metadata": {},
   "outputs": [
    {
     "data": {
      "text/plain": [
       "['id',\n",
       " 'text',\n",
       " 'source',\n",
       " 'user_id',\n",
       " 'truncated',\n",
       " 'in_reply_to_status_id',\n",
       " 'in_reply_to_user_id',\n",
       " 'in_reply_to_screen_name',\n",
       " 'retweeted_status_id',\n",
       " 'geo',\n",
       " 'place',\n",
       " 'contributors',\n",
       " 'retweet_count',\n",
       " 'reply_count',\n",
       " 'favorite_count',\n",
       " 'favorited',\n",
       " 'retweeted',\n",
       " 'possibly_sensitive',\n",
       " 'num_hashtags',\n",
       " 'num_urls',\n",
       " 'num_mentions',\n",
       " 'created_at',\n",
       " 'timestamp',\n",
       " 'crawled_at',\n",
       " 'updated']"
      ]
     },
     "execution_count": 19,
     "metadata": {},
     "output_type": "execute_result"
    }
   ],
   "source": [
    "bot_tweets.columns"
   ]
  },
  {
   "cell_type": "code",
   "execution_count": 21,
   "id": "2d9c6cdc",
   "metadata": {},
   "outputs": [
    {
     "data": {
      "text/plain": [
       "['593932392663912449',\n",
       " 'RT @morningJewshow: Speaking about Jews and comedy tonight at Temple Emanu-El in San Francisco. In other words, my High Holidays.',\n",
       " '<a href=\"http://tapbots.com/tweetbot\" rel=\"nofollow\">Tweetbot for iΟS</a>',\n",
       " '678033',\n",
       " '_c4',\n",
       " '05',\n",
       " '06',\n",
       " '_c7',\n",
       " '593932168524533760',\n",
       " '\\\\N9',\n",
       " '\\\\N10',\n",
       " '_c11',\n",
       " '_c12',\n",
       " '113',\n",
       " '014',\n",
       " '015',\n",
       " '_c16',\n",
       " '_c17',\n",
       " '\\\\N18',\n",
       " '019',\n",
       " '020',\n",
       " '121',\n",
       " 'Fri May 01 00:18:11 +0000 2015',\n",
       " '2015-05-01 02:18:11',\n",
       " '2015-05-01 12:57:1924',\n",
       " '2015-05-01 12:57:1925']"
      ]
     },
     "execution_count": 21,
     "metadata": {},
     "output_type": "execute_result"
    }
   ],
   "source": [
    "genuine_tweets.columns"
   ]
  },
  {
   "cell_type": "code",
   "execution_count": 22,
   "id": "97a2047a",
   "metadata": {},
   "outputs": [
    {
     "data": {
      "text/plain": [
       "(25, 26)"
      ]
     },
     "execution_count": 22,
     "metadata": {},
     "output_type": "execute_result"
    }
   ],
   "source": [
    "len(bot_tweets.columns), len(genuine_tweets.columns)"
   ]
  },
  {
   "cell_type": "code",
   "execution_count": 27,
   "id": "e7bb7acc",
   "metadata": {},
   "outputs": [
    {
     "name": "stdout",
     "output_type": "stream",
     "text": [
      "+------------------+---------------------------------------------------------------------------------------------------------------------------------+-------------------------------------------------------------------------+------+----+----+----+----+------------------+----+----+----+----+----+----+----+----+----+----+----+----+--------------------+------------------------------+-------------------+---------------------+---------------------+\n",
      "|593932392663912449|RT @morningJewshow: Speaking about Jews and comedy tonight at Temple Emanu-El in San Francisco. In other words, my High Holidays.|<a href=\"http://tapbots.com/tweetbot\" rel=\"nofollow\">Tweetbot for iΟS</a>|678033| _c4|  05|  06| _c7|593932168524533760| \\N9|\\N10|_c11|_c12| 113| 014| 015|_c16|_c17|\\N18| 019| 020|                 121|Fri May 01 00:18:11 +0000 2015|2015-05-01 02:18:11|2015-05-01 12:57:1924|2015-05-01 12:57:1925|\n",
      "+------------------+---------------------------------------------------------------------------------------------------------------------------------+-------------------------------------------------------------------------+------+----+----+----+----+------------------+----+----+----+----+----+----+----+----+----+----+----+----+--------------------+------------------------------+-------------------+---------------------+---------------------+\n",
      "|593895316719423488|                                                                                                             This age/face rec...|                                                     <a href=\"http://t...|678033|null|   0|   0|null|                 0|  \\N|  \\N|null|null|   0|   0|   0|null|null|  \\N|   0|   0|                   0|          Thu Apr 30 21:50:...|2015-04-30 23:50:52|  2015-05-01 12:57:19|  2015-05-01 12:57:19|\n",
      "|593880638069018624|                                                                                                             Only upside of th...|                                                                     null|  null|null|null|null|null|              null|null|null|null|null|null|null|null|null|null|null|null|null|                null|                          null|               null|                 null|                 null|\n",
      "|                 \\|                                                                                                                             null|                                                                     null|  null|null|null|null|null|              null|null|null|null|null|null|null|null|null|null|null|null|null|                null|                          null|               null|                 null|                 null|\n",
      "|              #fb\"|                                                                                                             <a href=\"http://t...|                                                                   678033|  null|   0|   0|null|   0|                \\N|  \\N|null|null|   0|   0|   0|null|null|  \\N|   2|   0|   0|Thu Apr 30 20:52:...|           2015-04-30 22:52:32|2015-05-01 12:57:19|  2015-05-01 12:57:19|                 null|\n",
      "|593847955536252928|                                                                                                             If you're going t...|                                                     <a href=\"http://t...|678033|null|   0|   0|null|                 0|  \\N|  \\N|null|null|   2|   0|   1|null|null|  \\N|   2|   0|                   0|          Thu Apr 30 18:42:...|2015-04-30 20:42:40|  2015-05-01 12:57:19|  2015-05-01 12:57:19|\n",
      "+------------------+---------------------------------------------------------------------------------------------------------------------------------+-------------------------------------------------------------------------+------+----+----+----+----+------------------+----+----+----+----+----+----+----+----+----+----+----+----+--------------------+------------------------------+-------------------+---------------------+---------------------+\n",
      "only showing top 5 rows\n",
      "\n"
     ]
    }
   ],
   "source": [
    "genuine_tweets.show(5)"
   ]
  },
  {
   "cell_type": "code",
   "execution_count": 28,
   "id": "3e7d57e9",
   "metadata": {
    "scrolled": true
   },
   "outputs": [
    {
     "name": "stdout",
     "output_type": "stream",
     "text": [
      "+------------------+--------------------+--------------------+--------+---------+---------------------+-------------------+-----------------------+-------------------+----+-----+------------+-------------+-----------+--------------+---------+---------+------------------+------------+--------+------------+--------------------+-------------------+-------------------+-------------------+\n",
      "|                id|                text|              source| user_id|truncated|in_reply_to_status_id|in_reply_to_user_id|in_reply_to_screen_name|retweeted_status_id| geo|place|contributors|retweet_count|reply_count|favorite_count|favorited|retweeted|possibly_sensitive|num_hashtags|num_urls|num_mentions|          created_at|          timestamp|         crawled_at|            updated|\n",
      "+------------------+--------------------+--------------------+--------+---------+---------------------+-------------------+-----------------------+-------------------+----+-----+------------+-------------+-----------+--------------+---------+---------+------------------+------------+--------+------------+--------------------+-------------------+-------------------+-------------------+\n",
      "|532627591686275072|I Pooh - In silen...|\"<a href=\"\"http:/...|24858289|     null|                    0|                  0|                   null|                  0|null| null|        null|            0|          0|             0|     null|     null|              null|           0|       1|           0|Wed Nov 12 20:14:...|2014-11-12 21:14:48|2014-11-12 21:44:09|2014-11-12 21:44:09|\n",
      "|532624255058706432|http://t.co/HyI5E...|\"<a href=\"\"http:/...|24858289|     null|                    0|                  0|                   null|                  0|null| null|        null|            0|          0|             0|     null|     null|              null|           0|       1|           0|Wed Nov 12 20:01:...|2014-11-12 21:01:32|2014-11-12 21:44:09|2014-11-12 21:44:09|\n",
      "|532513524460052480|Tutti a tavola, c...|\"<a href=\"\"http:/...|24858289|     null|                    0|                  0|                   null|                  0|null| null|        null|            0|          0|             0|     null|     null|              null|           0|       1|           0|Wed Nov 12 12:41:...|2014-11-12 13:41:32|2014-11-12 21:44:09|2014-11-12 21:44:09|\n",
      "|532297646669852672|http://t.co/NAHQ4...|\"<a href=\"\"http:/...|24858289|     null|                    0|                  0|                   null|                  0|null| null|        null|            0|          0|             0|     null|     null|              null|           0|       1|           0|Tue Nov 11 22:23:...|2014-11-11 23:23:43|2014-11-12 21:44:09|2014-11-12 21:44:09|\n",
      "|532295960807100416|Gold - Spandau Ba...|\"<a href=\"\"http:/...|24858289|     null|                    0|                  0|                   null|                  0|null| null|        null|            0|          0|             0|     null|     null|              null|           0|       1|           0|Tue Nov 11 22:17:...|2014-11-11 23:17:01|2014-11-12 21:44:09|2014-11-12 21:44:09|\n",
      "|531892406275543040|Le grandi variant...|\"<a href=\"\"http:/...|24858289|     null|                    0|                  0|                   null|                  0|null| null|        null|            0|          0|             1|     null|     null|              null|           0|       1|           0|Mon Nov 10 19:33:...|2014-11-10 20:33:26|2014-11-12 21:44:09|2014-11-12 21:44:09|\n",
      "|531892384221908992|http://t.co/5zjKT...|\"<a href=\"\"http:/...|24858289|     null|                    0|                  0|                   null|                  0|null| null|        null|            0|          0|             0|     null|     null|              null|           0|       1|           0|Mon Nov 10 19:33:...|2014-11-10 20:33:21|2014-11-12 21:44:09|2014-11-12 21:44:09|\n",
      "|531564612995788800|http://t.co/dNkWi...|\"<a href=\"\"http:/...|24858289|     null|                    0|                  0|                   null|                  0|null| null|        null|            0|          0|             0|     null|     null|              null|           0|       1|           0|Sun Nov 09 21:50:...|2014-11-09 22:50:54|2014-11-12 21:44:09|2014-11-12 21:44:09|\n",
      "|531205051705212928|Ruggero de I Timi...|\"<a href=\"\"http:/...|24858289|     null|                    0|                  0|                   null|                  0|null| null|        null|            0|          0|             0|     null|     null|              null|           0|       1|           0|Sat Nov 08 22:02:...|2014-11-08 23:02:08|2014-11-12 21:44:09|2014-11-12 21:44:09|\n",
      "|531204847358713857|Falco - Der Kommi...|\"<a href=\"\"http:/...|24858289|     null|                    0|                  0|                   null|                  0|null| null|        null|            0|          0|             0|     null|     null|              null|           0|       1|           0|Sat Nov 08 22:01:...|2014-11-08 23:01:19|2014-11-12 21:44:09|2014-11-12 21:44:09|\n",
      "+------------------+--------------------+--------------------+--------+---------+---------------------+-------------------+-----------------------+-------------------+----+-----+------------+-------------+-----------+--------------+---------+---------+------------------+------------+--------+------------+--------------------+-------------------+-------------------+-------------------+\n",
      "only showing top 10 rows\n",
      "\n"
     ]
    }
   ],
   "source": [
    "bot_tweets.show(10)"
   ]
  },
  {
   "cell_type": "code",
   "execution_count": 29,
   "id": "3cf73c16",
   "metadata": {},
   "outputs": [
    {
     "data": {
      "text/plain": [
       "3457133"
      ]
     },
     "execution_count": 29,
     "metadata": {},
     "output_type": "execute_result"
    }
   ],
   "source": [
    "bot_tweets.count()"
   ]
  },
  {
   "cell_type": "code",
   "execution_count": 30,
   "id": "cf28ff18",
   "metadata": {},
   "outputs": [
    {
     "data": {
      "text/plain": [
       "9401766"
      ]
     },
     "execution_count": 30,
     "metadata": {},
     "output_type": "execute_result"
    }
   ],
   "source": [
    "genuine_tweets.count()"
   ]
  },
  {
   "cell_type": "code",
   "execution_count": null,
   "id": "805fb969",
   "metadata": {},
   "outputs": [],
   "source": []
  }
 ],
 "metadata": {
  "kernelspec": {
   "display_name": "Python 3 (ipykernel)",
   "language": "python",
   "name": "python3"
  },
  "language_info": {
   "codemirror_mode": {
    "name": "ipython",
    "version": 3
   },
   "file_extension": ".py",
   "mimetype": "text/x-python",
   "name": "python",
   "nbconvert_exporter": "python",
   "pygments_lexer": "ipython3",
   "version": "3.10.6"
  }
 },
 "nbformat": 4,
 "nbformat_minor": 5
}
