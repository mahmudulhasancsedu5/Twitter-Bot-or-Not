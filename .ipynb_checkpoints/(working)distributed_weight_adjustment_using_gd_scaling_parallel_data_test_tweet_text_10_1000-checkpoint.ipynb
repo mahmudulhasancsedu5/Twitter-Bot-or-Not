{
 "cells": [
  {
   "cell_type": "code",
   "execution_count": 18,
   "id": "3561e6d1",
   "metadata": {},
   "outputs": [],
   "source": [
    "spark.stop()"
   ]
  }
 ],
 "metadata": {
  "kernelspec": {
   "display_name": "Python 3 (ipykernel)",
   "language": "python",
   "name": "python3"
  },
  "language_info": {
   "codemirror_mode": {
    "name": "ipython",
    "version": 3
   },
   "file_extension": ".py",
   "mimetype": "text/x-python",
   "name": "python",
   "nbconvert_exporter": "python",
   "pygments_lexer": "ipython3",
   "version": "3.10.6"
  }
 },
 "nbformat": 4,
 "nbformat_minor": 5
}
