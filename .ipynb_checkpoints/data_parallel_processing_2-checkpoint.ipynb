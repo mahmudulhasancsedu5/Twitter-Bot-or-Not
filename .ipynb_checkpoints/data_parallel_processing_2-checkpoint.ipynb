{
 "cells": [
  {
   "cell_type": "code",
   "execution_count": 1,
   "id": "00ec36ff",
   "metadata": {},
   "outputs": [],
   "source": [
    "#libraries / dependencies\n",
    "import numpy as np\n",
    "import math\n",
    "import random\n",
    "\n",
    "from pyspark.sql import SparkSession\n",
    "from pyspark.conf import SparkConf\n",
    "from pyspark.context import SparkContext\n",
    "\n",
    "from pyspark.sql.functions import col, udf, to_timestamp, lit, to_timestamp, when, rand\n",
    "from pyspark.sql.types import IntegerType, LongType, DoubleType, StringType, ArrayType\n",
    "from pyspark.ml.feature import Normalizer, StandardScaler, MinMaxScaler, VectorAssembler"
   ]
  },
  {
   "cell_type": "code",
   "execution_count": 2,
   "id": "b01ff1f9",
   "metadata": {},
   "outputs": [
    {
     "data": {
      "text/plain": [
       "'C:\\\\Users\\\\USER\\\\AppData\\\\Local\\\\Programs\\\\Python\\\\Python310\\\\Lib\\\\site-packages\\\\pyspark'"
      ]
     },
     "execution_count": 2,
     "metadata": {},
     "output_type": "execute_result"
    }
   ],
   "source": [
    "import findspark\n",
    "\n",
    "findspark.init()\n",
    "findspark.find()"
   ]
  },
  {
   "cell_type": "code",
   "execution_count": 3,
   "id": "7f26e399",
   "metadata": {},
   "outputs": [],
   "source": [
    "\n",
    "#Dataset location\n",
    "\n",
    "#Local\n",
    "bot_tweets_dataset_path = 'F://TwitterBotDataset//tweet_dataset_full//bot_tweets//'\n",
    "genuine_tweets_dataset_path = 'F://TwitterBotDataset//tweet_dataset_full//genuine_tweets//'\n",
    "#turn a line of text into d dimentional vector \n",
    "GLOVE_DIR = \"\"\n",
    "\n",
    "#all columns\n",
    "BOT_COLUMNS = ['id','text','source','user_id','truncated','in_reply_to_status_id', \n",
    "               'in_reply_to_user_id','in_reply_to_screen_name', 'retweeted_status_id',\n",
    "               'geo','place','contributors','retweet_count', 'reply_count','favorite_count',\n",
    "               'favorited', 'retweeted','possibly_sensitive','num_hashtags','num_urls',\n",
    "               'num_mentions','created_at','timestamp','crawled_at', 'updated']\n",
    "\n",
    "GENUINE_COLUMNS = ['id','text','source','user_id','truncated','in_reply_to_status_id', \n",
    "                   'in_reply_to_user_id','in_reply_to_screen_name', 'retweeted_status_id',\n",
    "                   'geo','place','contributors','retweet_count', 'reply_count','favorite_count',\n",
    "                   'favorited', 'retweeted','possibly_sensitive','num_hashtags','num_urls',\n",
    "                   'num_mentions','REMOVE_IT', 'created_at','timestamp','crawled_at', 'updated',]\n",
    "\n",
    "#feature used for bot detection\n",
    "COLUMN_NAMES = ['text', 'retweet_count', 'reply_count', 'favorite_count',\n",
    "                'num_hashtags', 'num_urls', 'num_mentions']"
   ]
  },
  {
   "cell_type": "code",
   "execution_count": 4,
   "id": "a69da28c",
   "metadata": {},
   "outputs": [
    {
     "data": {
      "text/html": [
       "\n",
       "            <div>\n",
       "                <p><b>SparkSession - in-memory</b></p>\n",
       "                \n",
       "        <div>\n",
       "            <p><b>SparkContext</b></p>\n",
       "\n",
       "            <p><a href=\"http://DESKTOP-SRLISO7:4040\">Spark UI</a></p>\n",
       "\n",
       "            <dl>\n",
       "              <dt>Version</dt>\n",
       "                <dd><code>v3.3.0</code></dd>\n",
       "              <dt>Master</dt>\n",
       "                <dd><code>local[10]</code></dd>\n",
       "              <dt>AppName</dt>\n",
       "                <dd><code>split_dataset_test_session</code></dd>\n",
       "            </dl>\n",
       "        </div>\n",
       "        \n",
       "            </div>\n",
       "        "
      ],
      "text/plain": [
       "<pyspark.sql.session.SparkSession at 0x1a87f3c7430>"
      ]
     },
     "execution_count": 4,
     "metadata": {},
     "output_type": "execute_result"
    }
   ],
   "source": [
    "#local multi thread spark thread\n",
    "conf = SparkConf()\n",
    "conf.setMaster(\"local[10]\").setAppName(\"split_dataset_test_session\")\n",
    "sc = SparkContext(conf=conf)\n",
    "spark = SparkSession.builder.getOrCreate()\n",
    "spark"
   ]
  },
  {
   "cell_type": "code",
   "execution_count": 6,
   "id": "76052b95",
   "metadata": {},
   "outputs": [],
   "source": [
    "# read dataset from csv\n",
    "def read_dataset():\n",
    "    bot_tweets = spark.read.csv(bot_tweets_dataset_path, header = True, inferSchema = True).limit(100)\n",
    "    genuine_tweets = spark.read.csv(genuine_tweets_dataset_path, header = True, inferSchema = True).limit(100)\n",
    "    \n",
    "#     print(len(bot_tweets.collect()), len(genuine_tweets.collect()))\n",
    "    return bot_tweets, genuine_tweets\n",
    "\n",
    "df_bot, df_gen = read_dataset()"
   ]
  },
  {
   "cell_type": "code",
   "execution_count": 12,
   "id": "4a2c4e74",
   "metadata": {},
   "outputs": [
    {
     "name": "stdout",
     "output_type": "stream",
     "text": [
      "root\n",
      " |-- id: long (nullable = true)\n",
      " |-- text: string (nullable = true)\n",
      " |-- source: string (nullable = true)\n",
      " |-- user_id: string (nullable = true)\n",
      " |-- truncated: string (nullable = true)\n",
      " |-- in_reply_to_status_id: string (nullable = true)\n",
      " |-- in_reply_to_user_id: string (nullable = true)\n",
      " |-- in_reply_to_screen_name: string (nullable = true)\n",
      " |-- retweeted_status_id: string (nullable = true)\n",
      " |-- geo: string (nullable = true)\n",
      " |-- place: string (nullable = true)\n",
      " |-- contributors: string (nullable = true)\n",
      " |-- retweet_count: string (nullable = true)\n",
      " |-- reply_count: string (nullable = true)\n",
      " |-- favorite_count: long (nullable = true)\n",
      " |-- favorited: integer (nullable = true)\n",
      " |-- retweeted: string (nullable = true)\n",
      " |-- possibly_sensitive: string (nullable = true)\n",
      " |-- num_hashtags: string (nullable = true)\n",
      " |-- num_urls: string (nullable = true)\n",
      " |-- num_mentions: string (nullable = true)\n",
      " |-- created_at: string (nullable = true)\n",
      " |-- timestamp: string (nullable = true)\n",
      " |-- crawled_at: string (nullable = true)\n",
      " |-- updated: string (nullable = true)\n",
      "\n",
      "root\n",
      " |-- 593932392663912449: string (nullable = true)\n",
      " |-- RT @morningJewshow: Speaking about Jews and comedy tonight at Temple Emanu-El in San Francisco. In other words, my High Holidays.: string (nullable = true)\n",
      " |-- <a href=\"http://tapbots.com/tweetbot\" rel=\"nofollow\">Tweetbot for iΟS</a>: string (nullable = true)\n",
      " |-- 678033: string (nullable = true)\n",
      " |-- _c4: string (nullable = true)\n",
      " |-- 05: string (nullable = true)\n",
      " |-- 06: string (nullable = true)\n",
      " |-- _c7: string (nullable = true)\n",
      " |-- 593932168524533760: string (nullable = true)\n",
      " |-- \\N9: string (nullable = true)\n",
      " |-- \\N10: string (nullable = true)\n",
      " |-- _c11: string (nullable = true)\n",
      " |-- _c12: string (nullable = true)\n",
      " |-- 113: string (nullable = true)\n",
      " |-- 014: string (nullable = true)\n",
      " |-- 015: string (nullable = true)\n",
      " |-- _c16: string (nullable = true)\n",
      " |-- _c17: string (nullable = true)\n",
      " |-- \\N18: string (nullable = true)\n",
      " |-- 019: string (nullable = true)\n",
      " |-- 020: string (nullable = true)\n",
      " |-- 121: string (nullable = true)\n",
      " |-- Fri May 01 00:18:11 +0000 2015: string (nullable = true)\n",
      " |-- 2015-05-01 02:18:11: string (nullable = true)\n",
      " |-- 2015-05-01 12:57:1924: string (nullable = true)\n",
      " |-- 2015-05-01 12:57:1925: string (nullable = true)\n",
      "\n"
     ]
    },
    {
     "data": {
      "text/plain": [
       "(None, None)"
      ]
     },
     "execution_count": 12,
     "metadata": {},
     "output_type": "execute_result"
    }
   ],
   "source": [
    "#show dataframe schema\n",
    "df_bot.printSchema(), df_gen.printSchema()"
   ]
  },
  {
   "cell_type": "code",
   "execution_count": 14,
   "id": "fddf7c0f",
   "metadata": {},
   "outputs": [
    {
     "data": {
      "text/plain": [
       "[Row(id=532627591686275072, text='I Pooh - In silenzio 1968 http://t.co/ahvQxUqTws', source='\"<a href=\"\"http://www.facebook.com/twitter\"\" rel=\"\"nofollow\"\">Facebook</a>\"', user_id='24858289', truncated=None, in_reply_to_status_id='0', in_reply_to_user_id='0', in_reply_to_screen_name=None, retweeted_status_id='0', geo=None, place=None, contributors=None, retweet_count='0', reply_count='0', favorite_count=0, favorited=None, retweeted=None, possibly_sensitive=None, num_hashtags='0', num_urls='1', num_mentions='0', created_at='Wed Nov 12 20:14:48 +0000 2014', timestamp='2014-11-12 21:14:48', crawled_at='2014-11-12 21:44:09', updated='2014-11-12 21:44:09'),\n",
       " Row(id=532624255058706432, text='http://t.co/HyI5EQKz6Q', source='\"<a href=\"\"http://www.facebook.com/twitter\"\" rel=\"\"nofollow\"\">Facebook</a>\"', user_id='24858289', truncated=None, in_reply_to_status_id='0', in_reply_to_user_id='0', in_reply_to_screen_name=None, retweeted_status_id='0', geo=None, place=None, contributors=None, retweet_count='0', reply_count='0', favorite_count=0, favorited=None, retweeted=None, possibly_sensitive=None, num_hashtags='0', num_urls='1', num_mentions='0', created_at='Wed Nov 12 20:01:32 +0000 2014', timestamp='2014-11-12 21:01:32', crawled_at='2014-11-12 21:44:09', updated='2014-11-12 21:44:09')]"
      ]
     },
     "execution_count": 14,
     "metadata": {},
     "output_type": "execute_result"
    }
   ],
   "source": [
    "df_bot.head(2)"
   ]
  },
  {
   "cell_type": "code",
   "execution_count": 15,
   "id": "fd404351",
   "metadata": {},
   "outputs": [
    {
     "data": {
      "text/plain": [
       "[Row(593932392663912449='593895316719423488', RT @morningJewshow: Speaking about Jews and comedy tonight at Temple Emanu-El in San Francisco. In other words, my High Holidays.=\"This age/face recognition thing..no reason platforms can't have changing avatars of our actual faces to increase affect/better communication\", <a href=\"http://tapbots.com/tweetbot\" rel=\"nofollow\">Tweetbot for iΟS</a>='<a href=\"http://twitter.com\" rel=\"nofollow\">Twitter Web Client</a>', 678033='678033', _c4=None, 05='0', 06='0', _c7=None, 593932168524533760='0', \\N9='\\\\N', \\N10='\\\\N', _c11=None, _c12=None, 113='0', 014='0', 015='0', _c16=None, _c17=None, \\N18='\\\\N', 019='0', 020='0', 121='0', Fri May 01 00:18:11 +0000 2015='Thu Apr 30 21:50:52 +0000 2015', 2015-05-01 02:18:11='2015-04-30 23:50:52', 2015-05-01 12:57:1924='2015-05-01 12:57:19', 2015-05-01 12:57:1925='2015-05-01 12:57:19'),\n",
       " Row(593932392663912449='593880638069018624', RT @morningJewshow: Speaking about Jews and comedy tonight at Temple Emanu-El in San Francisco. In other words, my High Holidays.=\"Only upside of the moment I can think of is that network news hasn't booked their #Baltimore panels with Bill Cosby.\", <a href=\"http://tapbots.com/tweetbot\" rel=\"nofollow\">Tweetbot for iΟS</a>=None, 678033=None, _c4=None, 05=None, 06=None, _c7=None, 593932168524533760=None, \\N9=None, \\N10=None, _c11=None, _c12=None, 113=None, 014=None, 015=None, _c16=None, _c17=None, \\N18=None, 019=None, 020=None, 121=None, Fri May 01 00:18:11 +0000 2015=None, 2015-05-01 02:18:11=None, 2015-05-01 12:57:1924=None, 2015-05-01 12:57:1925=None)]"
      ]
     },
     "execution_count": 15,
     "metadata": {},
     "output_type": "execute_result"
    }
   ],
   "source": [
    "df_gen.head(2)"
   ]
  },
  {
   "cell_type": "code",
   "execution_count": 33,
   "id": "789705a9",
   "metadata": {},
   "outputs": [],
   "source": [
    "split_weights = [0.2] * 5"
   ]
  },
  {
   "cell_type": "code",
   "execution_count": 34,
   "id": "3c057029",
   "metadata": {},
   "outputs": [
    {
     "data": {
      "text/plain": [
       "[0.2, 0.2, 0.2, 0.2, 0.2]"
      ]
     },
     "execution_count": 34,
     "metadata": {},
     "output_type": "execute_result"
    }
   ],
   "source": [
    "split_weights"
   ]
  },
  {
   "cell_type": "code",
   "execution_count": 35,
   "id": "c31f8af4",
   "metadata": {},
   "outputs": [],
   "source": [
    "df_bot_splits = df_bot.randomSplit(split_weights)"
   ]
  },
  {
   "cell_type": "code",
   "execution_count": 36,
   "id": "fe07ebf6",
   "metadata": {},
   "outputs": [],
   "source": [
    "counts = [df.count() for df in df_bot_splits]"
   ]
  },
  {
   "cell_type": "code",
   "execution_count": 37,
   "id": "1f6d7f22",
   "metadata": {},
   "outputs": [
    {
     "data": {
      "text/plain": [
       "[21, 28, 18, 13, 20]"
      ]
     },
     "execution_count": 37,
     "metadata": {},
     "output_type": "execute_result"
    }
   ],
   "source": [
    "counts"
   ]
  },
  {
   "cell_type": "code",
   "execution_count": 28,
   "id": "0ad815d9",
   "metadata": {},
   "outputs": [
    {
     "data": {
      "text/plain": [
       "100"
      ]
     },
     "execution_count": 28,
     "metadata": {},
     "output_type": "execute_result"
    }
   ],
   "source": [
    "sum(counts)"
   ]
  },
  {
   "cell_type": "code",
   "execution_count": 29,
   "id": "f3b4f53e",
   "metadata": {},
   "outputs": [
    {
     "name": "stdout",
     "output_type": "stream",
     "text": [
      "+------------------+--------------------+--------------------+--------+---------+---------------------+-------------------+-----------------------+-------------------+----+-----+------------+-------------+-----------+--------------+---------+---------+------------------+------------+--------+------------+--------------------+-------------------+-------------------+-------------------+\n",
      "|                id|                text|              source| user_id|truncated|in_reply_to_status_id|in_reply_to_user_id|in_reply_to_screen_name|retweeted_status_id| geo|place|contributors|retweet_count|reply_count|favorite_count|favorited|retweeted|possibly_sensitive|num_hashtags|num_urls|num_mentions|          created_at|          timestamp|         crawled_at|            updated|\n",
      "+------------------+--------------------+--------------------+--------+---------+---------------------+-------------------+-----------------------+-------------------+----+-----+------------+-------------+-----------+--------------+---------+---------+------------------+------------+--------+------------+--------------------+-------------------+-------------------+-------------------+\n",
      "|524631813957115904|Lio - Amoureux So...|\"<a href=\"\"http:/...|24858289|     null|                    0|                  0|                   null|                  0|null| null|        null|            0|          0|             0|     null|     null|              null|           0|       1|           0|Tue Oct 21 18:42:...|2014-10-21 20:42:26|2014-11-12 21:44:09|2014-11-12 21:44:09|\n",
      "|524987936333627392|Alphaville- Big I...|\"<a href=\"\"http:/...|24858289|     null|                    0|                  0|                   null|                  0|null| null|        null|            0|          0|             0|     null|     null|              null|           0|       1|           0|Wed Oct 22 18:17:...|2014-10-22 20:17:32|2014-11-12 21:44:09|2014-11-12 21:44:09|\n",
      "|524988278542704640|http://t.co/0LeLn...|\"<a href=\"\"http:/...|24858289|     null|                    0|                  0|                   null|                  0|null| null|        null|            0|          0|             0|     null|     null|              null|           0|       1|           0|Wed Oct 22 18:18:...|2014-10-22 20:18:54|2014-11-12 21:44:09|2014-11-12 21:44:09|\n",
      "|525000669225582592|http://t.co/l8r8d...|\"<a href=\"\"http:/...|24858289|     null|                    0|                  0|                   null|                  0|null| null|        null|            0|          0|             0|     null|     null|              null|           0|       1|           0|Wed Oct 22 19:08:...|2014-10-22 21:08:08|2014-11-12 21:44:09|2014-11-12 21:44:09|\n",
      "|525007738036690945|E le altre 29 ? h...|\"<a href=\"\"http:/...|24858289|     null|                    0|                  0|                   null|                  0|null| null|        null|            0|          0|             0|     null|     null|              null|           0|       1|           0|Wed Oct 22 19:36:...|2014-10-22 21:36:13|2014-11-12 21:44:09|2014-11-12 21:44:09|\n",
      "+------------------+--------------------+--------------------+--------+---------+---------------------+-------------------+-----------------------+-------------------+----+-----+------------+-------------+-----------+--------------+---------+---------+------------------+------------+--------+------------+--------------------+-------------------+-------------------+-------------------+\n",
      "only showing top 5 rows\n",
      "\n"
     ]
    }
   ],
   "source": [
    "df_bot_splits[0].show(5)"
   ]
  },
  {
   "cell_type": "code",
   "execution_count": 38,
   "id": "1880aab3",
   "metadata": {},
   "outputs": [],
   "source": [
    "# df_subs = np.array_split(df_bot, 3)"
   ]
  },
  {
   "cell_type": "code",
   "execution_count": null,
   "id": "6be09697",
   "metadata": {},
   "outputs": [],
   "source": []
  }
 ],
 "metadata": {
  "kernelspec": {
   "display_name": "Python 3 (ipykernel)",
   "language": "python",
   "name": "python3"
  },
  "language_info": {
   "codemirror_mode": {
    "name": "ipython",
    "version": 3
   },
   "file_extension": ".py",
   "mimetype": "text/x-python",
   "name": "python",
   "nbconvert_exporter": "python",
   "pygments_lexer": "ipython3",
   "version": "3.10.6"
  }
 },
 "nbformat": 4,
 "nbformat_minor": 5
}
