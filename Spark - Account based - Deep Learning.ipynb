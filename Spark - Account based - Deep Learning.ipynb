{
 "cells": [
  {
   "cell_type": "code",
   "execution_count": 1,
   "id": "0596dd82",
   "metadata": {},
   "outputs": [],
   "source": [
    "# required libraries\n",
    "import pandas as pd\n",
    "import numpy as np\n",
    "import math\n",
    "\n",
    "from pyspark.sql import SparkSession\n",
    "from pyspark.sql.functions import to_timestamp\n",
    "from pyspark.sql.functions import col, udf, to_timestamp, lit\n",
    "from pyspark.sql.types import IntegerType\n",
    "from pyspark.sql.functions import when, rand\n",
    "from pyspark.ml.feature import Normalizer, StandardScaler, MinMaxScaler, VectorAssembler\n",
    "\n",
    "from tensorflow.keras.layers import Embedding, Dense, LSTM, Dense, Input, concatenate, Dropout, Activation\n",
    "from tensorflow.keras.models import Model, Sequential\n",
    "from tensorflow.keras.utils import plot_model\n",
    "from tensorflow.keras.optimizers import SGD, Adam\n",
    "\n",
    "from tensorflow.keras.preprocessing.text import Tokenizer\n",
    "from tensorflow.keras.preprocessing.sequence import pad_sequences"
   ]
  },
  {
   "cell_type": "code",
   "execution_count": 2,
   "id": "c83d23e6",
   "metadata": {},
   "outputs": [
    {
     "data": {
      "text/html": [
       "\n",
       "            <div>\n",
       "                <p><b>SparkSession - in-memory</b></p>\n",
       "                \n",
       "        <div>\n",
       "            <p><b>SparkContext</b></p>\n",
       "\n",
       "            <p><a href=\"http://DESKTOP-SRLISO7:4040\">Spark UI</a></p>\n",
       "\n",
       "            <dl>\n",
       "              <dt>Version</dt>\n",
       "                <dd><code>v3.3.0</code></dd>\n",
       "              <dt>Master</dt>\n",
       "                <dd><code>local[*]</code></dd>\n",
       "              <dt>AppName</dt>\n",
       "                <dd><code>ml_account_base_session</code></dd>\n",
       "            </dl>\n",
       "        </div>\n",
       "        \n",
       "            </div>\n",
       "        "
      ],
      "text/plain": [
       "<pyspark.sql.session.SparkSession at 0x1e6d7331090>"
      ]
     },
     "execution_count": 2,
     "metadata": {},
     "output_type": "execute_result"
    }
   ],
   "source": [
    "# init spark\n",
    "spark = SparkSession.builder.appName('ml_account_base_session').getOrCreate()\n",
    "spark"
   ]
  },
  {
   "cell_type": "code",
   "execution_count": 3,
   "id": "e6b0a1dc",
   "metadata": {},
   "outputs": [],
   "source": [
    "#dataset path\n",
    "dataset_folder_s3 = 'data/' # 's3://bot-dataset/data/'\n",
    "result_path_s3 = '' # 's3://bot-dataset/result/'"
   ]
  },
  {
   "cell_type": "code",
   "execution_count": 4,
   "id": "35c9f4fe",
   "metadata": {},
   "outputs": [],
   "source": [
    "# read dataset from csv\n",
    "\n",
    "requiredColumns = requiredColumns = ['screen_name', 'created_at', 'updated', 'location', 'verified', 'statuses_count', 'friends_count','followers_count', 'favourites_count', 'default_profile_image', 'profile_use_background_image', 'protected', 'default_profile']\n",
    "\n",
    "bot_accounts1 = spark.read.csv(dataset_folder_s3 + 'social_spambots_1.csv', header = True, inferSchema = True).select(requiredColumns)\n",
    "bot_accounts2 = spark.read.csv(dataset_folder_s3 + 'social_spambots_2.csv', header = True, inferSchema = True).select(requiredColumns)\n",
    "bot_accounts3 = spark.read.csv(dataset_folder_s3 + 'social_spambots_3.csv', header = True, inferSchema = True).select(requiredColumns)\n",
    "\n",
    "# combine multiple bot_account dataset\n",
    "bot_accounts = bot_accounts1.union(bot_accounts2.union(bot_accounts3))\n",
    "clean_accounts = spark.read.csv(dataset_folder_s3 + 'geniune_accounts.csv', header = True, inferSchema = True).select(requiredColumns)"
   ]
  },
  {
   "cell_type": "code",
   "execution_count": 5,
   "id": "1beab473",
   "metadata": {},
   "outputs": [
    {
     "data": {
      "text/plain": [
       "(991, 3457, 464, 4912, 3474)"
      ]
     },
     "execution_count": 5,
     "metadata": {},
     "output_type": "execute_result"
    }
   ],
   "source": [
    "# check number of rows in each dataset\n",
    "bot_accounts1.count(), bot_accounts2.count(), bot_accounts3.count(), bot_accounts.count(), clean_accounts.count()"
   ]
  },
  {
   "cell_type": "code",
   "execution_count": 6,
   "id": "03bb5bb4",
   "metadata": {},
   "outputs": [
    {
     "name": "stdout",
     "output_type": "stream",
     "text": [
      "root\n",
      " |-- screen_name: string (nullable = true)\n",
      " |-- created_at: string (nullable = true)\n",
      " |-- updated: timestamp (nullable = true)\n",
      " |-- location: string (nullable = true)\n",
      " |-- verified: string (nullable = true)\n",
      " |-- statuses_count: integer (nullable = true)\n",
      " |-- friends_count: integer (nullable = true)\n",
      " |-- followers_count: integer (nullable = true)\n",
      " |-- favourites_count: integer (nullable = true)\n",
      " |-- default_profile_image: string (nullable = true)\n",
      " |-- profile_use_background_image: integer (nullable = true)\n",
      " |-- protected: string (nullable = true)\n",
      " |-- default_profile: integer (nullable = true)\n",
      "\n",
      "root\n",
      " |-- screen_name: string (nullable = true)\n",
      " |-- created_at: string (nullable = true)\n",
      " |-- updated: timestamp (nullable = true)\n",
      " |-- location: string (nullable = true)\n",
      " |-- verified: integer (nullable = true)\n",
      " |-- statuses_count: integer (nullable = true)\n",
      " |-- friends_count: integer (nullable = true)\n",
      " |-- followers_count: integer (nullable = true)\n",
      " |-- favourites_count: integer (nullable = true)\n",
      " |-- default_profile_image: integer (nullable = true)\n",
      " |-- profile_use_background_image: integer (nullable = true)\n",
      " |-- protected: integer (nullable = true)\n",
      " |-- default_profile: integer (nullable = true)\n",
      "\n"
     ]
    }
   ],
   "source": [
    "# check structure of the dataframe\n",
    "bot_accounts.printSchema()\n",
    "clean_accounts.printSchema()"
   ]
  },
  {
   "cell_type": "code",
   "execution_count": 7,
   "id": "f2036cf0",
   "metadata": {},
   "outputs": [
    {
     "data": {
      "text/html": [
       "<div>\n",
       "<style scoped>\n",
       "    .dataframe tbody tr th:only-of-type {\n",
       "        vertical-align: middle;\n",
       "    }\n",
       "\n",
       "    .dataframe tbody tr th {\n",
       "        vertical-align: top;\n",
       "    }\n",
       "\n",
       "    .dataframe thead th {\n",
       "        text-align: right;\n",
       "    }\n",
       "</style>\n",
       "<table border=\"1\" class=\"dataframe\">\n",
       "  <thead>\n",
       "    <tr style=\"text-align: right;\">\n",
       "      <th></th>\n",
       "      <th>screen_name</th>\n",
       "      <th>created_at</th>\n",
       "      <th>updated</th>\n",
       "      <th>location</th>\n",
       "      <th>verified</th>\n",
       "      <th>statuses_count</th>\n",
       "      <th>friends_count</th>\n",
       "      <th>followers_count</th>\n",
       "      <th>favourites_count</th>\n",
       "      <th>default_profile_image</th>\n",
       "      <th>profile_use_background_image</th>\n",
       "      <th>protected</th>\n",
       "      <th>default_profile</th>\n",
       "    </tr>\n",
       "  </thead>\n",
       "  <tbody>\n",
       "    <tr>\n",
       "      <th>0</th>\n",
       "      <td>davideb66</td>\n",
       "      <td>Tue Mar 17 08:51:12 +0000 2009</td>\n",
       "      <td>2016-03-15 14:12:22</td>\n",
       "      <td>None</td>\n",
       "      <td>None</td>\n",
       "      <td>1299</td>\n",
       "      <td>40</td>\n",
       "      <td>22</td>\n",
       "      <td>1</td>\n",
       "      <td>1</td>\n",
       "      <td>1</td>\n",
       "      <td>None</td>\n",
       "      <td>1.0</td>\n",
       "    </tr>\n",
       "    <tr>\n",
       "      <th>1</th>\n",
       "      <td>ElisaDospina</td>\n",
       "      <td>Sun Apr 19 14:38:04 +0000 2009</td>\n",
       "      <td>2016-03-15 14:17:13</td>\n",
       "      <td>Italy</td>\n",
       "      <td>None</td>\n",
       "      <td>18665</td>\n",
       "      <td>3442</td>\n",
       "      <td>12561</td>\n",
       "      <td>16358</td>\n",
       "      <td>None</td>\n",
       "      <td>1</td>\n",
       "      <td>None</td>\n",
       "      <td>NaN</td>\n",
       "    </tr>\n",
       "    <tr>\n",
       "      <th>2</th>\n",
       "      <td>Vladimir65</td>\n",
       "      <td>Wed May 13 15:34:41 +0000 2009</td>\n",
       "      <td>2016-03-15 14:16:44</td>\n",
       "      <td>iPhone: 45.471680,9.192429</td>\n",
       "      <td>None</td>\n",
       "      <td>22987</td>\n",
       "      <td>755</td>\n",
       "      <td>600</td>\n",
       "      <td>14</td>\n",
       "      <td>None</td>\n",
       "      <td>1</td>\n",
       "      <td>None</td>\n",
       "      <td>NaN</td>\n",
       "    </tr>\n",
       "  </tbody>\n",
       "</table>\n",
       "</div>"
      ],
      "text/plain": [
       "    screen_name                      created_at             updated  \\\n",
       "0     davideb66  Tue Mar 17 08:51:12 +0000 2009 2016-03-15 14:12:22   \n",
       "1  ElisaDospina  Sun Apr 19 14:38:04 +0000 2009 2016-03-15 14:17:13   \n",
       "2    Vladimir65  Wed May 13 15:34:41 +0000 2009 2016-03-15 14:16:44   \n",
       "\n",
       "                     location verified  statuses_count  friends_count  \\\n",
       "0                        None     None            1299             40   \n",
       "1                       Italy     None           18665           3442   \n",
       "2  iPhone: 45.471680,9.192429     None           22987            755   \n",
       "\n",
       "   followers_count  favourites_count default_profile_image  \\\n",
       "0               22                 1                     1   \n",
       "1            12561             16358                  None   \n",
       "2              600                14                  None   \n",
       "\n",
       "   profile_use_background_image protected  default_profile  \n",
       "0                             1      None              1.0  \n",
       "1                             1      None              NaN  \n",
       "2                             1      None              NaN  "
      ]
     },
     "execution_count": 7,
     "metadata": {},
     "output_type": "execute_result"
    }
   ],
   "source": [
    "#check bot account data\n",
    "bot_accounts.limit(3).toPandas()"
   ]
  },
  {
   "cell_type": "code",
   "execution_count": 8,
   "id": "6c0d953f",
   "metadata": {},
   "outputs": [
    {
     "data": {
      "text/html": [
       "<div>\n",
       "<style scoped>\n",
       "    .dataframe tbody tr th:only-of-type {\n",
       "        vertical-align: middle;\n",
       "    }\n",
       "\n",
       "    .dataframe tbody tr th {\n",
       "        vertical-align: top;\n",
       "    }\n",
       "\n",
       "    .dataframe thead th {\n",
       "        text-align: right;\n",
       "    }\n",
       "</style>\n",
       "<table border=\"1\" class=\"dataframe\">\n",
       "  <thead>\n",
       "    <tr style=\"text-align: right;\">\n",
       "      <th></th>\n",
       "      <th>screen_name</th>\n",
       "      <th>created_at</th>\n",
       "      <th>updated</th>\n",
       "      <th>location</th>\n",
       "      <th>verified</th>\n",
       "      <th>statuses_count</th>\n",
       "      <th>friends_count</th>\n",
       "      <th>followers_count</th>\n",
       "      <th>favourites_count</th>\n",
       "      <th>default_profile_image</th>\n",
       "      <th>profile_use_background_image</th>\n",
       "      <th>protected</th>\n",
       "      <th>default_profile</th>\n",
       "    </tr>\n",
       "  </thead>\n",
       "  <tbody>\n",
       "    <tr>\n",
       "      <th>0</th>\n",
       "      <td>0918Bask</td>\n",
       "      <td>Tue Jun 11 11:20:35 +0000 2013</td>\n",
       "      <td>2016-03-15 15:53:47</td>\n",
       "      <td>Tokyo .Japan .</td>\n",
       "      <td>NaN</td>\n",
       "      <td>2177</td>\n",
       "      <td>332</td>\n",
       "      <td>208</td>\n",
       "      <td>265</td>\n",
       "      <td>NaN</td>\n",
       "      <td>NaN</td>\n",
       "      <td>NaN</td>\n",
       "      <td>NaN</td>\n",
       "    </tr>\n",
       "    <tr>\n",
       "      <th>1</th>\n",
       "      <td>1120Roll</td>\n",
       "      <td>Tue May 13 10:37:57 +0000 2014</td>\n",
       "      <td>2016-03-15 15:53:48</td>\n",
       "      <td>神奈川県横浜市</td>\n",
       "      <td>NaN</td>\n",
       "      <td>2660</td>\n",
       "      <td>485</td>\n",
       "      <td>330</td>\n",
       "      <td>3972</td>\n",
       "      <td>NaN</td>\n",
       "      <td>1.0</td>\n",
       "      <td>NaN</td>\n",
       "      <td>1.0</td>\n",
       "    </tr>\n",
       "    <tr>\n",
       "      <th>2</th>\n",
       "      <td>14KBBrown</td>\n",
       "      <td>Wed May 04 23:30:37 +0000 2011</td>\n",
       "      <td>2016-03-15 15:53:48</td>\n",
       "      <td>None</td>\n",
       "      <td>NaN</td>\n",
       "      <td>1254</td>\n",
       "      <td>177</td>\n",
       "      <td>166</td>\n",
       "      <td>1185</td>\n",
       "      <td>NaN</td>\n",
       "      <td>1.0</td>\n",
       "      <td>NaN</td>\n",
       "      <td>NaN</td>\n",
       "    </tr>\n",
       "  </tbody>\n",
       "</table>\n",
       "</div>"
      ],
      "text/plain": [
       "  screen_name                      created_at             updated  \\\n",
       "0    0918Bask  Tue Jun 11 11:20:35 +0000 2013 2016-03-15 15:53:47   \n",
       "1    1120Roll  Tue May 13 10:37:57 +0000 2014 2016-03-15 15:53:48   \n",
       "2   14KBBrown  Wed May 04 23:30:37 +0000 2011 2016-03-15 15:53:48   \n",
       "\n",
       "         location  verified  statuses_count  friends_count  followers_count  \\\n",
       "0  Tokyo .Japan .       NaN            2177            332              208   \n",
       "1         神奈川県横浜市       NaN            2660            485              330   \n",
       "2            None       NaN            1254            177              166   \n",
       "\n",
       "   favourites_count  default_profile_image  profile_use_background_image  \\\n",
       "0               265                    NaN                           NaN   \n",
       "1              3972                    NaN                           1.0   \n",
       "2              1185                    NaN                           1.0   \n",
       "\n",
       "   protected  default_profile  \n",
       "0        NaN              NaN  \n",
       "1        NaN              1.0  \n",
       "2        NaN              NaN  "
      ]
     },
     "execution_count": 8,
     "metadata": {},
     "output_type": "execute_result"
    }
   ],
   "source": [
    "# check clean_account data\n",
    "clean_accounts.limit(3).toPandas()"
   ]
  },
  {
   "cell_type": "code",
   "execution_count": 9,
   "id": "d7d9a212",
   "metadata": {},
   "outputs": [
    {
     "name": "stdout",
     "output_type": "stream",
     "text": [
      "screen_name(4912): ['MarcoMurante', 'CarolaParnasse', 'RobertoBusca', 'CarlaBipolare', 'EmanuelaDuccio']\n",
      "\n",
      "created_at(4891): ['Mon Jan 16 07:46:29 +0000 2012', 'Mon Jan 16 08:41:48 +0000 2012', 'Tue Jan 17 10:51:05 +0000 2012', 'Tue Jan 17 11:29:19 +0000 2012', 'Wed Jan 18 04:59:52 +0000 2012']\n",
      "\n",
      "updated(1687): [datetime.datetime(2016, 3, 15, 14, 12, 44), datetime.datetime(2016, 3, 15, 14, 14, 42), datetime.datetime(2016, 3, 15, 14, 17, 15), datetime.datetime(2016, 3, 15, 14, 20, 39), datetime.datetime(2016, 3, 15, 14, 16, 46)]\n",
      "\n",
      "location(207): ['Palermo', 'Cave (RM)', 'Forte dei Marmi', 'Firenze', 'Phoenix']\n",
      "\n",
      "verified(1): [None]\n",
      "\n",
      "statuses_count(948): [471, 148, 26755, 540, 31]\n",
      "\n",
      "friends_count(953): [6466, 5300, 4935, 5518, 31]\n",
      "\n",
      "followers_count(929): [3997, 243, 4190, 4161, 1522]\n",
      "\n",
      "favourites_count(72): [874, 76, 103, 12, 601]\n",
      "\n",
      "default_profile_image(2): [None, '1']\n",
      "\n",
      "profile_use_background_image(2): [None, 1]\n",
      "\n",
      "protected(1): [None]\n",
      "\n",
      "default_profile(2): [None, 1]\n",
      "\n",
      "screen_name(3474): ['AddisonHeddins', 'AkheemV', 'GLTCHINTHESYSTM', 'Castro1Jonny', 'DaniGal__']\n",
      "\n",
      "created_at(3474): ['Mon Dec 14 18:39:40 +0000 2009', 'Tue Jul 21 04:24:36 +0000 2009', 'Wed Apr 25 22:49:24 +0000 2012', 'Mon May 07 03:01:36 +0000 2012', 'Tue Sep 13 14:29:55 +0000 2011']\n",
      "\n",
      "updated(1055): [datetime.datetime(2016, 3, 15, 15, 54, 30), datetime.datetime(2016, 3, 15, 16, 1, 39), datetime.datetime(2016, 3, 15, 16, 2, 47), datetime.datetime(2016, 3, 15, 16, 11, 8), datetime.datetime(2016, 3, 15, 16, 11, 14)]\n",
      "\n",
      "location(1797): ['Bradford, Tennessee ', 'Cebu ', 'New Delhi, India ', 'Bogotá. Colombia', 'Medellin Colombia']\n",
      "\n",
      "verified(2): [None, 1]\n",
      "\n",
      "statuses_count(3152): [2366, 1238, 496, 471, 3997]\n",
      "\n",
      "friends_count(1222): [148, 496, 833, 471, 463]\n",
      "\n",
      "followers_count(1459): [148, 1238, 1645, 463, 1580]\n",
      "\n",
      "favourites_count(2420): [3997, 471, 463, 10206, 11141]\n",
      "\n",
      "default_profile_image(2): [None, 1]\n",
      "\n",
      "profile_use_background_image(2): [None, 1]\n",
      "\n",
      "protected(2): [None, 1]\n",
      "\n",
      "default_profile(2): [None, 1]\n",
      "\n"
     ]
    }
   ],
   "source": [
    "# test feature value domain space for feature engineering\n",
    "def printFeatureDomain(df):\n",
    "    columns = df.columns\n",
    "    for col in columns:\n",
    "        col_domain = df.select(col).distinct().collect()\n",
    "        value_domain = [item[0] for item in col_domain]\n",
    "        print(\"{}({}): {}\\n\".format(col,len(value_domain), value_domain[:5]))\n",
    "        \n",
    "printFeatureDomain(bot_accounts)\n",
    "printFeatureDomain(clean_accounts)"
   ]
  },
  {
   "cell_type": "code",
   "execution_count": 10,
   "id": "9d4c3a54",
   "metadata": {},
   "outputs": [],
   "source": [
    "# def clean_df(df):\n",
    "#     type(df)\n",
    "#     df['created_at'] = pd.to_datetime(df['created_at']).dt.tz_localize(None)\n",
    "#     df['updated'] = pd.to_datetime(df['updated']).dt.tz_localize(None)\n",
    "#     df['age'] = (df['updated'] - df['created_at']).astype('timedelta64[D]').astype(int)\n",
    "#     df['has_location'] = df['location'].apply(lambda x: 0 if x==x else 1)\n",
    "#     df['has_avatar'] = df['default_profile_image'].apply(lambda x: 1 if x==x else 0)\n",
    "#     df['has_background'] = df['profile_use_background_image'].apply(lambda x: 1 if x==x else 0)\n",
    "#     df['is_verified']=df['verified'].apply(lambda x: 1 if x==x else 0)\n",
    "#     df['is_protected']=df['protected'].apply(lambda x: 1 if x==x else 0)\n",
    "#     df['profile_modified'] = df['default_profile'].apply(lambda x: 0 if x==x else 1)\n",
    "#     df = df.rename(index=str, columns={\"screen_name\": \"username\", \"statuses_count\": \"total_tweets\", \"friends_count\": \"total_following\", \"followers_count\": \"total_followers\", \"favourites_count\": \"total_likes\"})\n",
    "#     return df[['username', 'age', 'has_location', 'is_verified', 'total_tweets', 'total_following', 'total_followers', 'total_likes', 'has_avatar', 'has_background', 'is_protected', 'profile_modified']]\n"
   ]
  },
  {
   "cell_type": "code",
   "execution_count": 11,
   "id": "4d6a5684",
   "metadata": {},
   "outputs": [],
   "source": [
    "# clean dataset\n",
    "def cleanData(df):\n",
    "    df = df.withColumn('age', lit(0)) # need to calculate from 'updated' -'created_at'\n",
    "    df = df.withColumn('has_location', when((df['location'] != None), 1).otherwise(0))\n",
    "    df = df.withColumn('has_avatar', when((df['default_profile_image'] != None), 1).otherwise(0))\n",
    "    df = df.withColumn('has_background', when((df['profile_use_background_image'] != None), 1).otherwise(0))\n",
    "    df = df.withColumn('is_verified', when((df['verified'] != None), 1).otherwise(0))\n",
    "    df = df.withColumn('is_protected', when((df['protected'] != None), 1).otherwise(0))\n",
    "    df = df.withColumn('profile_modified', when((df['default_profile'] != None), 1).otherwise(0))\n",
    "    df = df.withColumnRenamed(\"screen_name\", \"username\")\n",
    "    df = df.withColumnRenamed(\"statuses_count\", \"total_tweets\")\n",
    "    df = df.withColumnRenamed(\"friends_count\", \"total_following\")\n",
    "    df = df.withColumnRenamed(\"followers_count\", \"total_followers\")\n",
    "    df = df.withColumnRenamed(\"favourites_count\", \"total_likes\")\n",
    "    \n",
    "    return df.select('username', 'age', 'has_location', 'is_verified', 'total_tweets', 'total_following', 'total_followers', 'total_likes', 'has_avatar', 'has_background', 'is_protected', 'profile_modified')\n",
    "    "
   ]
  },
  {
   "cell_type": "code",
   "execution_count": 12,
   "id": "fc057ad3",
   "metadata": {},
   "outputs": [],
   "source": [
    "bot_accounts = cleanData(bot_accounts)\n",
    "clean_accounts = cleanData(clean_accounts)"
   ]
  },
  {
   "cell_type": "code",
   "execution_count": 13,
   "id": "e9125c4c",
   "metadata": {},
   "outputs": [
    {
     "name": "stdout",
     "output_type": "stream",
     "text": [
      "root\n",
      " |-- username: string (nullable = true)\n",
      " |-- age: integer (nullable = false)\n",
      " |-- has_location: integer (nullable = false)\n",
      " |-- is_verified: integer (nullable = false)\n",
      " |-- total_tweets: integer (nullable = true)\n",
      " |-- total_following: integer (nullable = true)\n",
      " |-- total_followers: integer (nullable = true)\n",
      " |-- total_likes: integer (nullable = true)\n",
      " |-- has_avatar: integer (nullable = false)\n",
      " |-- has_background: integer (nullable = false)\n",
      " |-- is_protected: integer (nullable = false)\n",
      " |-- profile_modified: integer (nullable = false)\n",
      "\n"
     ]
    }
   ],
   "source": [
    "bot_accounts.printSchema()"
   ]
  },
  {
   "cell_type": "code",
   "execution_count": 14,
   "id": "c48d030c",
   "metadata": {},
   "outputs": [
    {
     "name": "stdout",
     "output_type": "stream",
     "text": [
      "root\n",
      " |-- username: string (nullable = true)\n",
      " |-- age: integer (nullable = false)\n",
      " |-- has_location: integer (nullable = false)\n",
      " |-- is_verified: integer (nullable = false)\n",
      " |-- total_tweets: integer (nullable = true)\n",
      " |-- total_following: integer (nullable = true)\n",
      " |-- total_followers: integer (nullable = true)\n",
      " |-- total_likes: integer (nullable = true)\n",
      " |-- has_avatar: integer (nullable = false)\n",
      " |-- has_background: integer (nullable = false)\n",
      " |-- is_protected: integer (nullable = false)\n",
      " |-- profile_modified: integer (nullable = false)\n",
      "\n"
     ]
    }
   ],
   "source": [
    "clean_accounts.printSchema()"
   ]
  },
  {
   "cell_type": "code",
   "execution_count": 15,
   "id": "141aeb98",
   "metadata": {},
   "outputs": [
    {
     "data": {
      "text/html": [
       "<div>\n",
       "<style scoped>\n",
       "    .dataframe tbody tr th:only-of-type {\n",
       "        vertical-align: middle;\n",
       "    }\n",
       "\n",
       "    .dataframe tbody tr th {\n",
       "        vertical-align: top;\n",
       "    }\n",
       "\n",
       "    .dataframe thead th {\n",
       "        text-align: right;\n",
       "    }\n",
       "</style>\n",
       "<table border=\"1\" class=\"dataframe\">\n",
       "  <thead>\n",
       "    <tr style=\"text-align: right;\">\n",
       "      <th></th>\n",
       "      <th>username</th>\n",
       "      <th>age</th>\n",
       "      <th>has_location</th>\n",
       "      <th>is_verified</th>\n",
       "      <th>total_tweets</th>\n",
       "      <th>total_following</th>\n",
       "      <th>total_followers</th>\n",
       "      <th>total_likes</th>\n",
       "      <th>has_avatar</th>\n",
       "      <th>has_background</th>\n",
       "      <th>is_protected</th>\n",
       "      <th>profile_modified</th>\n",
       "    </tr>\n",
       "  </thead>\n",
       "  <tbody>\n",
       "    <tr>\n",
       "      <th>0</th>\n",
       "      <td>0918Bask</td>\n",
       "      <td>0</td>\n",
       "      <td>0</td>\n",
       "      <td>0</td>\n",
       "      <td>2177</td>\n",
       "      <td>332</td>\n",
       "      <td>208</td>\n",
       "      <td>265</td>\n",
       "      <td>0</td>\n",
       "      <td>0</td>\n",
       "      <td>0</td>\n",
       "      <td>0</td>\n",
       "    </tr>\n",
       "    <tr>\n",
       "      <th>1</th>\n",
       "      <td>1120Roll</td>\n",
       "      <td>0</td>\n",
       "      <td>0</td>\n",
       "      <td>0</td>\n",
       "      <td>2660</td>\n",
       "      <td>485</td>\n",
       "      <td>330</td>\n",
       "      <td>3972</td>\n",
       "      <td>0</td>\n",
       "      <td>0</td>\n",
       "      <td>0</td>\n",
       "      <td>0</td>\n",
       "    </tr>\n",
       "    <tr>\n",
       "      <th>2</th>\n",
       "      <td>14KBBrown</td>\n",
       "      <td>0</td>\n",
       "      <td>0</td>\n",
       "      <td>0</td>\n",
       "      <td>1254</td>\n",
       "      <td>177</td>\n",
       "      <td>166</td>\n",
       "      <td>1185</td>\n",
       "      <td>0</td>\n",
       "      <td>0</td>\n",
       "      <td>0</td>\n",
       "      <td>0</td>\n",
       "    </tr>\n",
       "    <tr>\n",
       "      <th>3</th>\n",
       "      <td>wadespeters</td>\n",
       "      <td>0</td>\n",
       "      <td>0</td>\n",
       "      <td>0</td>\n",
       "      <td>202968</td>\n",
       "      <td>981</td>\n",
       "      <td>2248</td>\n",
       "      <td>60304</td>\n",
       "      <td>0</td>\n",
       "      <td>0</td>\n",
       "      <td>0</td>\n",
       "      <td>0</td>\n",
       "    </tr>\n",
       "    <tr>\n",
       "      <th>4</th>\n",
       "      <td>191a5bd05da04dc</td>\n",
       "      <td>0</td>\n",
       "      <td>0</td>\n",
       "      <td>0</td>\n",
       "      <td>82</td>\n",
       "      <td>79</td>\n",
       "      <td>21</td>\n",
       "      <td>5</td>\n",
       "      <td>0</td>\n",
       "      <td>0</td>\n",
       "      <td>0</td>\n",
       "      <td>0</td>\n",
       "    </tr>\n",
       "  </tbody>\n",
       "</table>\n",
       "</div>"
      ],
      "text/plain": [
       "          username  age  has_location  is_verified  total_tweets  \\\n",
       "0         0918Bask    0             0            0          2177   \n",
       "1         1120Roll    0             0            0          2660   \n",
       "2        14KBBrown    0             0            0          1254   \n",
       "3      wadespeters    0             0            0        202968   \n",
       "4  191a5bd05da04dc    0             0            0            82   \n",
       "\n",
       "   total_following  total_followers  total_likes  has_avatar  has_background  \\\n",
       "0              332              208          265           0               0   \n",
       "1              485              330         3972           0               0   \n",
       "2              177              166         1185           0               0   \n",
       "3              981             2248        60304           0               0   \n",
       "4               79               21            5           0               0   \n",
       "\n",
       "   is_protected  profile_modified  \n",
       "0             0                 0  \n",
       "1             0                 0  \n",
       "2             0                 0  \n",
       "3             0                 0  \n",
       "4             0                 0  "
      ]
     },
     "execution_count": 15,
     "metadata": {},
     "output_type": "execute_result"
    }
   ],
   "source": [
    "clean_accounts.limit(5).toPandas()"
   ]
  },
  {
   "cell_type": "code",
   "execution_count": 16,
   "id": "19e87677",
   "metadata": {},
   "outputs": [
    {
     "data": {
      "text/html": [
       "<div>\n",
       "<style scoped>\n",
       "    .dataframe tbody tr th:only-of-type {\n",
       "        vertical-align: middle;\n",
       "    }\n",
       "\n",
       "    .dataframe tbody tr th {\n",
       "        vertical-align: top;\n",
       "    }\n",
       "\n",
       "    .dataframe thead th {\n",
       "        text-align: right;\n",
       "    }\n",
       "</style>\n",
       "<table border=\"1\" class=\"dataframe\">\n",
       "  <thead>\n",
       "    <tr style=\"text-align: right;\">\n",
       "      <th></th>\n",
       "      <th>username</th>\n",
       "      <th>age</th>\n",
       "      <th>has_location</th>\n",
       "      <th>is_verified</th>\n",
       "      <th>total_tweets</th>\n",
       "      <th>total_following</th>\n",
       "      <th>total_followers</th>\n",
       "      <th>total_likes</th>\n",
       "      <th>has_avatar</th>\n",
       "      <th>has_background</th>\n",
       "      <th>is_protected</th>\n",
       "      <th>profile_modified</th>\n",
       "    </tr>\n",
       "  </thead>\n",
       "  <tbody>\n",
       "    <tr>\n",
       "      <th>0</th>\n",
       "      <td>davideb66</td>\n",
       "      <td>0</td>\n",
       "      <td>0</td>\n",
       "      <td>0</td>\n",
       "      <td>1299</td>\n",
       "      <td>40</td>\n",
       "      <td>22</td>\n",
       "      <td>1</td>\n",
       "      <td>0</td>\n",
       "      <td>0</td>\n",
       "      <td>0</td>\n",
       "      <td>0</td>\n",
       "    </tr>\n",
       "    <tr>\n",
       "      <th>1</th>\n",
       "      <td>ElisaDospina</td>\n",
       "      <td>0</td>\n",
       "      <td>0</td>\n",
       "      <td>0</td>\n",
       "      <td>18665</td>\n",
       "      <td>3442</td>\n",
       "      <td>12561</td>\n",
       "      <td>16358</td>\n",
       "      <td>0</td>\n",
       "      <td>0</td>\n",
       "      <td>0</td>\n",
       "      <td>0</td>\n",
       "    </tr>\n",
       "    <tr>\n",
       "      <th>2</th>\n",
       "      <td>Vladimir65</td>\n",
       "      <td>0</td>\n",
       "      <td>0</td>\n",
       "      <td>0</td>\n",
       "      <td>22987</td>\n",
       "      <td>755</td>\n",
       "      <td>600</td>\n",
       "      <td>14</td>\n",
       "      <td>0</td>\n",
       "      <td>0</td>\n",
       "      <td>0</td>\n",
       "      <td>0</td>\n",
       "    </tr>\n",
       "    <tr>\n",
       "      <th>3</th>\n",
       "      <td>RafielaMorales</td>\n",
       "      <td>0</td>\n",
       "      <td>0</td>\n",
       "      <td>0</td>\n",
       "      <td>7975</td>\n",
       "      <td>350</td>\n",
       "      <td>398</td>\n",
       "      <td>11</td>\n",
       "      <td>0</td>\n",
       "      <td>0</td>\n",
       "      <td>0</td>\n",
       "      <td>0</td>\n",
       "    </tr>\n",
       "    <tr>\n",
       "      <th>4</th>\n",
       "      <td>FabrizioC_c</td>\n",
       "      <td>0</td>\n",
       "      <td>0</td>\n",
       "      <td>0</td>\n",
       "      <td>20218</td>\n",
       "      <td>405</td>\n",
       "      <td>413</td>\n",
       "      <td>162</td>\n",
       "      <td>0</td>\n",
       "      <td>0</td>\n",
       "      <td>0</td>\n",
       "      <td>0</td>\n",
       "    </tr>\n",
       "  </tbody>\n",
       "</table>\n",
       "</div>"
      ],
      "text/plain": [
       "         username  age  has_location  is_verified  total_tweets  \\\n",
       "0       davideb66    0             0            0          1299   \n",
       "1    ElisaDospina    0             0            0         18665   \n",
       "2      Vladimir65    0             0            0         22987   \n",
       "3  RafielaMorales    0             0            0          7975   \n",
       "4     FabrizioC_c    0             0            0         20218   \n",
       "\n",
       "   total_following  total_followers  total_likes  has_avatar  has_background  \\\n",
       "0               40               22            1           0               0   \n",
       "1             3442            12561        16358           0               0   \n",
       "2              755              600           14           0               0   \n",
       "3              350              398           11           0               0   \n",
       "4              405              413          162           0               0   \n",
       "\n",
       "   is_protected  profile_modified  \n",
       "0             0                 0  \n",
       "1             0                 0  \n",
       "2             0                 0  \n",
       "3             0                 0  \n",
       "4             0                 0  "
      ]
     },
     "execution_count": 16,
     "metadata": {},
     "output_type": "execute_result"
    }
   ],
   "source": [
    "bot_accounts.limit(5).toPandas()"
   ]
  },
  {
   "cell_type": "code",
   "execution_count": 17,
   "id": "c7ddc0e9",
   "metadata": {},
   "outputs": [],
   "source": [
    "## add BotOrNot column\n",
    "bot_accounts = bot_accounts.withColumn('BotOrNot', lit(1))\n",
    "clean_accounts = clean_accounts.withColumn('BotOrNot', lit(0))"
   ]
  },
  {
   "cell_type": "code",
   "execution_count": 18,
   "id": "096a6fa9",
   "metadata": {},
   "outputs": [],
   "source": [
    "#combine clean and bot accounts data togather\n",
    "combined_df = bot_accounts.union(clean_accounts)\n",
    "\n",
    "# shuffle dataset\n",
    "new_df = combined_df.orderBy(rand())\n",
    "\n",
    "#remove 'userrname' columns from dataset\n",
    "new_df = new_df.drop('username')"
   ]
  },
  {
   "cell_type": "code",
   "execution_count": 19,
   "id": "cc1c87c4",
   "metadata": {},
   "outputs": [
    {
     "name": "stdout",
     "output_type": "stream",
     "text": [
      "root\n",
      " |-- age: integer (nullable = false)\n",
      " |-- has_location: integer (nullable = false)\n",
      " |-- is_verified: integer (nullable = false)\n",
      " |-- total_tweets: integer (nullable = true)\n",
      " |-- total_following: integer (nullable = true)\n",
      " |-- total_followers: integer (nullable = true)\n",
      " |-- total_likes: integer (nullable = true)\n",
      " |-- has_avatar: integer (nullable = false)\n",
      " |-- has_background: integer (nullable = false)\n",
      " |-- is_protected: integer (nullable = false)\n",
      " |-- profile_modified: integer (nullable = false)\n",
      " |-- BotOrNot: integer (nullable = false)\n",
      "\n"
     ]
    }
   ],
   "source": [
    "new_df.printSchema()"
   ]
  },
  {
   "cell_type": "code",
   "execution_count": 20,
   "id": "0affcd82",
   "metadata": {},
   "outputs": [
    {
     "data": {
      "text/plain": [
       "8386"
      ]
     },
     "execution_count": 20,
     "metadata": {},
     "output_type": "execute_result"
    }
   ],
   "source": [
    "new_df.count()"
   ]
  },
  {
   "cell_type": "code",
   "execution_count": 21,
   "id": "bd210374",
   "metadata": {},
   "outputs": [
    {
     "data": {
      "text/plain": [
       "['age',\n",
       " 'has_location',\n",
       " 'is_verified',\n",
       " 'total_tweets',\n",
       " 'total_following',\n",
       " 'total_followers',\n",
       " 'total_likes',\n",
       " 'has_avatar',\n",
       " 'has_background',\n",
       " 'is_protected',\n",
       " 'profile_modified',\n",
       " 'BotOrNot']"
      ]
     },
     "execution_count": 21,
     "metadata": {},
     "output_type": "execute_result"
    }
   ],
   "source": [
    "new_df.columns"
   ]
  },
  {
   "cell_type": "code",
   "execution_count": 22,
   "id": "f2d4a4c1",
   "metadata": {},
   "outputs": [
    {
     "data": {
      "text/html": [
       "<div>\n",
       "<style scoped>\n",
       "    .dataframe tbody tr th:only-of-type {\n",
       "        vertical-align: middle;\n",
       "    }\n",
       "\n",
       "    .dataframe tbody tr th {\n",
       "        vertical-align: top;\n",
       "    }\n",
       "\n",
       "    .dataframe thead th {\n",
       "        text-align: right;\n",
       "    }\n",
       "</style>\n",
       "<table border=\"1\" class=\"dataframe\">\n",
       "  <thead>\n",
       "    <tr style=\"text-align: right;\">\n",
       "      <th></th>\n",
       "      <th>age</th>\n",
       "      <th>has_location</th>\n",
       "      <th>is_verified</th>\n",
       "      <th>total_tweets</th>\n",
       "      <th>total_following</th>\n",
       "      <th>total_followers</th>\n",
       "      <th>total_likes</th>\n",
       "      <th>has_avatar</th>\n",
       "      <th>has_background</th>\n",
       "      <th>is_protected</th>\n",
       "      <th>profile_modified</th>\n",
       "      <th>BotOrNot</th>\n",
       "      <th>independent_features</th>\n",
       "    </tr>\n",
       "  </thead>\n",
       "  <tbody>\n",
       "    <tr>\n",
       "      <th>0</th>\n",
       "      <td>0</td>\n",
       "      <td>0</td>\n",
       "      <td>0</td>\n",
       "      <td>34</td>\n",
       "      <td>39</td>\n",
       "      <td>4</td>\n",
       "      <td>0</td>\n",
       "      <td>0</td>\n",
       "      <td>0</td>\n",
       "      <td>0</td>\n",
       "      <td>0</td>\n",
       "      <td>1</td>\n",
       "      <td>(0.0, 0.0, 0.0, 34.0, 39.0, 4.0, 0.0, 0.0, 0.0...</td>\n",
       "    </tr>\n",
       "    <tr>\n",
       "      <th>1</th>\n",
       "      <td>0</td>\n",
       "      <td>0</td>\n",
       "      <td>0</td>\n",
       "      <td>2559</td>\n",
       "      <td>416</td>\n",
       "      <td>210</td>\n",
       "      <td>22887</td>\n",
       "      <td>0</td>\n",
       "      <td>0</td>\n",
       "      <td>0</td>\n",
       "      <td>0</td>\n",
       "      <td>0</td>\n",
       "      <td>(0.0, 0.0, 0.0, 2559.0, 416.0, 210.0, 22887.0,...</td>\n",
       "    </tr>\n",
       "    <tr>\n",
       "      <th>2</th>\n",
       "      <td>0</td>\n",
       "      <td>0</td>\n",
       "      <td>0</td>\n",
       "      <td>3741</td>\n",
       "      <td>986</td>\n",
       "      <td>601</td>\n",
       "      <td>4037</td>\n",
       "      <td>0</td>\n",
       "      <td>0</td>\n",
       "      <td>0</td>\n",
       "      <td>0</td>\n",
       "      <td>0</td>\n",
       "      <td>(0.0, 0.0, 0.0, 3741.0, 986.0, 601.0, 4037.0, ...</td>\n",
       "    </tr>\n",
       "    <tr>\n",
       "      <th>3</th>\n",
       "      <td>0</td>\n",
       "      <td>0</td>\n",
       "      <td>0</td>\n",
       "      <td>4089</td>\n",
       "      <td>1474</td>\n",
       "      <td>273</td>\n",
       "      <td>0</td>\n",
       "      <td>0</td>\n",
       "      <td>0</td>\n",
       "      <td>0</td>\n",
       "      <td>0</td>\n",
       "      <td>1</td>\n",
       "      <td>(0.0, 0.0, 0.0, 4089.0, 1474.0, 273.0, 0.0, 0....</td>\n",
       "    </tr>\n",
       "    <tr>\n",
       "      <th>4</th>\n",
       "      <td>0</td>\n",
       "      <td>0</td>\n",
       "      <td>0</td>\n",
       "      <td>76</td>\n",
       "      <td>43</td>\n",
       "      <td>7</td>\n",
       "      <td>0</td>\n",
       "      <td>0</td>\n",
       "      <td>0</td>\n",
       "      <td>0</td>\n",
       "      <td>0</td>\n",
       "      <td>1</td>\n",
       "      <td>(0.0, 0.0, 0.0, 76.0, 43.0, 7.0, 0.0, 0.0, 0.0...</td>\n",
       "    </tr>\n",
       "  </tbody>\n",
       "</table>\n",
       "</div>"
      ],
      "text/plain": [
       "   age  has_location  is_verified  total_tweets  total_following  \\\n",
       "0    0             0            0            34               39   \n",
       "1    0             0            0          2559              416   \n",
       "2    0             0            0          3741              986   \n",
       "3    0             0            0          4089             1474   \n",
       "4    0             0            0            76               43   \n",
       "\n",
       "   total_followers  total_likes  has_avatar  has_background  is_protected  \\\n",
       "0                4            0           0               0             0   \n",
       "1              210        22887           0               0             0   \n",
       "2              601         4037           0               0             0   \n",
       "3              273            0           0               0             0   \n",
       "4                7            0           0               0             0   \n",
       "\n",
       "   profile_modified  BotOrNot  \\\n",
       "0                 0         1   \n",
       "1                 0         0   \n",
       "2                 0         0   \n",
       "3                 0         1   \n",
       "4                 0         1   \n",
       "\n",
       "                                independent_features  \n",
       "0  (0.0, 0.0, 0.0, 34.0, 39.0, 4.0, 0.0, 0.0, 0.0...  \n",
       "1  (0.0, 0.0, 0.0, 2559.0, 416.0, 210.0, 22887.0,...  \n",
       "2  (0.0, 0.0, 0.0, 3741.0, 986.0, 601.0, 4037.0, ...  \n",
       "3  (0.0, 0.0, 0.0, 4089.0, 1474.0, 273.0, 0.0, 0....  \n",
       "4  (0.0, 0.0, 0.0, 76.0, 43.0, 7.0, 0.0, 0.0, 0.0...  "
      ]
     },
     "execution_count": 22,
     "metadata": {},
     "output_type": "execute_result"
    }
   ],
   "source": [
    "## convert into feature vector for ml model\n",
    "feature_columns = ['age', 'has_location', 'is_verified', 'total_tweets', 'total_following', \n",
    "                   'total_followers', 'total_likes', 'has_avatar', 'has_background', \n",
    "                   'is_protected', 'profile_modified']\n",
    "\n",
    "feature_assembler = VectorAssembler(inputCols = feature_columns, outputCol = 'independent_features')\n",
    "df_updated = feature_assembler.transform(new_df)\n",
    "df_updated.limit(5).toPandas()"
   ]
  },
  {
   "cell_type": "code",
   "execution_count": 23,
   "id": "e4c2f795",
   "metadata": {},
   "outputs": [
    {
     "data": {
      "text/plain": [
       "(pyspark.sql.dataframe.DataFrame,\n",
       " ['age',\n",
       "  'has_location',\n",
       "  'is_verified',\n",
       "  'total_tweets',\n",
       "  'total_following',\n",
       "  'total_followers',\n",
       "  'total_likes',\n",
       "  'has_avatar',\n",
       "  'has_background',\n",
       "  'is_protected',\n",
       "  'profile_modified',\n",
       "  'BotOrNot',\n",
       "  'independent_features'])"
      ]
     },
     "execution_count": 23,
     "metadata": {},
     "output_type": "execute_result"
    }
   ],
   "source": [
    "type(df_updated), df_updated.columns"
   ]
  },
  {
   "cell_type": "code",
   "execution_count": 24,
   "id": "34ee2ef7",
   "metadata": {},
   "outputs": [],
   "source": [
    "# keep only required features/columns\n",
    "df_updated = df_updated.select('independent_features', 'BotOrNot')"
   ]
  },
  {
   "cell_type": "code",
   "execution_count": 25,
   "id": "84b643e9",
   "metadata": {},
   "outputs": [
    {
     "data": {
      "text/html": [
       "<div>\n",
       "<style scoped>\n",
       "    .dataframe tbody tr th:only-of-type {\n",
       "        vertical-align: middle;\n",
       "    }\n",
       "\n",
       "    .dataframe tbody tr th {\n",
       "        vertical-align: top;\n",
       "    }\n",
       "\n",
       "    .dataframe thead th {\n",
       "        text-align: right;\n",
       "    }\n",
       "</style>\n",
       "<table border=\"1\" class=\"dataframe\">\n",
       "  <thead>\n",
       "    <tr style=\"text-align: right;\">\n",
       "      <th></th>\n",
       "      <th>independent_features</th>\n",
       "      <th>BotOrNot</th>\n",
       "    </tr>\n",
       "  </thead>\n",
       "  <tbody>\n",
       "    <tr>\n",
       "      <th>0</th>\n",
       "      <td>(0.0, 0.0, 0.0, 34.0, 39.0, 4.0, 0.0, 0.0, 0.0...</td>\n",
       "      <td>1</td>\n",
       "    </tr>\n",
       "    <tr>\n",
       "      <th>1</th>\n",
       "      <td>(0.0, 0.0, 0.0, 2559.0, 416.0, 210.0, 22887.0,...</td>\n",
       "      <td>0</td>\n",
       "    </tr>\n",
       "    <tr>\n",
       "      <th>2</th>\n",
       "      <td>(0.0, 0.0, 0.0, 3741.0, 986.0, 601.0, 4037.0, ...</td>\n",
       "      <td>0</td>\n",
       "    </tr>\n",
       "    <tr>\n",
       "      <th>3</th>\n",
       "      <td>(0.0, 0.0, 0.0, 4089.0, 1474.0, 273.0, 0.0, 0....</td>\n",
       "      <td>1</td>\n",
       "    </tr>\n",
       "    <tr>\n",
       "      <th>4</th>\n",
       "      <td>(0.0, 0.0, 0.0, 76.0, 43.0, 7.0, 0.0, 0.0, 0.0...</td>\n",
       "      <td>1</td>\n",
       "    </tr>\n",
       "  </tbody>\n",
       "</table>\n",
       "</div>"
      ],
      "text/plain": [
       "                                independent_features  BotOrNot\n",
       "0  (0.0, 0.0, 0.0, 34.0, 39.0, 4.0, 0.0, 0.0, 0.0...         1\n",
       "1  (0.0, 0.0, 0.0, 2559.0, 416.0, 210.0, 22887.0,...         0\n",
       "2  (0.0, 0.0, 0.0, 3741.0, 986.0, 601.0, 4037.0, ...         0\n",
       "3  (0.0, 0.0, 0.0, 4089.0, 1474.0, 273.0, 0.0, 0....         1\n",
       "4  (0.0, 0.0, 0.0, 76.0, 43.0, 7.0, 0.0, 0.0, 0.0...         1"
      ]
     },
     "execution_count": 25,
     "metadata": {},
     "output_type": "execute_result"
    }
   ],
   "source": [
    "df_updated.select(\"independent_features\", 'BotOrNot').limit(5).toPandas()"
   ]
  },
  {
   "cell_type": "code",
   "execution_count": 26,
   "id": "0dc9796b",
   "metadata": {},
   "outputs": [],
   "source": [
    "## Make data standard\n",
    "# https://spark.apache.org/docs/1.4.1/ml-features.html#standardscaler\n",
    "\n",
    "scaler = StandardScaler(inputCol=\"independent_features\", outputCol=\"scaled_features\",\n",
    "                        withStd=True, withMean=False)\n",
    "\n",
    "# Compute summary statistics by fitting the StandardScaler\n",
    "scalerModel = scaler.fit(df_updated)\n",
    "\n",
    "# Normalize each feature to have unit standard deviation.\n",
    "scaled_df = scalerModel.transform(df_updated)"
   ]
  },
  {
   "cell_type": "code",
   "execution_count": 27,
   "id": "5821e110",
   "metadata": {},
   "outputs": [
    {
     "data": {
      "text/html": [
       "<div>\n",
       "<style scoped>\n",
       "    .dataframe tbody tr th:only-of-type {\n",
       "        vertical-align: middle;\n",
       "    }\n",
       "\n",
       "    .dataframe tbody tr th {\n",
       "        vertical-align: top;\n",
       "    }\n",
       "\n",
       "    .dataframe thead th {\n",
       "        text-align: right;\n",
       "    }\n",
       "</style>\n",
       "<table border=\"1\" class=\"dataframe\">\n",
       "  <thead>\n",
       "    <tr style=\"text-align: right;\">\n",
       "      <th></th>\n",
       "      <th>independent_features</th>\n",
       "      <th>scaled_features</th>\n",
       "      <th>BotOrNot</th>\n",
       "    </tr>\n",
       "  </thead>\n",
       "  <tbody>\n",
       "    <tr>\n",
       "      <th>0</th>\n",
       "      <td>(0.0, 0.0, 0.0, 34.0, 39.0, 4.0, 0.0, 0.0, 0.0...</td>\n",
       "      <td>(0.0, 0.0, 0.0, 0.001563141247442364, 0.019712...</td>\n",
       "      <td>1</td>\n",
       "    </tr>\n",
       "    <tr>\n",
       "      <th>1</th>\n",
       "      <td>(0.0, 0.0, 0.0, 2559.0, 416.0, 210.0, 22887.0,...</td>\n",
       "      <td>(0.0, 0.0, 0.0, 0.1176493662413238, 0.21026992...</td>\n",
       "      <td>0</td>\n",
       "    </tr>\n",
       "    <tr>\n",
       "      <th>2</th>\n",
       "      <td>(0.0, 0.0, 0.0, 3741.0, 986.0, 601.0, 4037.0, ...</td>\n",
       "      <td>(0.0, 0.0, 0.0, 0.17199151196123186, 0.4983801...</td>\n",
       "      <td>0</td>\n",
       "    </tr>\n",
       "    <tr>\n",
       "      <th>3</th>\n",
       "      <td>(0.0, 0.0, 0.0, 4089.0, 1474.0, 273.0, 0.0, 0....</td>\n",
       "      <td>(0.0, 0.0, 0.0, 0.18799072237623018, 0.7450429...</td>\n",
       "      <td>1</td>\n",
       "    </tr>\n",
       "    <tr>\n",
       "      <th>4</th>\n",
       "      <td>(0.0, 0.0, 0.0, 76.0, 43.0, 7.0, 0.0, 0.0, 0.0...</td>\n",
       "      <td>(0.0, 0.0, 0.0, 0.0034940804354594017, 0.02173...</td>\n",
       "      <td>1</td>\n",
       "    </tr>\n",
       "  </tbody>\n",
       "</table>\n",
       "</div>"
      ],
      "text/plain": [
       "                                independent_features  \\\n",
       "0  (0.0, 0.0, 0.0, 34.0, 39.0, 4.0, 0.0, 0.0, 0.0...   \n",
       "1  (0.0, 0.0, 0.0, 2559.0, 416.0, 210.0, 22887.0,...   \n",
       "2  (0.0, 0.0, 0.0, 3741.0, 986.0, 601.0, 4037.0, ...   \n",
       "3  (0.0, 0.0, 0.0, 4089.0, 1474.0, 273.0, 0.0, 0....   \n",
       "4  (0.0, 0.0, 0.0, 76.0, 43.0, 7.0, 0.0, 0.0, 0.0...   \n",
       "\n",
       "                                     scaled_features  BotOrNot  \n",
       "0  (0.0, 0.0, 0.0, 0.001563141247442364, 0.019712...         1  \n",
       "1  (0.0, 0.0, 0.0, 0.1176493662413238, 0.21026992...         0  \n",
       "2  (0.0, 0.0, 0.0, 0.17199151196123186, 0.4983801...         0  \n",
       "3  (0.0, 0.0, 0.0, 0.18799072237623018, 0.7450429...         1  \n",
       "4  (0.0, 0.0, 0.0, 0.0034940804354594017, 0.02173...         1  "
      ]
     },
     "execution_count": 27,
     "metadata": {},
     "output_type": "execute_result"
    }
   ],
   "source": [
    "scaled_df.select(\"independent_features\", \"scaled_features\", 'BotOrNot').limit(5).toPandas()"
   ]
  },
  {
   "cell_type": "code",
   "execution_count": 28,
   "id": "75c09d19",
   "metadata": {},
   "outputs": [
    {
     "data": {
      "text/plain": [
       "['independent_features', 'BotOrNot', 'scaled_features']"
      ]
     },
     "execution_count": 28,
     "metadata": {},
     "output_type": "execute_result"
    }
   ],
   "source": [
    "scaled_df.columns"
   ]
  },
  {
   "cell_type": "code",
   "execution_count": 29,
   "id": "94fabdca",
   "metadata": {},
   "outputs": [],
   "source": [
    "# keep only necessary feature/column for ml model\n",
    "scaled_df = scaled_df.select('scaled_features', 'BotOrNot')"
   ]
  },
  {
   "cell_type": "code",
   "execution_count": 30,
   "id": "2e894838",
   "metadata": {},
   "outputs": [],
   "source": [
    "# split data for training ana testing\n",
    "train_df, test_df = scaled_df.randomSplit([0.80, 0.20])"
   ]
  },
  {
   "cell_type": "code",
   "execution_count": 31,
   "id": "5ba4f63a",
   "metadata": {},
   "outputs": [
    {
     "data": {
      "text/plain": [
       "(6722, 1664)"
      ]
     },
     "execution_count": 31,
     "metadata": {},
     "output_type": "execute_result"
    }
   ],
   "source": [
    "train_df.count(), test_df.count()"
   ]
  },
  {
   "cell_type": "code",
   "execution_count": 32,
   "id": "643d588d",
   "metadata": {},
   "outputs": [
    {
     "data": {
      "text/plain": [
       "['scaled_features', 'BotOrNot']"
      ]
     },
     "execution_count": 32,
     "metadata": {},
     "output_type": "execute_result"
    }
   ],
   "source": [
    "train_df.columns"
   ]
  },
  {
   "cell_type": "code",
   "execution_count": 33,
   "id": "372710e3",
   "metadata": {},
   "outputs": [],
   "source": [
    "# features --> 'BotOrNot'\n",
    "X_train = train_df.drop('BotOrNot')\n",
    "y_train = train_df.select('BotOrNot')\n",
    "X_test = test_df.drop('BotOrNot')\n",
    "y_test = test_df.select('BotOrNot')"
   ]
  },
  {
   "cell_type": "code",
   "execution_count": 34,
   "id": "98d1030a",
   "metadata": {},
   "outputs": [
    {
     "data": {
      "text/plain": [
       "(['scaled_features'], ['BotOrNot'])"
      ]
     },
     "execution_count": 34,
     "metadata": {},
     "output_type": "execute_result"
    }
   ],
   "source": [
    "X_train.columns, y_train.columns"
   ]
  },
  {
   "cell_type": "code",
   "execution_count": 35,
   "id": "55c0ec93",
   "metadata": {},
   "outputs": [
    {
     "name": "stdout",
     "output_type": "stream",
     "text": [
      "root\n",
      " |-- scaled_features: vector (nullable = true)\n",
      "\n",
      "root\n",
      " |-- BotOrNot: integer (nullable = false)\n",
      "\n"
     ]
    },
    {
     "data": {
      "text/plain": [
       "(None, None)"
      ]
     },
     "execution_count": 35,
     "metadata": {},
     "output_type": "execute_result"
    }
   ],
   "source": [
    "X_train.printSchema(), y_train.printSchema()"
   ]
  },
  {
   "cell_type": "code",
   "execution_count": 36,
   "id": "bf5cea4c",
   "metadata": {},
   "outputs": [
    {
     "data": {
      "text/plain": [
       "(pyspark.sql.dataframe.DataFrame, pyspark.sql.dataframe.DataFrame)"
      ]
     },
     "execution_count": 36,
     "metadata": {},
     "output_type": "execute_result"
    }
   ],
   "source": [
    "type(X_train), type(y_train)"
   ]
  },
  {
   "cell_type": "code",
   "execution_count": 37,
   "id": "6937c96f",
   "metadata": {},
   "outputs": [
    {
     "data": {
      "text/html": [
       "<div>\n",
       "<style scoped>\n",
       "    .dataframe tbody tr th:only-of-type {\n",
       "        vertical-align: middle;\n",
       "    }\n",
       "\n",
       "    .dataframe tbody tr th {\n",
       "        vertical-align: top;\n",
       "    }\n",
       "\n",
       "    .dataframe thead th {\n",
       "        text-align: right;\n",
       "    }\n",
       "</style>\n",
       "<table border=\"1\" class=\"dataframe\">\n",
       "  <thead>\n",
       "    <tr style=\"text-align: right;\">\n",
       "      <th></th>\n",
       "      <th>scaled_features</th>\n",
       "    </tr>\n",
       "  </thead>\n",
       "  <tbody>\n",
       "    <tr>\n",
       "      <th>0</th>\n",
       "      <td>(0.0, 0.0, 0.0, 0.00045974742571834235, 0.0, 0...</td>\n",
       "    </tr>\n",
       "    <tr>\n",
       "      <th>1</th>\n",
       "      <td>(0.0, 0.0, 0.0, 0.0005516969108620108, 0.0, 0....</td>\n",
       "    </tr>\n",
       "    <tr>\n",
       "      <th>2</th>\n",
       "      <td>(0.0, 0.0, 0.0, 0.0007355958811493477, 0.0, 0....</td>\n",
       "    </tr>\n",
       "    <tr>\n",
       "      <th>3</th>\n",
       "      <td>(0.0, 0.0, 0.0, 0.0009194948514366847, 0.0, 0....</td>\n",
       "    </tr>\n",
       "    <tr>\n",
       "      <th>4</th>\n",
       "      <td>(0.0, 0.0, 0.0, 0.0009654695940085189, 0.0, 0....</td>\n",
       "    </tr>\n",
       "  </tbody>\n",
       "</table>\n",
       "</div>"
      ],
      "text/plain": [
       "                                     scaled_features\n",
       "0  (0.0, 0.0, 0.0, 0.00045974742571834235, 0.0, 0...\n",
       "1  (0.0, 0.0, 0.0, 0.0005516969108620108, 0.0, 0....\n",
       "2  (0.0, 0.0, 0.0, 0.0007355958811493477, 0.0, 0....\n",
       "3  (0.0, 0.0, 0.0, 0.0009194948514366847, 0.0, 0....\n",
       "4  (0.0, 0.0, 0.0, 0.0009654695940085189, 0.0, 0...."
      ]
     },
     "execution_count": 37,
     "metadata": {},
     "output_type": "execute_result"
    }
   ],
   "source": [
    "X_train.limit(5).toPandas()"
   ]
  },
  {
   "cell_type": "code",
   "execution_count": 38,
   "id": "731b8f2e",
   "metadata": {},
   "outputs": [
    {
     "name": "stdout",
     "output_type": "stream",
     "text": [
      "Model: \"sequential\"\n",
      "_________________________________________________________________\n",
      " Layer (type)                Output Shape              Param #   \n",
      "=================================================================\n",
      " dense (Dense)               (None, 500)               6000      \n",
      "                                                                 \n",
      " activation (Activation)     (None, 500)               0         \n",
      "                                                                 \n",
      " dropout (Dropout)           (None, 500)               0         \n",
      "                                                                 \n",
      " dense_1 (Dense)             (None, 200)               100200    \n",
      "                                                                 \n",
      " activation_1 (Activation)   (None, 200)               0         \n",
      "                                                                 \n",
      " dropout_1 (Dropout)         (None, 200)               0         \n",
      "                                                                 \n",
      " dense_2 (Dense)             (None, 1)                 201       \n",
      "                                                                 \n",
      " activation_2 (Activation)   (None, 1)                 0         \n",
      "                                                                 \n",
      "=================================================================\n",
      "Total params: 106,401\n",
      "Trainable params: 106,401\n",
      "Non-trainable params: 0\n",
      "_________________________________________________________________\n"
     ]
    }
   ],
   "source": [
    "## create model\n",
    "\n",
    "# inp = Input(shape=[11])\n",
    "\n",
    "# another = Dense(500, activation='relu')(inp)\n",
    "# another = Dense(200, activation='relu')(another)\n",
    "# another = Dense(1, activation='sigmoid')(another)\n",
    "\n",
    "# mod = Model(inp, another)\n",
    "# mod.compile(optimizer='adam', loss='binary_crossentropy', metrics=['accuracy'])\n",
    "\n",
    "\n",
    "model = Sequential()\n",
    "model.add(Dense(500, input_dim=11))\n",
    "model.add(Activation('relu'))\n",
    "model.add(Dropout(0.2))\n",
    "model.add(Dense(200))\n",
    "model.add(Activation('relu'))\n",
    "model.add(Dropout(0.2))\n",
    "model.add(Dense(1))\n",
    "model.add(Activation('sigmoid'))\n",
    "model.compile(loss='binary_crossentropy', optimizer=Adam(), metrics=['accuracy'])\n",
    "\n",
    "model.summary()"
   ]
  },
  {
   "cell_type": "code",
   "execution_count": 39,
   "id": "441d978a",
   "metadata": {},
   "outputs": [
    {
     "name": "stdout",
     "output_type": "stream",
     "text": [
      "root\n",
      " |-- scaled_features: vector (nullable = true)\n",
      "\n",
      "root\n",
      " |-- BotOrNot: integer (nullable = false)\n",
      "\n"
     ]
    },
    {
     "data": {
      "text/plain": [
       "(None, None)"
      ]
     },
     "execution_count": 39,
     "metadata": {},
     "output_type": "execute_result"
    }
   ],
   "source": [
    "X_train.printSchema(), y_train.printSchema()"
   ]
  },
  {
   "cell_type": "code",
   "execution_count": 40,
   "id": "d485856b",
   "metadata": {},
   "outputs": [],
   "source": [
    "# convert DataFrame column into nparray\n",
    "# nparray required for model training, validation\n",
    "\n",
    "def to_nparray_list(df, column_name):\n",
    "    rows = df.select(column_name).collect()\n",
    "    lists = [x[column_name] for x in rows]\n",
    "    nparr = np.array(lists)\n",
    "    \n",
    "    return nparr"
   ]
  },
  {
   "cell_type": "code",
   "execution_count": 41,
   "id": "272a4105",
   "metadata": {},
   "outputs": [],
   "source": [
    "# DataFrame(column) --> nparray\n",
    "X_train = to_nparray_list(X_train, 'scaled_features')\n",
    "y_train = to_nparray_list(y_train, 'BotOrNot')\n",
    "X_test = to_nparray_list(X_test, 'scaled_features')\n",
    "y_test = to_nparray_list(y_test, 'BotOrNot')"
   ]
  },
  {
   "cell_type": "code",
   "execution_count": 42,
   "id": "193f7537",
   "metadata": {},
   "outputs": [
    {
     "data": {
      "text/plain": [
       "array([[0.        , 0.        , 0.        , 0.00045975, 0.        ,\n",
       "        0.        , 0.        , 0.        , 0.        , 0.        ,\n",
       "        0.        ],\n",
       "       [0.        , 0.        , 0.        , 0.0005517 , 0.        ,\n",
       "        0.        , 0.        , 0.        , 0.        , 0.        ,\n",
       "        0.        ],\n",
       "       [0.        , 0.        , 0.        , 0.0007356 , 0.        ,\n",
       "        0.        , 0.        , 0.        , 0.        , 0.        ,\n",
       "        0.        ],\n",
       "       [0.        , 0.        , 0.        , 0.00091949, 0.        ,\n",
       "        0.        , 0.        , 0.        , 0.        , 0.        ,\n",
       "        0.        ],\n",
       "       [0.        , 0.        , 0.        , 0.00096547, 0.        ,\n",
       "        0.        , 0.        , 0.        , 0.        , 0.        ,\n",
       "        0.        ]])"
      ]
     },
     "execution_count": 42,
     "metadata": {},
     "output_type": "execute_result"
    }
   ],
   "source": [
    "X_train[:5]"
   ]
  },
  {
   "cell_type": "code",
   "execution_count": 43,
   "id": "90303001",
   "metadata": {},
   "outputs": [
    {
     "name": "stdout",
     "output_type": "stream",
     "text": [
      "Epoch 1/20\n",
      "106/106 [==============================] - 1s 7ms/step - loss: 0.4111 - accuracy: 0.8591 - val_loss: 0.3212 - val_accuracy: 0.8918\n",
      "Epoch 2/20\n",
      "106/106 [==============================] - 1s 5ms/step - loss: 0.2587 - accuracy: 0.9148 - val_loss: 0.2659 - val_accuracy: 0.9303\n",
      "Epoch 3/20\n",
      "106/106 [==============================] - 1s 5ms/step - loss: 0.2170 - accuracy: 0.9316 - val_loss: 0.2244 - val_accuracy: 0.9357\n",
      "Epoch 4/20\n",
      "106/106 [==============================] - 1s 5ms/step - loss: 0.1939 - accuracy: 0.9412 - val_loss: 0.1969 - val_accuracy: 0.9447\n",
      "Epoch 5/20\n",
      "106/106 [==============================] - 1s 5ms/step - loss: 0.1663 - accuracy: 0.9458 - val_loss: 0.1839 - val_accuracy: 0.9411\n",
      "Epoch 6/20\n",
      "106/106 [==============================] - 1s 5ms/step - loss: 0.1571 - accuracy: 0.9496 - val_loss: 0.1634 - val_accuracy: 0.9495\n",
      "Epoch 7/20\n",
      "106/106 [==============================] - 1s 5ms/step - loss: 0.1411 - accuracy: 0.9528 - val_loss: 0.1672 - val_accuracy: 0.9477\n",
      "Epoch 8/20\n",
      "106/106 [==============================] - 1s 5ms/step - loss: 0.1291 - accuracy: 0.9573 - val_loss: 0.1423 - val_accuracy: 0.9567\n",
      "Epoch 9/20\n",
      "106/106 [==============================] - 1s 5ms/step - loss: 0.1306 - accuracy: 0.9575 - val_loss: 0.1487 - val_accuracy: 0.9543\n",
      "Epoch 10/20\n",
      "106/106 [==============================] - 1s 5ms/step - loss: 0.1246 - accuracy: 0.9603 - val_loss: 0.1615 - val_accuracy: 0.9537\n",
      "Epoch 11/20\n",
      "106/106 [==============================] - 1s 5ms/step - loss: 0.1159 - accuracy: 0.9646 - val_loss: 0.1258 - val_accuracy: 0.9621\n",
      "Epoch 12/20\n",
      "106/106 [==============================] - 1s 5ms/step - loss: 0.1172 - accuracy: 0.9650 - val_loss: 0.1396 - val_accuracy: 0.9567\n",
      "Epoch 13/20\n",
      "106/106 [==============================] - 1s 5ms/step - loss: 0.1280 - accuracy: 0.9619 - val_loss: 0.1489 - val_accuracy: 0.9549\n",
      "Epoch 14/20\n",
      "106/106 [==============================] - 1s 5ms/step - loss: 0.1130 - accuracy: 0.9652 - val_loss: 0.1246 - val_accuracy: 0.9657\n",
      "Epoch 15/20\n",
      "106/106 [==============================] - 1s 5ms/step - loss: 0.1167 - accuracy: 0.9639 - val_loss: 0.1247 - val_accuracy: 0.9700\n",
      "Epoch 16/20\n",
      "106/106 [==============================] - 1s 5ms/step - loss: 0.1077 - accuracy: 0.9659 - val_loss: 0.1276 - val_accuracy: 0.9645\n",
      "Epoch 17/20\n",
      "106/106 [==============================] - 1s 5ms/step - loss: 0.1123 - accuracy: 0.9656 - val_loss: 0.1338 - val_accuracy: 0.9627\n",
      "Epoch 18/20\n",
      "106/106 [==============================] - 1s 5ms/step - loss: 0.1072 - accuracy: 0.9680 - val_loss: 0.1140 - val_accuracy: 0.9694\n",
      "Epoch 19/20\n",
      "106/106 [==============================] - 1s 6ms/step - loss: 0.1020 - accuracy: 0.9692 - val_loss: 0.1261 - val_accuracy: 0.9627\n",
      "Epoch 20/20\n",
      "106/106 [==============================] - 1s 6ms/step - loss: 0.1007 - accuracy: 0.9699 - val_loss: 0.1375 - val_accuracy: 0.9585\n",
      "Test accuracy: 0.9585336446762085\n"
     ]
    }
   ],
   "source": [
    "# ml model train and validation\n",
    "\n",
    "model.fit(X_train, y_train,\n",
    "          batch_size=64,\n",
    "          epochs=20,\n",
    "          validation_data=(X_test, y_test))\n",
    "score, acc = model.evaluate(X_test, y_test, verbose=0)\n",
    "print('Test accuracy:', acc)"
   ]
  },
  {
   "cell_type": "code",
   "execution_count": 44,
   "id": "2f2fd968",
   "metadata": {},
   "outputs": [],
   "source": [
    "model.save(result_path_s3 + 'my_model.h5')"
   ]
  },
  {
   "cell_type": "code",
   "execution_count": 45,
   "id": "50ce6313",
   "metadata": {},
   "outputs": [],
   "source": [
    "#model cross validation\n",
    "from sklearn.model_selection import KFold"
   ]
  },
  {
   "cell_type": "code",
   "execution_count": 46,
   "id": "ad13b2ef",
   "metadata": {},
   "outputs": [
    {
     "data": {
      "text/plain": [
       "(8386, 8386)"
      ]
     },
     "execution_count": 46,
     "metadata": {},
     "output_type": "execute_result"
    }
   ],
   "source": [
    "X = np.concatenate([X_train, X_test])\n",
    "Y = np.concatenate([y_train, y_test])\n",
    "\n",
    "len(X), len(Y)"
   ]
  },
  {
   "cell_type": "code",
   "execution_count": 47,
   "id": "6790d5a5",
   "metadata": {},
   "outputs": [],
   "source": [
    "# def splitDataset(n_split, X, Y):\n",
    "#     for train_index,test_index in KFold(n_split).split(X):\n",
    "\n",
    "#         x_train, x_test=X[train_index],X[test_index]\n",
    "#         #y_train, y_test=Y[train_index],Y[t est_index]\n",
    "#         #print( \"train: {},{} test: {},{}\".format(len(x_train), len(y_train), len(x_test), len(y_test)))\n",
    "#         print( \"train: {},{} test: {},{}\".format(len(x_train), len(y_train), len(x_test)))\n",
    "# splitDataset(5, X, Y)"
   ]
  },
  {
   "cell_type": "code",
   "execution_count": 57,
   "id": "83cf2ffd",
   "metadata": {},
   "outputs": [],
   "source": [
    "def distributedTrainingGradients(df, feature_column, target_column, n_splits):\n",
    "    print(df.count())\n",
    "    each_len = df.count() // n_splits\n",
    "    \n",
    "    ##split dataset into 'n_splits' part\n",
    "    copy_df = df\n",
    "    for i in range(n_splits):\n",
    "        temp_df = copy_df.limit(each_len)\n",
    "        copy_df = copy_df.subtract(temp_df)\n",
    "        \n",
    "        print(temp_df.count())\n",
    "\n",
    "# distributedTrainingGradients(scaled_df, \"\", \"\", 5)"
   ]
  },
  {
   "cell_type": "code",
   "execution_count": 58,
   "id": "16b5fddc",
   "metadata": {},
   "outputs": [
    {
     "name": "stdout",
     "output_type": "stream",
     "text": [
      "root\n",
      " |-- scaled_features: vector (nullable = true)\n",
      " |-- BotOrNot: integer (nullable = false)\n",
      "\n"
     ]
    }
   ],
   "source": [
    "scaled_df.printSchema()"
   ]
  },
  {
   "cell_type": "code",
   "execution_count": 59,
   "id": "5e8f0da7",
   "metadata": {},
   "outputs": [
    {
     "data": {
      "text/plain": [
       "8386"
      ]
     },
     "execution_count": 59,
     "metadata": {},
     "output_type": "execute_result"
    }
   ],
   "source": [
    "scaled_df.count()"
   ]
  },
  {
   "cell_type": "code",
   "execution_count": 60,
   "id": "81b1fc60",
   "metadata": {},
   "outputs": [
    {
     "name": "stdout",
     "output_type": "stream",
     "text": [
      "8386\n",
      "1677\n",
      "1677\n",
      "1677\n",
      "1677\n",
      "699\n"
     ]
    }
   ],
   "source": [
    "distributedTrainingGradients(scaled_df, '', '', 5)"
   ]
  },
  {
   "cell_type": "code",
   "execution_count": null,
   "id": "90f348a0",
   "metadata": {},
   "outputs": [],
   "source": []
  }
 ],
 "metadata": {
  "kernelspec": {
   "display_name": "Python 3 (ipykernel)",
   "language": "python",
   "name": "python3"
  },
  "language_info": {
   "codemirror_mode": {
    "name": "ipython",
    "version": 3
   },
   "file_extension": ".py",
   "mimetype": "text/x-python",
   "name": "python",
   "nbconvert_exporter": "python",
   "pygments_lexer": "ipython3",
   "version": "3.10.6"
  }
 },
 "nbformat": 4,
 "nbformat_minor": 5
}
