{
 "cells": [
  {
   "cell_type": "code",
   "execution_count": 1,
   "id": "0596dd82",
   "metadata": {},
   "outputs": [],
   "source": [
    "# required libraries\n",
    "import pandas as pd\n",
    "import numpy as np\n",
    "import math\n",
    "\n",
    "from pyspark.sql import SparkSession\n",
    "from pyspark.sql.functions import to_timestamp\n",
    "from pyspark.sql.functions import col, udf, to_timestamp, lit\n",
    "from pyspark.sql.types import IntegerType\n",
    "from pyspark.sql.functions import when, rand\n",
    "from pyspark.ml.feature import Normalizer, StandardScaler, MinMaxScaler, VectorAssembler\n",
    "\n",
    "from tensorflow.keras.layers import Embedding, Dense, LSTM, Dense, Input, concatenate, Dropout, Activation\n",
    "from tensorflow.keras.models import Model, Sequential\n",
    "from tensorflow.keras.utils import plot_model\n",
    "from tensorflow.keras.optimizers import SGD, Adam\n",
    "\n",
    "from tensorflow.keras.preprocessing.text import Tokenizer\n",
    "from tensorflow.keras.preprocessing.sequence import pad_sequences"
   ]
  },
  {
   "cell_type": "code",
   "execution_count": null,
   "id": "c83d23e6",
   "metadata": {},
   "outputs": [],
   "source": [
    "# init spark\n",
    "spark = SparkSession.builder.appName('ml_account_base_session').getOrCreate()\n",
    "spark"
   ]
  },
  {
   "cell_type": "code",
   "execution_count": null,
   "id": "e6b0a1dc",
   "metadata": {},
   "outputs": [],
   "source": [
    "#dataset path\n",
    "dataset_folder_s3 = 'data/' # 's3://bot-dataset/data/'\n",
    "result_path_s3 = '' # 's3://bot-dataset/result/'"
   ]
  },
  {
   "cell_type": "code",
   "execution_count": null,
   "id": "35c9f4fe",
   "metadata": {},
   "outputs": [],
   "source": [
    "# read dataset from csv\n",
    "\n",
    "requiredColumns = requiredColumns = ['screen_name', 'created_at', 'updated', 'location', 'verified', 'statuses_count', 'friends_count','followers_count', 'favourites_count', 'default_profile_image', 'profile_use_background_image', 'protected', 'default_profile']\n",
    "\n",
    "bot_accounts1 = spark.read.csv(dataset_folder_s3 + 'social_spambots_1.csv', header = True, inferSchema = True).select(requiredColumns)\n",
    "bot_accounts2 = spark.read.csv(dataset_folder_s3 + 'social_spambots_2.csv', header = True, inferSchema = True).select(requiredColumns)\n",
    "bot_accounts3 = spark.read.csv(dataset_folder_s3 + 'social_spambots_3.csv', header = True, inferSchema = True).select(requiredColumns)\n",
    "\n",
    "# combine multiple bot_account dataset\n",
    "bot_accounts = bot_accounts1.union(bot_accounts2.union(bot_accounts3))\n",
    "clean_accounts = spark.read.csv(dataset_folder_s3 + 'geniune_accounts.csv', header = True, inferSchema = True).select(requiredColumns)"
   ]
  },
  {
   "cell_type": "code",
   "execution_count": null,
   "id": "1beab473",
   "metadata": {},
   "outputs": [],
   "source": [
    "# check number of rows in each dataset\n",
    "bot_accounts1.count(), bot_accounts2.count(), bot_accounts3.count(), bot_accounts.count(), clean_accounts.count()"
   ]
  },
  {
   "cell_type": "code",
   "execution_count": null,
   "id": "03bb5bb4",
   "metadata": {},
   "outputs": [],
   "source": [
    "# check structure of the dataframe\n",
    "bot_accounts.printSchema()\n",
    "clean_accounts.printSchema()"
   ]
  },
  {
   "cell_type": "code",
   "execution_count": null,
   "id": "f2036cf0",
   "metadata": {},
   "outputs": [],
   "source": [
    "#check bot account data\n",
    "bot_accounts.limit(3).toPandas()"
   ]
  },
  {
   "cell_type": "code",
   "execution_count": null,
   "id": "6c0d953f",
   "metadata": {},
   "outputs": [],
   "source": [
    "# check clean_account data\n",
    "clean_accounts.limit(3).toPandas()"
   ]
  },
  {
   "cell_type": "code",
   "execution_count": null,
   "id": "d7d9a212",
   "metadata": {},
   "outputs": [],
   "source": [
    "# test feature value domain space for feature engineering\n",
    "def printFeatureDomain(df):\n",
    "    columns = df.columns\n",
    "    for col in columns:\n",
    "        col_domain = df.select(col).distinct().collect()\n",
    "        value_domain = [item[0] for item in col_domain]\n",
    "        print(\"{}({}): {}\\n\".format(col,len(value_domain), value_domain[:5]))\n",
    "        \n",
    "printFeatureDomain(bot_accounts)\n",
    "printFeatureDomain(clean_accounts)"
   ]
  },
  {
   "cell_type": "code",
   "execution_count": null,
   "id": "9d4c3a54",
   "metadata": {},
   "outputs": [],
   "source": [
    "# def clean_df(df):\n",
    "#     type(df)\n",
    "#     df['created_at'] = pd.to_datetime(df['created_at']).dt.tz_localize(None)\n",
    "#     df['updated'] = pd.to_datetime(df['updated']).dt.tz_localize(None)\n",
    "#     df['age'] = (df['updated'] - df['created_at']).astype('timedelta64[D]').astype(int)\n",
    "#     df['has_location'] = df['location'].apply(lambda x: 0 if x==x else 1)\n",
    "#     df['has_avatar'] = df['default_profile_image'].apply(lambda x: 1 if x==x else 0)\n",
    "#     df['has_background'] = df['profile_use_background_image'].apply(lambda x: 1 if x==x else 0)\n",
    "#     df['is_verified']=df['verified'].apply(lambda x: 1 if x==x else 0)\n",
    "#     df['is_protected']=df['protected'].apply(lambda x: 1 if x==x else 0)\n",
    "#     df['profile_modified'] = df['default_profile'].apply(lambda x: 0 if x==x else 1)\n",
    "#     df = df.rename(index=str, columns={\"screen_name\": \"username\", \"statuses_count\": \"total_tweets\", \"friends_count\": \"total_following\", \"followers_count\": \"total_followers\", \"favourites_count\": \"total_likes\"})\n",
    "#     return df[['username', 'age', 'has_location', 'is_verified', 'total_tweets', 'total_following', 'total_followers', 'total_likes', 'has_avatar', 'has_background', 'is_protected', 'profile_modified']]\n"
   ]
  },
  {
   "cell_type": "code",
   "execution_count": null,
   "id": "4d6a5684",
   "metadata": {},
   "outputs": [],
   "source": [
    "# clean dataset\n",
    "def cleanData(df):\n",
    "    df = df.withColumn('age', lit(0)) # need to calculate from 'updated' -'created_at'\n",
    "    df = df.withColumn('has_location', when((df['location'] != None), 1).otherwise(0))\n",
    "    df = df.withColumn('has_avatar', when((df['default_profile_image'] != None), 1).otherwise(0))\n",
    "    df = df.withColumn('has_background', when((df['profile_use_background_image'] != None), 1).otherwise(0))\n",
    "    df = df.withColumn('is_verified', when((df['verified'] != None), 1).otherwise(0))\n",
    "    df = df.withColumn('is_protected', when((df['protected'] != None), 1).otherwise(0))\n",
    "    df = df.withColumn('profile_modified', when((df['default_profile'] != None), 1).otherwise(0))\n",
    "    df = df.withColumnRenamed(\"screen_name\", \"username\")\n",
    "    df = df.withColumnRenamed(\"statuses_count\", \"total_tweets\")\n",
    "    df = df.withColumnRenamed(\"friends_count\", \"total_following\")\n",
    "    df = df.withColumnRenamed(\"followers_count\", \"total_followers\")\n",
    "    df = df.withColumnRenamed(\"favourites_count\", \"total_likes\")\n",
    "    \n",
    "    return df.select('username', 'age', 'has_location', 'is_verified', 'total_tweets', 'total_following', 'total_followers', 'total_likes', 'has_avatar', 'has_background', 'is_protected', 'profile_modified')\n",
    "    "
   ]
  },
  {
   "cell_type": "code",
   "execution_count": null,
   "id": "fc057ad3",
   "metadata": {},
   "outputs": [],
   "source": [
    "bot_accounts = cleanData(bot_accounts)\n",
    "clean_accounts = cleanData(clean_accounts)"
   ]
  },
  {
   "cell_type": "code",
   "execution_count": null,
   "id": "e9125c4c",
   "metadata": {},
   "outputs": [],
   "source": [
    "bot_accounts.printSchema()"
   ]
  },
  {
   "cell_type": "code",
   "execution_count": null,
   "id": "c48d030c",
   "metadata": {},
   "outputs": [],
   "source": [
    "clean_accounts.printSchema()"
   ]
  },
  {
   "cell_type": "code",
   "execution_count": null,
   "id": "141aeb98",
   "metadata": {},
   "outputs": [],
   "source": [
    "clean_accounts.limit(5).toPandas()"
   ]
  },
  {
   "cell_type": "code",
   "execution_count": null,
   "id": "19e87677",
   "metadata": {},
   "outputs": [],
   "source": [
    "bot_accounts.limit(5).toPandas()"
   ]
  },
  {
   "cell_type": "code",
   "execution_count": null,
   "id": "c7ddc0e9",
   "metadata": {},
   "outputs": [],
   "source": [
    "## add BotOrNot column\n",
    "bot_accounts = bot_accounts.withColumn('BotOrNot', lit(1))\n",
    "clean_accounts = clean_accounts.withColumn('BotOrNot', lit(0))"
   ]
  },
  {
   "cell_type": "code",
   "execution_count": null,
   "id": "096a6fa9",
   "metadata": {},
   "outputs": [],
   "source": [
    "#combine clean and bot accounts data togather\n",
    "combined_df = bot_accounts.union(clean_accounts)\n",
    "\n",
    "# shuffle dataset\n",
    "new_df = combined_df.orderBy(rand())\n",
    "\n",
    "#remove 'userrname' columns from dataset\n",
    "new_df = new_df.drop('username')"
   ]
  },
  {
   "cell_type": "code",
   "execution_count": null,
   "id": "cc1c87c4",
   "metadata": {},
   "outputs": [],
   "source": [
    "new_df.printSchema()"
   ]
  },
  {
   "cell_type": "code",
   "execution_count": null,
   "id": "0affcd82",
   "metadata": {},
   "outputs": [],
   "source": [
    "new_df.count()"
   ]
  },
  {
   "cell_type": "code",
   "execution_count": null,
   "id": "bd210374",
   "metadata": {},
   "outputs": [],
   "source": [
    "new_df.columns"
   ]
  },
  {
   "cell_type": "code",
   "execution_count": null,
   "id": "f2d4a4c1",
   "metadata": {},
   "outputs": [],
   "source": [
    "## convert into feature vector for ml model\n",
    "feature_columns = ['age', 'has_location', 'is_verified', 'total_tweets', 'total_following', \n",
    "                   'total_followers', 'total_likes', 'has_avatar', 'has_background', \n",
    "                   'is_protected', 'profile_modified']\n",
    "\n",
    "feature_assembler = VectorAssembler(inputCols = feature_columns, outputCol = 'independent_features')\n",
    "df_updated = feature_assembler.transform(new_df)\n",
    "df_updated.limit(5).toPandas()"
   ]
  },
  {
   "cell_type": "code",
   "execution_count": null,
   "id": "e4c2f795",
   "metadata": {},
   "outputs": [],
   "source": [
    "type(df_updated), df_updated.columns"
   ]
  },
  {
   "cell_type": "code",
   "execution_count": null,
   "id": "34ee2ef7",
   "metadata": {},
   "outputs": [],
   "source": [
    "# keep only required features/columns\n",
    "df_updated = df_updated.select('independent_features', 'BotOrNot')"
   ]
  },
  {
   "cell_type": "code",
   "execution_count": null,
   "id": "84b643e9",
   "metadata": {},
   "outputs": [],
   "source": [
    "df_updated.select(\"independent_features\", 'BotOrNot').limit(5).toPandas()"
   ]
  },
  {
   "cell_type": "code",
   "execution_count": null,
   "id": "0dc9796b",
   "metadata": {},
   "outputs": [],
   "source": [
    "## Make data standard\n",
    "# https://spark.apache.org/docs/1.4.1/ml-features.html#standardscaler\n",
    "\n",
    "scaler = StandardScaler(inputCol=\"independent_features\", outputCol=\"scaled_features\",\n",
    "                        withStd=True, withMean=False)\n",
    "\n",
    "# Compute summary statistics by fitting the StandardScaler\n",
    "scalerModel = scaler.fit(df_updated)\n",
    "\n",
    "# Normalize each feature to have unit standard deviation.\n",
    "scaled_df = scalerModel.transform(df_updated)"
   ]
  },
  {
   "cell_type": "code",
   "execution_count": null,
   "id": "5821e110",
   "metadata": {},
   "outputs": [],
   "source": [
    "scaled_df.select(\"independent_features\", \"scaled_features\", 'BotOrNot').limit(5).toPandas()"
   ]
  },
  {
   "cell_type": "code",
   "execution_count": null,
   "id": "75c09d19",
   "metadata": {},
   "outputs": [],
   "source": [
    "scaled_df.columns"
   ]
  },
  {
   "cell_type": "code",
   "execution_count": null,
   "id": "94fabdca",
   "metadata": {},
   "outputs": [],
   "source": [
    "# keep only necessary feature/column for ml model\n",
    "scaled_df = scaled_df.select('scaled_features', 'BotOrNot')"
   ]
  },
  {
   "cell_type": "code",
   "execution_count": null,
   "id": "2e894838",
   "metadata": {},
   "outputs": [],
   "source": [
    "# split data for training ana testing\n",
    "train_df, test_df = scaled_df.randomSplit([0.80, 0.20])"
   ]
  },
  {
   "cell_type": "code",
   "execution_count": null,
   "id": "5ba4f63a",
   "metadata": {},
   "outputs": [],
   "source": [
    "train_df.count(), test_df.count()"
   ]
  },
  {
   "cell_type": "code",
   "execution_count": null,
   "id": "643d588d",
   "metadata": {},
   "outputs": [],
   "source": [
    "train_df.columns"
   ]
  },
  {
   "cell_type": "code",
   "execution_count": null,
   "id": "372710e3",
   "metadata": {},
   "outputs": [],
   "source": [
    "# features --> 'BotOrNot'\n",
    "X_train = train_df.drop('BotOrNot')\n",
    "y_train = train_df.select('BotOrNot')\n",
    "X_test = test_df.drop('BotOrNot')\n",
    "y_test = test_df.select('BotOrNot')"
   ]
  },
  {
   "cell_type": "code",
   "execution_count": null,
   "id": "98d1030a",
   "metadata": {},
   "outputs": [],
   "source": [
    "X_train.columns, y_train.columns"
   ]
  },
  {
   "cell_type": "code",
   "execution_count": null,
   "id": "55c0ec93",
   "metadata": {},
   "outputs": [],
   "source": [
    "X_train.printSchema(), y_train.printSchema()"
   ]
  },
  {
   "cell_type": "code",
   "execution_count": null,
   "id": "bf5cea4c",
   "metadata": {},
   "outputs": [],
   "source": [
    "type(X_train), type(y_train)"
   ]
  },
  {
   "cell_type": "code",
   "execution_count": null,
   "id": "6937c96f",
   "metadata": {},
   "outputs": [],
   "source": [
    "X_train.limit(5).toPandas()"
   ]
  },
  {
   "cell_type": "code",
   "execution_count": null,
   "id": "731b8f2e",
   "metadata": {},
   "outputs": [],
   "source": [
    "## create model\n",
    "\n",
    "# inp = Input(shape=[11])\n",
    "\n",
    "# another = Dense(500, activation='relu')(inp)\n",
    "# another = Dense(200, activation='relu')(another)\n",
    "# another = Dense(1, activation='sigmoid')(another)\n",
    "\n",
    "# mod = Model(inp, another)\n",
    "# mod.compile(optimizer='adam', loss='binary_crossentropy', metrics=['accuracy'])\n",
    "\n",
    "\n",
    "model = Sequential()\n",
    "model.add(Dense(500, input_dim=11))\n",
    "model.add(Activation('relu'))\n",
    "model.add(Dropout(0.2))\n",
    "model.add(Dense(200))\n",
    "model.add(Activation('relu'))\n",
    "model.add(Dropout(0.2))\n",
    "model.add(Dense(1))\n",
    "model.add(Activation('sigmoid'))\n",
    "model.compile(loss='binary_crossentropy', optimizer=Adam(), metrics=['accuracy'])\n",
    "\n",
    "model.summary()"
   ]
  },
  {
   "cell_type": "code",
   "execution_count": null,
   "id": "441d978a",
   "metadata": {},
   "outputs": [],
   "source": [
    "X_train.printSchema(), y_train.printSchema()"
   ]
  },
  {
   "cell_type": "code",
   "execution_count": null,
   "id": "d485856b",
   "metadata": {},
   "outputs": [],
   "source": [
    "# convert DataFrame column into nparray\n",
    "# nparray required for model training, validation\n",
    "\n",
    "def to_nparray_list(df, column_name):\n",
    "    rows = df.select(column_name).collect()\n",
    "    lists = [x[column_name] for x in rows]\n",
    "    nparr = np.array(lists)\n",
    "    \n",
    "    return nparr"
   ]
  },
  {
   "cell_type": "code",
   "execution_count": null,
   "id": "272a4105",
   "metadata": {},
   "outputs": [],
   "source": [
    "# DataFrame(column) --> nparray\n",
    "X_train = to_nparray_list(X_train, 'scaled_features')\n",
    "y_train = to_nparray_list(y_train, 'BotOrNot')\n",
    "X_test = to_nparray_list(X_test, 'scaled_features')\n",
    "y_test = to_nparray_list(y_test, 'BotOrNot')"
   ]
  },
  {
   "cell_type": "code",
   "execution_count": null,
   "id": "193f7537",
   "metadata": {},
   "outputs": [],
   "source": [
    "X_train[:5]"
   ]
  },
  {
   "cell_type": "code",
   "execution_count": null,
   "id": "90303001",
   "metadata": {},
   "outputs": [],
   "source": [
    "# ml model train and validation\n",
    "\n",
    "model.fit(X_train, y_train,\n",
    "          batch_size=64,\n",
    "          epochs=20,\n",
    "          validation_data=(X_test, y_test))\n",
    "score, acc = model.evaluate(X_test, y_test, verbose=0)\n",
    "print('Test accuracy:', acc)"
   ]
  },
  {
   "cell_type": "code",
   "execution_count": null,
   "id": "2f2fd968",
   "metadata": {},
   "outputs": [],
   "source": [
    "model.save(result_path_s3 + 'my_model.h5')"
   ]
  },
  {
   "cell_type": "code",
   "execution_count": null,
   "id": "50ce6313",
   "metadata": {},
   "outputs": [],
   "source": [
    "#model cross validation\n",
    "from sklearn.model_selection import KFold"
   ]
  },
  {
   "cell_type": "code",
   "execution_count": null,
   "id": "ad13b2ef",
   "metadata": {},
   "outputs": [],
   "source": [
    "X = np.concatenate([X_train, X_test])\n",
    "Y = np.concatenate([y_train, y_test])\n",
    "\n",
    "len(X), len(Y)"
   ]
  },
  {
   "cell_type": "code",
   "execution_count": null,
   "id": "6790d5a5",
   "metadata": {},
   "outputs": [],
   "source": [
    "# def splitDataset(n_split, X, Y):\n",
    "#     for train_index,test_index in KFold(n_split).split(X):\n",
    "\n",
    "#         x_train, x_test=X[train_index],X[test_index]\n",
    "#         #y_train, y_test=Y[train_index],Y[t est_index]\n",
    "#         #print( \"train: {},{} test: {},{}\".format(len(x_train), len(y_train), len(x_test), len(y_test)))\n",
    "#         print( \"train: {},{} test: {},{}\".format(len(x_train), len(y_train), len(x_test)))\n",
    "# splitDataset(5, X, Y)"
   ]
  },
  {
   "cell_type": "code",
   "execution_count": null,
   "id": "83cf2ffd",
   "metadata": {},
   "outputs": [],
   "source": [
    "def distributedTrainingGradients(df, feature_column, target_column, n_splits):\n",
    "    print(df.count())\n",
    "    each_len = df.count() // n_splits\n",
    "    \n",
    "    ##split dataset into 'n_splits' part\n",
    "    copy_df = df\n",
    "    for i in range(n_splits):\n",
    "        temp_df = copy_df.limit(each_len)\n",
    "        copy_df = copy_df.subtract(temp_df)\n",
    "        \n",
    "        print(temp_df.count())\n",
    "\n",
    "# distributedTrainingGradients(scaled_df, \"\", \"\", 5)"
   ]
  },
  {
   "cell_type": "code",
   "execution_count": null,
   "id": "16b5fddc",
   "metadata": {},
   "outputs": [],
   "source": [
    "scaled_df.printSchema()"
   ]
  },
  {
   "cell_type": "code",
   "execution_count": null,
   "id": "5e8f0da7",
   "metadata": {},
   "outputs": [],
   "source": [
    "scaled_df.count()"
   ]
  },
  {
   "cell_type": "code",
   "execution_count": null,
   "id": "81b1fc60",
   "metadata": {},
   "outputs": [],
   "source": [
    "distributedTrainingGradients(scaled_df, '', '', 5)"
   ]
  },
  {
   "cell_type": "code",
   "execution_count": null,
   "id": "90f348a0",
   "metadata": {},
   "outputs": [],
   "source": []
  }
 ],
 "metadata": {
  "kernelspec": {
   "display_name": "Python 3 (ipykernel)",
   "language": "python",
   "name": "python3"
  },
  "language_info": {
   "codemirror_mode": {
    "name": "ipython",
    "version": 3
   },
   "file_extension": ".py",
   "mimetype": "text/x-python",
   "name": "python",
   "nbconvert_exporter": "python",
   "pygments_lexer": "ipython3",
   "version": "3.10.6"
  }
 },
 "nbformat": 4,
 "nbformat_minor": 5
}
