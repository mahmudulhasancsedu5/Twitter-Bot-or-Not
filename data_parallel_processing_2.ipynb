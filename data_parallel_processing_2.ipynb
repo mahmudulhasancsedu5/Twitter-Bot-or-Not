{
 "cells": [
  {
   "cell_type": "code",
   "execution_count": 1,
   "id": "00ec36ff",
   "metadata": {},
   "outputs": [],
   "source": [
    "#libraries / dependencies\n",
    "import numpy as np\n",
    "import math\n",
    "import random\n",
    "\n",
    "from pyspark.sql import SparkSession\n",
    "from pyspark.conf import SparkConf\n",
    "from pyspark.context import SparkContext\n",
    "\n",
    "from pyspark.sql.functions import col, udf, to_timestamp, lit, to_timestamp, when, rand\n",
    "from pyspark.sql.types import IntegerType, LongType, DoubleType, StringType, ArrayType\n",
    "from pyspark.ml.feature import Normalizer, StandardScaler, MinMaxScaler, VectorAssembler"
   ]
  },
  {
   "cell_type": "code",
   "execution_count": 2,
   "id": "b01ff1f9",
   "metadata": {},
   "outputs": [
    {
     "data": {
      "text/plain": [
       "'C:\\\\Users\\\\USER\\\\AppData\\\\Local\\\\Programs\\\\Python\\\\Python310\\\\Lib\\\\site-packages\\\\pyspark'"
      ]
     },
     "execution_count": 2,
     "metadata": {},
     "output_type": "execute_result"
    }
   ],
   "source": [
    "import findspark\n",
    "\n",
    "findspark.init()\n",
    "findspark.find()"
   ]
  },
  {
   "cell_type": "code",
   "execution_count": 3,
   "id": "7f26e399",
   "metadata": {},
   "outputs": [],
   "source": [
    "\n",
    "#Dataset location\n",
    "\n",
    "#Local\n",
    "bot_tweets_dataset_path = 'F://TwitterBotDataset//tweet_dataset_full//bot_tweets//'\n",
    "genuine_tweets_dataset_path = 'F://TwitterBotDataset//tweet_dataset_full//genuine_tweets//'\n",
    "#turn a line of text into d dimentional vector \n",
    "GLOVE_DIR = \"\"\n",
    "\n",
    "#all columns\n",
    "BOT_COLUMNS = ['id','text','source','user_id','truncated','in_reply_to_status_id', \n",
    "               'in_reply_to_user_id','in_reply_to_screen_name', 'retweeted_status_id',\n",
    "               'geo','place','contributors','retweet_count', 'reply_count','favorite_count',\n",
    "               'favorited', 'retweeted','possibly_sensitive','num_hashtags','num_urls',\n",
    "               'num_mentions','created_at','timestamp','crawled_at', 'updated']\n",
    "\n",
    "GENUINE_COLUMNS = ['id','text','source','user_id','truncated','in_reply_to_status_id', \n",
    "                   'in_reply_to_user_id','in_reply_to_screen_name', 'retweeted_status_id',\n",
    "                   'geo','place','contributors','retweet_count', 'reply_count','favorite_count',\n",
    "                   'favorited', 'retweeted','possibly_sensitive','num_hashtags','num_urls',\n",
    "                   'num_mentions','REMOVE_IT', 'created_at','timestamp','crawled_at', 'updated',]\n",
    "\n",
    "#feature used for bot detection\n",
    "COLUMN_NAMES = ['text', 'retweet_count', 'reply_count', 'favorite_count',\n",
    "                'num_hashtags', 'num_urls', 'num_mentions']"
   ]
  },
  {
   "cell_type": "code",
   "execution_count": 4,
   "id": "a69da28c",
   "metadata": {},
   "outputs": [
    {
     "data": {
      "text/html": [
       "\n",
       "            <div>\n",
       "                <p><b>SparkSession - in-memory</b></p>\n",
       "                \n",
       "        <div>\n",
       "            <p><b>SparkContext</b></p>\n",
       "\n",
       "            <p><a href=\"http://DESKTOP-SRLISO7:4041\">Spark UI</a></p>\n",
       "\n",
       "            <dl>\n",
       "              <dt>Version</dt>\n",
       "                <dd><code>v3.3.0</code></dd>\n",
       "              <dt>Master</dt>\n",
       "                <dd><code>local[10]</code></dd>\n",
       "              <dt>AppName</dt>\n",
       "                <dd><code>split_dataset_test_session</code></dd>\n",
       "            </dl>\n",
       "        </div>\n",
       "        \n",
       "            </div>\n",
       "        "
      ],
      "text/plain": [
       "<pyspark.sql.session.SparkSession at 0x1434d0c7430>"
      ]
     },
     "execution_count": 4,
     "metadata": {},
     "output_type": "execute_result"
    }
   ],
   "source": [
    "#local multi thread spark thread\n",
    "conf = SparkConf()\n",
    "conf.setMaster(\"local[10]\").setAppName(\"split_dataset_test_session\")\n",
    "sc = SparkContext(conf=conf)\n",
    "spark = SparkSession.builder.getOrCreate()\n",
    "spark"
   ]
  },
  {
   "cell_type": "code",
   "execution_count": 5,
   "id": "76052b95",
   "metadata": {},
   "outputs": [],
   "source": [
    "# read dataset from csv\n",
    "def read_dataset():\n",
    "    bot_tweets = spark.read.csv(bot_tweets_dataset_path, header = True, inferSchema = True).limit(100)\n",
    "    genuine_tweets = spark.read.csv(genuine_tweets_dataset_path, header = True, inferSchema = True).limit(100)\n",
    "    \n",
    "#     print(len(bot_tweets.collect()), len(genuine_tweets.collect()))\n",
    "    return bot_tweets, genuine_tweets\n",
    "\n",
    "df_bot, df_gen = read_dataset()"
   ]
  },
  {
   "cell_type": "code",
   "execution_count": 6,
   "id": "4a2c4e74",
   "metadata": {},
   "outputs": [
    {
     "name": "stdout",
     "output_type": "stream",
     "text": [
      "root\n",
      " |-- id: long (nullable = true)\n",
      " |-- text: string (nullable = true)\n",
      " |-- source: string (nullable = true)\n",
      " |-- user_id: string (nullable = true)\n",
      " |-- truncated: string (nullable = true)\n",
      " |-- in_reply_to_status_id: string (nullable = true)\n",
      " |-- in_reply_to_user_id: string (nullable = true)\n",
      " |-- in_reply_to_screen_name: string (nullable = true)\n",
      " |-- retweeted_status_id: string (nullable = true)\n",
      " |-- geo: string (nullable = true)\n",
      " |-- place: string (nullable = true)\n",
      " |-- contributors: string (nullable = true)\n",
      " |-- retweet_count: string (nullable = true)\n",
      " |-- reply_count: string (nullable = true)\n",
      " |-- favorite_count: long (nullable = true)\n",
      " |-- favorited: integer (nullable = true)\n",
      " |-- retweeted: string (nullable = true)\n",
      " |-- possibly_sensitive: string (nullable = true)\n",
      " |-- num_hashtags: string (nullable = true)\n",
      " |-- num_urls: string (nullable = true)\n",
      " |-- num_mentions: string (nullable = true)\n",
      " |-- created_at: string (nullable = true)\n",
      " |-- timestamp: string (nullable = true)\n",
      " |-- crawled_at: string (nullable = true)\n",
      " |-- updated: string (nullable = true)\n",
      "\n",
      "root\n",
      " |-- 593932392663912449: string (nullable = true)\n",
      " |-- RT @morningJewshow: Speaking about Jews and comedy tonight at Temple Emanu-El in San Francisco. In other words, my High Holidays.: string (nullable = true)\n",
      " |-- <a href=\"http://tapbots.com/tweetbot\" rel=\"nofollow\">Tweetbot for iΟS</a>: string (nullable = true)\n",
      " |-- 678033: string (nullable = true)\n",
      " |-- _c4: string (nullable = true)\n",
      " |-- 05: string (nullable = true)\n",
      " |-- 06: string (nullable = true)\n",
      " |-- _c7: string (nullable = true)\n",
      " |-- 593932168524533760: string (nullable = true)\n",
      " |-- \\N9: string (nullable = true)\n",
      " |-- \\N10: string (nullable = true)\n",
      " |-- _c11: string (nullable = true)\n",
      " |-- _c12: string (nullable = true)\n",
      " |-- 113: string (nullable = true)\n",
      " |-- 014: string (nullable = true)\n",
      " |-- 015: string (nullable = true)\n",
      " |-- _c16: string (nullable = true)\n",
      " |-- _c17: string (nullable = true)\n",
      " |-- \\N18: string (nullable = true)\n",
      " |-- 019: string (nullable = true)\n",
      " |-- 020: string (nullable = true)\n",
      " |-- 121: string (nullable = true)\n",
      " |-- Fri May 01 00:18:11 +0000 2015: string (nullable = true)\n",
      " |-- 2015-05-01 02:18:11: string (nullable = true)\n",
      " |-- 2015-05-01 12:57:1924: string (nullable = true)\n",
      " |-- 2015-05-01 12:57:1925: string (nullable = true)\n",
      "\n"
     ]
    },
    {
     "data": {
      "text/plain": [
       "(None, None)"
      ]
     },
     "execution_count": 6,
     "metadata": {},
     "output_type": "execute_result"
    }
   ],
   "source": [
    "#show dataframe schema\n",
    "df_bot.printSchema(), df_gen.printSchema()"
   ]
  },
  {
   "cell_type": "code",
   "execution_count": 7,
   "id": "fddf7c0f",
   "metadata": {},
   "outputs": [
    {
     "data": {
      "text/plain": [
       "[Row(id=532627591686275072, text='I Pooh - In silenzio 1968 http://t.co/ahvQxUqTws', source='\"<a href=\"\"http://www.facebook.com/twitter\"\" rel=\"\"nofollow\"\">Facebook</a>\"', user_id='24858289', truncated=None, in_reply_to_status_id='0', in_reply_to_user_id='0', in_reply_to_screen_name=None, retweeted_status_id='0', geo=None, place=None, contributors=None, retweet_count='0', reply_count='0', favorite_count=0, favorited=None, retweeted=None, possibly_sensitive=None, num_hashtags='0', num_urls='1', num_mentions='0', created_at='Wed Nov 12 20:14:48 +0000 2014', timestamp='2014-11-12 21:14:48', crawled_at='2014-11-12 21:44:09', updated='2014-11-12 21:44:09'),\n",
       " Row(id=532624255058706432, text='http://t.co/HyI5EQKz6Q', source='\"<a href=\"\"http://www.facebook.com/twitter\"\" rel=\"\"nofollow\"\">Facebook</a>\"', user_id='24858289', truncated=None, in_reply_to_status_id='0', in_reply_to_user_id='0', in_reply_to_screen_name=None, retweeted_status_id='0', geo=None, place=None, contributors=None, retweet_count='0', reply_count='0', favorite_count=0, favorited=None, retweeted=None, possibly_sensitive=None, num_hashtags='0', num_urls='1', num_mentions='0', created_at='Wed Nov 12 20:01:32 +0000 2014', timestamp='2014-11-12 21:01:32', crawled_at='2014-11-12 21:44:09', updated='2014-11-12 21:44:09')]"
      ]
     },
     "execution_count": 7,
     "metadata": {},
     "output_type": "execute_result"
    }
   ],
   "source": [
    "df_bot.head(2)"
   ]
  },
  {
   "cell_type": "code",
   "execution_count": 8,
   "id": "fd404351",
   "metadata": {},
   "outputs": [
    {
     "data": {
      "text/plain": [
       "[Row(593932392663912449='593895316719423488', RT @morningJewshow: Speaking about Jews and comedy tonight at Temple Emanu-El in San Francisco. In other words, my High Holidays.=\"This age/face recognition thing..no reason platforms can't have changing avatars of our actual faces to increase affect/better communication\", <a href=\"http://tapbots.com/tweetbot\" rel=\"nofollow\">Tweetbot for iΟS</a>='<a href=\"http://twitter.com\" rel=\"nofollow\">Twitter Web Client</a>', 678033='678033', _c4=None, 05='0', 06='0', _c7=None, 593932168524533760='0', \\N9='\\\\N', \\N10='\\\\N', _c11=None, _c12=None, 113='0', 014='0', 015='0', _c16=None, _c17=None, \\N18='\\\\N', 019='0', 020='0', 121='0', Fri May 01 00:18:11 +0000 2015='Thu Apr 30 21:50:52 +0000 2015', 2015-05-01 02:18:11='2015-04-30 23:50:52', 2015-05-01 12:57:1924='2015-05-01 12:57:19', 2015-05-01 12:57:1925='2015-05-01 12:57:19'),\n",
       " Row(593932392663912449='593880638069018624', RT @morningJewshow: Speaking about Jews and comedy tonight at Temple Emanu-El in San Francisco. In other words, my High Holidays.=\"Only upside of the moment I can think of is that network news hasn't booked their #Baltimore panels with Bill Cosby.\", <a href=\"http://tapbots.com/tweetbot\" rel=\"nofollow\">Tweetbot for iΟS</a>=None, 678033=None, _c4=None, 05=None, 06=None, _c7=None, 593932168524533760=None, \\N9=None, \\N10=None, _c11=None, _c12=None, 113=None, 014=None, 015=None, _c16=None, _c17=None, \\N18=None, 019=None, 020=None, 121=None, Fri May 01 00:18:11 +0000 2015=None, 2015-05-01 02:18:11=None, 2015-05-01 12:57:1924=None, 2015-05-01 12:57:1925=None)]"
      ]
     },
     "execution_count": 8,
     "metadata": {},
     "output_type": "execute_result"
    }
   ],
   "source": [
    "df_gen.head(2)"
   ]
  },
  {
   "cell_type": "code",
   "execution_count": 129,
   "id": "789705a9",
   "metadata": {},
   "outputs": [],
   "source": [
    "num_of_thread = 5\n",
    "split_weights = [1.0] * num_of_thread"
   ]
  },
  {
   "cell_type": "code",
   "execution_count": 130,
   "id": "3c057029",
   "metadata": {},
   "outputs": [
    {
     "data": {
      "text/plain": [
       "[1.0, 1.0, 1.0, 1.0, 1.0]"
      ]
     },
     "execution_count": 130,
     "metadata": {},
     "output_type": "execute_result"
    }
   ],
   "source": [
    "split_weights"
   ]
  },
  {
   "cell_type": "code",
   "execution_count": 131,
   "id": "c31f8af4",
   "metadata": {},
   "outputs": [],
   "source": [
    "df_bot_splits = df_bot.randomSplit(split_weights, 27)"
   ]
  },
  {
   "cell_type": "code",
   "execution_count": 132,
   "id": "fe07ebf6",
   "metadata": {},
   "outputs": [],
   "source": [
    "counts = [df.count() for df in df_bot_splits]"
   ]
  },
  {
   "cell_type": "code",
   "execution_count": 133,
   "id": "1f6d7f22",
   "metadata": {},
   "outputs": [
    {
     "data": {
      "text/plain": [
       "[13, 26, 22, 18, 21]"
      ]
     },
     "execution_count": 133,
     "metadata": {},
     "output_type": "execute_result"
    }
   ],
   "source": [
    "counts"
   ]
  },
  {
   "cell_type": "code",
   "execution_count": 128,
   "id": "0ad815d9",
   "metadata": {},
   "outputs": [
    {
     "data": {
      "text/plain": [
       "100"
      ]
     },
     "execution_count": 128,
     "metadata": {},
     "output_type": "execute_result"
    }
   ],
   "source": [
    "sum(counts)"
   ]
  },
  {
   "cell_type": "code",
   "execution_count": 82,
   "id": "289a0fea",
   "metadata": {},
   "outputs": [],
   "source": [
    "data_list = [(df_bot_splits[i], i) for i in range(num_of_thread)]"
   ]
  },
  {
   "cell_type": "code",
   "execution_count": 86,
   "id": "47b150f4",
   "metadata": {},
   "outputs": [
    {
     "data": {
      "text/plain": [
       "18"
      ]
     },
     "execution_count": 86,
     "metadata": {},
     "output_type": "execute_result"
    }
   ],
   "source": [
    "len(data_list)\n",
    "data_list[1][0].count()"
   ]
  },
  {
   "cell_type": "code",
   "execution_count": 106,
   "id": "f3b4f53e",
   "metadata": {},
   "outputs": [],
   "source": [
    "def worker_job(args):\n",
    "    #do data processing\n",
    "    #do model training\n",
    "    print(\"{}: Total examples: {}\".format(args[1], args[0].count()))\n",
    "    df = args[0]\n",
    "    for row in df.collect():\n",
    "        print(\"{}: {}\".format(args[1], row[0]))\n",
    "    return args[0].count()\n",
    "    "
   ]
  },
  {
   "cell_type": "code",
   "execution_count": 107,
   "id": "00f9228d",
   "metadata": {},
   "outputs": [
    {
     "name": "stdout",
     "output_type": "stream",
     "text": [
      "1: Total examples: 180: Total examples: 26\n",
      "3: Total examples: 19\n",
      "2: Total examples: 15\n",
      "\n",
      "3: 522845834543501313\n",
      "3: 523202287414833152\n",
      "3: 523930571656151040\n",
      "3: 524624746663903232\n",
      "3: 525000669225582592\n",
      "3: 525007738036690945\n",
      "3: 525027778530672640\n",
      "3: 525339479234859008\n",
      "3: 525340085638942720\n",
      "3: 525342127560359936\n",
      "3: 525353592631599104\n",
      "3: 525953529824165888\n",
      "3: 527073951315689473\n",
      "3: 527183738292416513\n",
      "3: 528260714885312512\n",
      "3: 528839797335687171\n",
      "3: 530618651008069632\n",
      "3: 531892384221908992\n",
      "3: 532627591686275072\n",
      "0: 522455698064818176\n",
      "0: 523523182859653120\n",
      "0: 523549266804232193\n",
      "0: 523558799995838465\n",
      "0: 523889574205194241\n",
      "0: 524286576369475584\n",
      "0: 525154798350663680\n",
      "0: 525342561071013888\n",
      "0: 525874356702826496\n",
      "0: 525986615265468416\n",
      "0: 527184078232367104\n",
      "0: 527184698569932802\n",
      "0: 528611416874708994\n",
      "0: 528860735347384320\n",
      "0: 529151831256338432\n",
      "0: 529358076189896706\n",
      "0: 529970276189372416\n",
      "0: 530422704844079104\n",
      "0: 530455234251091969\n",
      "0: 530456918553526274\n",
      "0: 530692157708197888\n",
      "0: 530818316462718980\n",
      "0: 530966309065195520\n",
      "0: 531204588414590976\n",
      "0: 532297646669852672\n",
      "0: 532624255058706432\n",
      "1: 523530536783183875\n",
      "1: 523530706149187585\n",
      "1: 524424861427728385\n",
      "1: 524631813957115904\n",
      "1: 525737191281262592\n",
      "1: 526106221494140928\n",
      "1: 526296216414720000\n",
      "1: 526303221007265792\n",
      "1: 527508978490945536\n",
      "1: 527948171138580480\n",
      "1: 528446839230849024\n",
      "1: 528842393525960704\n",
      "1: 528864699891216386\n",
      "1: 529354671081914368\n",
      "1: 529358614876946432\n",
      "1: 531201844119625728\n",
      "1: 531205051705212928\n",
      "1: 531564612995788800\n",
      "2: 523200580735762432\n",
      "2: 524623201222291457\n",
      "2: 524987936333627392\n",
      "2: 525873999637917696\n",
      "2: 527074552166486017\n",
      "2: 527152731161894912\n",
      "2: 527436731076071424\n",
      "2: 527947140078006272\n",
      "2: 529356568312422400\n",
      "2: 530330647915921408\n",
      "2: 530691993647988737\n",
      "2: 530800661794160642\n",
      "2: 530818464618151937\n",
      "2: 531204847358713857\n",
      "2: 531892406275543040\n",
      "4: Total examples: 22\n",
      "4: 522449222457901056\n",
      "4: 522449462850244608\n",
      "4: 523382850335551489\n",
      "4: 523549396248829952\n",
      "4: 523926683360194560\n",
      "4: 523930953518178304\n",
      "4: 524074257266270208\n",
      "4: 524631094608793601\n",
      "4: 524631938104324096\n",
      "4: 524988278542704640\n",
      "4: 525154463859113984\n",
      "4: 525738481197535235\n",
      "4: 527509057285160961\n",
      "4: 528663734194274304\n",
      "4: 528833619306217472\n",
      "4: 528834006062624768\n",
      "4: 528993419692355584\n",
      "4: 529356542169329664\n",
      "4: 529968681171046401\n",
      "4: 530803045274488832\n",
      "4: 532295960807100416\n",
      "4: 532513524460052480\n"
     ]
    }
   ],
   "source": [
    "#multitasking using ThreadPool\n",
    "from multiprocessing.pool import ThreadPool\n",
    "pool = ThreadPool(num_of_thread)\n",
    "res = pool.map(worker_job, data_list)"
   ]
  },
  {
   "cell_type": "code",
   "execution_count": 108,
   "id": "ab33abe8",
   "metadata": {},
   "outputs": [
    {
     "data": {
      "text/plain": [
       "[26, 18, 15, 19, 22]"
      ]
     },
     "execution_count": 108,
     "metadata": {},
     "output_type": "execute_result"
    }
   ],
   "source": [
    "res"
   ]
  },
  {
   "cell_type": "code",
   "execution_count": 109,
   "id": "6b9f3ac1",
   "metadata": {},
   "outputs": [
    {
     "name": "stdout",
     "output_type": "stream",
     "text": [
      "0: Total examples: 26\n",
      "0: 522455698064818176\n",
      "0: 523523182859653120\n",
      "0: 523549266804232193\n",
      "0: 523558799995838465\n",
      "0: 523889574205194241\n",
      "0: 524286576369475584\n",
      "0: 525154798350663680\n",
      "0: 525342561071013888\n",
      "0: 525874356702826496\n",
      "0: 525986615265468416\n",
      "0: 527184078232367104\n",
      "0: 527184698569932802\n",
      "0: 528611416874708994\n",
      "0: 528860735347384320\n",
      "0: 529151831256338432\n",
      "0: 529358076189896706\n",
      "0: 529970276189372416\n",
      "0: 530422704844079104\n",
      "0: 530455234251091969\n",
      "0: 530456918553526274\n",
      "0: 530692157708197888\n",
      "0: 530818316462718980\n",
      "0: 530966309065195520\n",
      "0: 531204588414590976\n",
      "0: 532297646669852672\n",
      "0: 532624255058706432\n",
      "1: Total examples: 18\n",
      "1: 523530536783183875\n",
      "1: 523530706149187585\n",
      "1: 524424861427728385\n",
      "1: 524631813957115904\n",
      "1: 525737191281262592\n",
      "1: 526106221494140928\n",
      "1: 526296216414720000\n",
      "1: 526303221007265792\n",
      "1: 527508978490945536\n",
      "1: 527948171138580480\n",
      "1: 528446839230849024\n",
      "1: 528842393525960704\n",
      "1: 528864699891216386\n",
      "1: 529354671081914368\n",
      "1: 529358614876946432\n",
      "1: 531201844119625728\n",
      "1: 531205051705212928\n",
      "1: 531564612995788800\n",
      "2: Total examples: 15\n",
      "2: 523200580735762432\n",
      "2: 524623201222291457\n",
      "2: 524987936333627392\n",
      "2: 525873999637917696\n",
      "2: 527074552166486017\n",
      "2: 527152731161894912\n",
      "2: 527436731076071424\n",
      "2: 527947140078006272\n",
      "2: 529356568312422400\n",
      "2: 530330647915921408\n",
      "2: 530691993647988737\n",
      "2: 530800661794160642\n",
      "2: 530818464618151937\n",
      "2: 531204847358713857\n",
      "2: 531892406275543040\n",
      "3: Total examples: 19\n",
      "3: 522845834543501313\n",
      "3: 523202287414833152\n",
      "3: 523930571656151040\n",
      "3: 524624746663903232\n",
      "3: 525000669225582592\n",
      "3: 525007738036690945\n",
      "3: 525027778530672640\n",
      "3: 525339479234859008\n",
      "3: 525340085638942720\n",
      "3: 525342127560359936\n",
      "3: 525353592631599104\n",
      "3: 525953529824165888\n",
      "3: 527073951315689473\n",
      "3: 527183738292416513\n",
      "3: 528260714885312512\n",
      "3: 528839797335687171\n",
      "3: 530618651008069632\n",
      "3: 531892384221908992\n",
      "3: 532627591686275072\n",
      "4: Total examples: 22\n",
      "4: 522449222457901056\n",
      "4: 522449462850244608\n",
      "4: 523382850335551489\n",
      "4: 523549396248829952\n",
      "4: 523926683360194560\n",
      "4: 523930953518178304\n",
      "4: 524074257266270208\n",
      "4: 524631094608793601\n",
      "4: 524631938104324096\n",
      "4: 524988278542704640\n",
      "4: 525154463859113984\n",
      "4: 525738481197535235\n",
      "4: 527509057285160961\n",
      "4: 528663734194274304\n",
      "4: 528833619306217472\n",
      "4: 528834006062624768\n",
      "4: 528993419692355584\n",
      "4: 529356542169329664\n",
      "4: 529968681171046401\n",
      "4: 530803045274488832\n",
      "4: 532295960807100416\n",
      "4: 532513524460052480\n"
     ]
    }
   ],
   "source": [
    "from threading import Thread\n",
    "for idx in range(num_of_thread):\n",
    "    thread = Thread(target=worker_job, kwargs={'args' : data_list[idx]})\n",
    "    thread.start()\n",
    "    thread.join()"
   ]
  },
  {
   "cell_type": "code",
   "execution_count": 111,
   "id": "95f8b2e6",
   "metadata": {},
   "outputs": [
    {
     "name": "stdout",
     "output_type": "stream",
     "text": [
      "0: Total examples: 26\n",
      "0: 522455698064818176\n",
      "0: 523523182859653120\n",
      "0: 523549266804232193\n",
      "0: 523558799995838465\n",
      "0: 523889574205194241\n",
      "0: 524286576369475584\n",
      "0: 525154798350663680\n",
      "0: 525342561071013888\n",
      "0: 525874356702826496\n",
      "0: 525986615265468416\n",
      "0: 527184078232367104\n",
      "0: 527184698569932802\n",
      "0: 528611416874708994\n",
      "0: 528860735347384320\n",
      "0: 529151831256338432\n",
      "0: 529358076189896706\n",
      "0: 529970276189372416\n",
      "0: 530422704844079104\n",
      "0: 530455234251091969\n",
      "0: 530456918553526274\n",
      "0: 530692157708197888\n",
      "0: 530818316462718980\n",
      "0: 530966309065195520\n",
      "0: 531204588414590976\n",
      "0: 532297646669852672\n",
      "0: 532624255058706432\n",
      "1: Total examples: 18\n",
      "1: 523530536783183875\n",
      "1: 523530706149187585\n",
      "1: 524424861427728385\n",
      "1: 524631813957115904\n",
      "1: 525737191281262592\n",
      "1: 526106221494140928\n",
      "1: 526296216414720000\n",
      "1: 526303221007265792\n",
      "1: 527508978490945536\n",
      "1: 527948171138580480\n",
      "1: 528446839230849024\n",
      "1: 528842393525960704\n",
      "1: 528864699891216386\n",
      "1: 529354671081914368\n",
      "1: 529358614876946432\n",
      "1: 531201844119625728\n",
      "1: 531205051705212928\n",
      "1: 531564612995788800\n",
      "2: Total examples: 15\n",
      "2: 523200580735762432\n",
      "2: 524623201222291457\n",
      "2: 524987936333627392\n",
      "2: 525873999637917696\n",
      "2: 527074552166486017\n",
      "2: 527152731161894912\n",
      "2: 527436731076071424\n",
      "2: 527947140078006272\n",
      "2: 529356568312422400\n",
      "2: 530330647915921408\n",
      "2: 530691993647988737\n",
      "2: 530800661794160642\n",
      "2: 530818464618151937\n",
      "2: 531204847358713857\n",
      "2: 531892406275543040\n",
      "3: Total examples: 19\n",
      "3: 522845834543501313\n",
      "3: 523202287414833152\n",
      "3: 523930571656151040\n",
      "3: 524624746663903232\n",
      "3: 525000669225582592\n",
      "3: 525007738036690945\n",
      "3: 525027778530672640\n",
      "3: 525339479234859008\n",
      "3: 525340085638942720\n",
      "3: 525342127560359936\n",
      "3: 525353592631599104\n",
      "3: 525953529824165888\n",
      "3: 527073951315689473\n",
      "3: 527183738292416513\n",
      "3: 528260714885312512\n",
      "3: 528839797335687171\n",
      "3: 530618651008069632\n",
      "3: 531892384221908992\n",
      "3: 532627591686275072\n",
      "4: Total examples: 22\n",
      "4: 522449222457901056\n",
      "4: 522449462850244608\n",
      "4: 523382850335551489\n",
      "4: 523549396248829952\n",
      "4: 523926683360194560\n",
      "4: 523930953518178304\n",
      "4: 524074257266270208\n",
      "4: 524631094608793601\n",
      "4: 524631938104324096\n",
      "4: 524988278542704640\n",
      "4: 525154463859113984\n",
      "4: 525738481197535235\n",
      "4: 527509057285160961\n",
      "4: 528663734194274304\n",
      "4: 528833619306217472\n",
      "4: 528834006062624768\n",
      "4: 528993419692355584\n",
      "4: 529356542169329664\n",
      "4: 529968681171046401\n",
      "4: 530803045274488832\n",
      "4: 532295960807100416\n",
      "4: 532513524460052480\n"
     ]
    }
   ],
   "source": [
    "from pyspark import InheritableThread\n",
    "\n",
    "for idx in range(num_of_thread):\n",
    "    thread = InheritableThread(target = worker_job, kwargs={'args':data_list[idx]})\n",
    "    thread.start()\n",
    "    thread.join()\n",
    "    "
   ]
  },
  {
   "cell_type": "code",
   "execution_count": null,
   "id": "ae57b0a1",
   "metadata": {},
   "outputs": [],
   "source": [
    "spark.stop()"
   ]
  }
 ],
 "metadata": {
  "kernelspec": {
   "display_name": "Python 3 (ipykernel)",
   "language": "python",
   "name": "python3"
  },
  "language_info": {
   "codemirror_mode": {
    "name": "ipython",
    "version": 3
   },
   "file_extension": ".py",
   "mimetype": "text/x-python",
   "name": "python",
   "nbconvert_exporter": "python",
   "pygments_lexer": "ipython3",
   "version": "3.10.6"
  }
 },
 "nbformat": 4,
 "nbformat_minor": 5
}
