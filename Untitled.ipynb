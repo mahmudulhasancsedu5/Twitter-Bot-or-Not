{
 "cells": [
  {
   "cell_type": "code",
   "execution_count": 13,
   "id": "c4d1a054",
   "metadata": {},
   "outputs": [],
   "source": [
    "import pandas as pd"
   ]
  },
  {
   "cell_type": "code",
   "execution_count": 20,
   "id": "053fe9be",
   "metadata": {},
   "outputs": [],
   "source": [
    "src_dir1 = 'F://TwitterBotDataset//tweet_dataset_full//genuine_tweets//'\n",
    "src_dir2 = 'F://TwitterBotDataset//tweet_dataset_full//bot_tweets//'\n",
    "\n",
    "dst_dir = 'F://TwitterBotDataset//tweet-genuine-data-parts//'\n",
    "file_name1 = 'genuine_tweets_01.csv'\n",
    "file_name2 = 'bot_tweets_01.csv'\n",
    "file_name3 = 'bot_tweets_01.csv'\n",
    "file_name4 = 'bot_tweets_01.csv'"
   ]
  },
  {
   "cell_type": "code",
   "execution_count": 23,
   "id": "43af8c14",
   "metadata": {},
   "outputs": [
    {
     "name": "stdout",
     "output_type": "stream",
     "text": [
      "Number of cols :  26\n",
      "List of column names :  ['593932392663912449', 'RT @morningJewshow: Speaking about Jews and comedy tonight at Temple Emanu-El in San Francisco. In other words, my High Holidays.', '<a href=\\\\http://tapbots.com/tweetbot\\\\\" rel=\\\\\"nofollow\\\\\">Tweetbot for iÎŸS</a>\"', '678033', '', '0', '0', '', '593932168524533760', '\\\\N', '\\\\N', '', '', '1', '0', '0', '', '', '\\\\N', '0', '0', '1', 'Fri May 01 00:18:11 +0000 2015', '2015-05-01 02:18:11', '2015-05-01 12:57:19', '2015-05-01 12:57:19']\n",
      "Number of cols :  25\n",
      "List of column names :  ['id', 'text', 'source', 'user_id', 'truncated', 'in_reply_to_status_id', 'in_reply_to_user_id', 'in_reply_to_screen_name', 'retweeted_status_id', 'geo', 'place', 'contributors', 'retweet_count', 'reply_count', 'favorite_count', 'favorited', 'retweeted', 'possibly_sensitive', 'num_hashtags', 'num_urls', 'num_mentions', 'created_at', 'timestamp', 'crawled_at', 'updated']\n",
      "Number of cols :  25\n",
      "List of column names :  ['id', 'text', 'source', 'user_id', 'truncated', 'in_reply_to_status_id', 'in_reply_to_user_id', 'in_reply_to_screen_name', 'retweeted_status_id', 'geo', 'place', 'contributors', 'retweet_count', 'reply_count', 'favorite_count', 'favorited', 'retweeted', 'possibly_sensitive', 'num_hashtags', 'num_urls', 'num_mentions', 'created_at', 'timestamp', 'crawled_at', 'updated']\n",
      "Number of cols :  25\n",
      "List of column names :  ['id', 'text', 'source', 'user_id', 'truncated', 'in_reply_to_status_id', 'in_reply_to_user_id', 'in_reply_to_screen_name', 'retweeted_status_id', 'geo', 'place', 'contributors', 'retweet_count', 'reply_count', 'favorite_count', 'favorited', 'retweeted', 'possibly_sensitive', 'num_hashtags', 'num_urls', 'num_mentions', 'created_at', 'timestamp', 'crawled_at', 'updated']\n"
     ]
    },
    {
     "ename": "UnicodeDecodeError",
     "evalue": "'charmap' codec can't decode byte 0x9d in position 4510: character maps to <undefined>",
     "output_type": "error",
     "traceback": [
      "\u001b[1;31m---------------------------------------------------------------------------\u001b[0m",
      "\u001b[1;31mUnicodeDecodeError\u001b[0m                        Traceback (most recent call last)",
      "Input \u001b[1;32mIn [23]\u001b[0m, in \u001b[0;36m<cell line: 62>\u001b[1;34m()\u001b[0m\n\u001b[0;32m     57\u001b[0m             roe_count \u001b[38;5;241m=\u001b[39m \u001b[38;5;28mmax\u001b[39m(count, \u001b[38;5;28mlen\u001b[39m(row))\n\u001b[0;32m     60\u001b[0m     \u001b[38;5;28mprint\u001b[39m(\u001b[38;5;124m\"\u001b[39m\u001b[38;5;124mMax value in rows : \u001b[39m\u001b[38;5;124m\"\u001b[39m, \u001b[38;5;28mlen\u001b[39m(list_of_column_names[\u001b[38;5;241m0\u001b[39m]))\n\u001b[1;32m---> 62\u001b[0m \u001b[43mmaxValueInRows\u001b[49m\u001b[43m(\u001b[49m\u001b[43msrc_dir1\u001b[49m\u001b[38;5;241;43m+\u001b[39;49m\u001b[43mfile_name1\u001b[49m\u001b[43m)\u001b[49m\n\u001b[0;32m     63\u001b[0m maxValueInRows(src_dir2\u001b[38;5;241m+\u001b[39mfile_name2)\n\u001b[0;32m     64\u001b[0m maxValueInRows(src_dir2\u001b[38;5;241m+\u001b[39mfile_name3)\n",
      "Input \u001b[1;32mIn [23]\u001b[0m, in \u001b[0;36mmaxValueInRows\u001b[1;34m(file_name)\u001b[0m\n\u001b[0;32m     51\u001b[0m     count \u001b[38;5;241m=\u001b[39m \u001b[38;5;241m0\u001b[39m\n\u001b[0;32m     53\u001b[0m     \u001b[38;5;66;03m# loop to iterate through the rows of csv\u001b[39;00m\n\u001b[1;32m---> 54\u001b[0m     \u001b[38;5;28;01mfor\u001b[39;00m row \u001b[38;5;129;01min\u001b[39;00m csv_reader:\n\u001b[0;32m     55\u001b[0m \n\u001b[0;32m     56\u001b[0m         \u001b[38;5;66;03m# adding the first row\u001b[39;00m\n\u001b[0;32m     57\u001b[0m         roe_count \u001b[38;5;241m=\u001b[39m \u001b[38;5;28mmax\u001b[39m(count, \u001b[38;5;28mlen\u001b[39m(row))\n\u001b[0;32m     60\u001b[0m \u001b[38;5;28mprint\u001b[39m(\u001b[38;5;124m\"\u001b[39m\u001b[38;5;124mMax value in rows : \u001b[39m\u001b[38;5;124m\"\u001b[39m, \u001b[38;5;28mlen\u001b[39m(list_of_column_names[\u001b[38;5;241m0\u001b[39m]))\n",
      "File \u001b[1;32m~\\AppData\\Local\\Programs\\Python\\Python310\\lib\\encodings\\cp1252.py:23\u001b[0m, in \u001b[0;36mIncrementalDecoder.decode\u001b[1;34m(self, input, final)\u001b[0m\n\u001b[0;32m     22\u001b[0m \u001b[38;5;28;01mdef\u001b[39;00m \u001b[38;5;21mdecode\u001b[39m(\u001b[38;5;28mself\u001b[39m, \u001b[38;5;28minput\u001b[39m, final\u001b[38;5;241m=\u001b[39m\u001b[38;5;28;01mFalse\u001b[39;00m):\n\u001b[1;32m---> 23\u001b[0m     \u001b[38;5;28;01mreturn\u001b[39;00m \u001b[43mcodecs\u001b[49m\u001b[38;5;241;43m.\u001b[39;49m\u001b[43mcharmap_decode\u001b[49m\u001b[43m(\u001b[49m\u001b[38;5;28;43minput\u001b[39;49m\u001b[43m,\u001b[49m\u001b[38;5;28;43mself\u001b[39;49m\u001b[38;5;241;43m.\u001b[39;49m\u001b[43merrors\u001b[49m\u001b[43m,\u001b[49m\u001b[43mdecoding_table\u001b[49m\u001b[43m)\u001b[49m[\u001b[38;5;241m0\u001b[39m]\n",
      "\u001b[1;31mUnicodeDecodeError\u001b[0m: 'charmap' codec can't decode byte 0x9d in position 4510: character maps to <undefined>"
     ]
    }
   ],
   "source": [
    "\n",
    "# importing the csv library\n",
    "import csv\n",
    "\n",
    "\n",
    "def printColumns(file_name):\n",
    "    # opening the csv file by specifying\n",
    "    # the location\n",
    "    # with the variable name as csv_file\n",
    "    with open(file_name) as csv_file:\n",
    "\n",
    "        # creating an object of csv reader\n",
    "        # with the delimiter as ,\n",
    "        csv_reader = csv.reader(csv_file, delimiter = ',')\n",
    "\n",
    "        # list to store the names of columns\n",
    "        list_of_column_names = []\n",
    "\n",
    "        # loop to iterate through the rows of csv\n",
    "        for row in csv_reader:\n",
    "\n",
    "            # adding the first row\n",
    "            list_of_column_names.append(row)\n",
    "\n",
    "            # breaking the loop after the\n",
    "            # first iteration itself\n",
    "            break\n",
    "\n",
    "\n",
    "    print(\"Number of cols : \", len(list_of_column_names[0]))\n",
    "    # printing the result\n",
    "    print(\"List of column names : \", list_of_column_names[0])\n",
    "\n",
    "    \n",
    "printColumns(src_dir1+file_name1)\n",
    "printColumns(src_dir2+file_name2)\n",
    "printColumns(src_dir2+file_name3)\n",
    "printColumns(src_dir2+file_name4)\n",
    "\n",
    "\n",
    "# def maxValueInRows(file_name):\n",
    "#     # opening the csv file by specifying\n",
    "#     # the location\n",
    "#     # with the variable name as csv_file\n",
    "#     with open(file_name) as csv_file:\n",
    "\n",
    "#         # creating an object of csv reader\n",
    "#         # with the delimiter as ,\n",
    "#         csv_reader = csv.reader(csv_file, delimiter = ',')\n",
    "\n",
    "#         # list to store the names of columns\n",
    "#         count = 0\n",
    "\n",
    "#         # loop to iterate through the rows of csv\n",
    "#         for row in csv_reader:\n",
    "\n",
    "#             # adding the first row\n",
    "#             roe_count = max(count, len(row))\n",
    "\n",
    "\n",
    "#     print(\"Max value in rows : \", len(list_of_column_names[0]))\n",
    "\n",
    "# maxValueInRows(src_dir1+file_name1)\n",
    "# maxValueInRows(src_dir2+file_name2)\n",
    "# maxValueInRows(src_dir2+file_name3)\n",
    "# maxValueInRows(src_dir2+file_name4)\n"
   ]
  },
  {
   "cell_type": "code",
   "execution_count": null,
   "id": "1c47d6d8",
   "metadata": {},
   "outputs": [],
   "source": [
    "rows"
   ]
  }
 ],
 "metadata": {
  "kernelspec": {
   "display_name": "Python 3 (ipykernel)",
   "language": "python",
   "name": "python3"
  },
  "language_info": {
   "codemirror_mode": {
    "name": "ipython",
    "version": 3
   },
   "file_extension": ".py",
   "mimetype": "text/x-python",
   "name": "python",
   "nbconvert_exporter": "python",
   "pygments_lexer": "ipython3",
   "version": "3.10.6"
  }
 },
 "nbformat": 4,
 "nbformat_minor": 5
}
